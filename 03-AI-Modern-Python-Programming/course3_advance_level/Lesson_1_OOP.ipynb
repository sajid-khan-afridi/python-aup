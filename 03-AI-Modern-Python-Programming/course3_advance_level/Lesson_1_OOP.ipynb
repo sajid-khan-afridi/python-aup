{
  "cells": [
    {
      "cell_type": "markdown",
      "source": [
        "# **1. Exploring the Internal Structure of a Python Program: A Deep Dive into Objects and Classes**"
      ],
      "metadata": {
        "id": "OOTO07COU_e4"
      },
      "id": "OOTO07COU_e4"
    },
    {
      "cell_type": "markdown",
      "id": "05e7cad5",
      "metadata": {
        "id": "05e7cad5"
      },
      "source": [
        "\n",
        "\n",
        "In Python, **everything is an object**—including integers, strings, lists, and even functions. Objects are created using **classes**, which act like blueprints specifying the data (variables) and behavior (methods) that objects have.\n",
        "\n",
        "Everything is an object in Python: Even primitive types like int, str, or float are represented as objects (instances of their respective classes).\n",
        "\n",
        "\n",
        "---\n",
        "\n",
        "## 1.1 Variables and Objects\n",
        "\n",
        "- When you do something like `x = 10`, Python creates an integer object `10` and then **binds** the variable name `x` to that object.\n",
        "\n",
        "\n",
        "## 1.2 Advanced Ideas\n",
        "\n",
        "- **`type` is a Class**: Even `int`, `str`, and your custom classes are instances of the built-in `type`.\n",
        "- **Metaclasses**: “Classes for classes” that let you modify how classes themselves are created (rarely needed for beginners).\n",
        "\n",
        "---\n",
        "\n",
        "- Objects (e.g., 10, \"hello\") → Instances of classes (int, str)  \n",
        "- Classes (e.g., int, str) → Instances of the `type` metaclass  \n",
        "- Metaclass (`type`) → Instance of itself (self-referential)\n",
        "\n"
      ]
    },
    {
      "cell_type": "code",
      "source": [
        "# Everything in Python is an object\n",
        "\n",
        "x : int = 10\n",
        "\n",
        "print(type(x)) #output: <class 'int'>\n",
        "# Explanation:\n",
        "# - `x` is an instance (object) of the `int` class.\n",
        "# - The output `<class 'int'>` shows the type/class of `x`.\n",
        "\n",
        "\n",
        "print(type(int)) #output: <class 'type'>\n",
        "# Explanation:\n",
        "# - The `int` class itself is an instance of the `type` metaclass.\n",
        "# - The output `<class 'type'>` shows that classes in Python are objects created by the `type` metaclass\n",
        "\n",
        "print(type(type))\n",
        "# Explanation:\n",
        "# - The `type` metaclass is its own instance (self-referential).\n",
        "# - The `type` metaclass is itself an object, and its type is `type` (it is its own metaclass).\n",
        "# - This makes `type` the foundation of Python's type system—it creates and defines all classes (including itself).\n",
        "# - The output `<class 'type'>` confirms the self-referential nature of the `type` metaclass."
      ],
      "metadata": {
        "id": "De_5QM--mcFS",
        "colab": {
          "base_uri": "https://localhost:8080/"
        },
        "outputId": "cbbecad9-31f4-41d7-9d74-6da816bb1745"
      },
      "id": "De_5QM--mcFS",
      "execution_count": 1,
      "outputs": [
        {
          "output_type": "stream",
          "name": "stdout",
          "text": [
            "<class 'int'>\n",
            "<class 'type'>\n",
            "<class 'type'>\n"
          ]
        }
      ]
    },
    {
      "cell_type": "code",
      "source": [
        "x.__class__"
      ],
      "metadata": {
        "id": "aVNIa0Is79Hc",
        "colab": {
          "base_uri": "https://localhost:8080/"
        },
        "outputId": "1c207a9d-8853-4c78-94c4-e575712586b2"
      },
      "id": "aVNIa0Is79Hc",
      "execution_count": 2,
      "outputs": [
        {
          "output_type": "execute_result",
          "data": {
            "text/plain": [
              "int"
            ]
          },
          "metadata": {},
          "execution_count": 2
        }
      ]
    },
    {
      "cell_type": "markdown",
      "id": "46849ee0",
      "metadata": {
        "id": "46849ee0"
      },
      "source": [
        "## 1.3 Functions as Objects\n",
        "\n",
        "- Functions are treated like any other object (integers, strings, etc.)\n",
        "\n",
        "- The output <class 'function'> shows functions are instances of the function class\n",
        "\n",
        "### Example\n"
      ]
    },
    {
      "cell_type": "code",
      "execution_count": 7,
      "id": "6ef53b39",
      "metadata": {
        "id": "6ef53b39",
        "colab": {
          "base_uri": "https://localhost:8080/"
        },
        "outputId": "2bae2814-6ac9-4cda-b605-3f71dbe2d201"
      },
      "outputs": [
        {
          "output_type": "stream",
          "name": "stdout",
          "text": [
            "<class 'function'>\n",
            "<class 'type'>\n",
            "Hello, Basit!\n"
          ]
        }
      ],
      "source": [
        "# Functions are first-class objects in Python. They can be:\n",
        "# - Assigned to variables\n",
        "# - Passed as arguments\n",
        "# - Stored in data structures\n",
        "\n",
        "# 1. Define a function\n",
        "def greet(name):\n",
        "    return f\"Hello, {name}!\"\n",
        "\n",
        "# 2. Assign the function object to a variable (not calling it - no parentheses)\n",
        "say_hello = greet\n",
        "\n",
        "# 3. Verify the type (shows it's a function object)\n",
        "print(type(greet))  # Output: <class 'function'>\n",
        "print(type(greet.__class__))  # Output:<class 'type'>\n",
        "\n",
        "# 4. Use the variable to call the function\n",
        "result = say_hello(\"Basit\")\n",
        "print(result)  # Output: \"Hello, Basit!\"\n",
        "\n"
      ]
    },
    {
      "cell_type": "markdown",
      "id": "69b2b31b",
      "metadata": {
        "id": "69b2b31b"
      },
      "source": [
        "## 1.4 Classes and Instances\n",
        "\n",
        "A **class** is a template or blueprint for creating objects. It defines the properties (data) and actions (methods) they have. An **instance** (or “object”) is a concrete realization of that class.\n",
        "\n",
        "A **class** is a template for creating objects. An **instance** is a concrete realization of that class.\n",
        "\n"
      ]
    },
    {
      "cell_type": "code",
      "execution_count": 8,
      "id": "f66b0405",
      "metadata": {
        "id": "f66b0405",
        "colab": {
          "base_uri": "https://localhost:8080/"
        },
        "outputId": "0c148f9d-ac39-4d5f-df9f-5a8b0997da81"
      },
      "outputs": [
        {
          "output_type": "stream",
          "name": "stdout",
          "text": [
            "<class '__main__.SampleClass'>\n",
            "<class 'type'>\n",
            "<class 'int'>\n"
          ]
        }
      ],
      "source": [
        "class SampleClass: # CamelCase\n",
        "    pass           #'pass' is a placeholder for an empty block\n",
        "\n",
        "obj1 = SampleClass()  # my_sample is an instance or object of SampleClass\n",
        "print(type(obj1))\n",
        "print(type(obj1.__class__))\n",
        "\n",
        "x = 10\n",
        "print(type(x))"
      ]
    },
    {
      "cell_type": "code",
      "source": [
        "%%writefile my_program.py\n",
        "# This magic command writes to a file (Jupyter specific)\n",
        "class Dog:\n",
        "    pass\n",
        "\n",
        "my_dog = Dog()\n",
        "# print(type(my_dog))  # Output: <class '__main__.Dog'>"
      ],
      "metadata": {
        "id": "qTgRgVon9vUk",
        "colab": {
          "base_uri": "https://localhost:8080/"
        },
        "outputId": "23edd5c4-7e95-45bf-ba20-63cbe8c4b187"
      },
      "id": "qTgRgVon9vUk",
      "execution_count": 9,
      "outputs": [
        {
          "output_type": "stream",
          "name": "stdout",
          "text": [
            "Writing my_program.py\n"
          ]
        }
      ]
    },
    {
      "cell_type": "code",
      "source": [
        "from my_program import Dog  # Now this works!\n",
        "store_dog = Dog()\n",
        "print(type(store_dog))  # Output: <class 'my_program.Dog'>"
      ],
      "metadata": {
        "id": "KmF-aZNs8YsO",
        "colab": {
          "base_uri": "https://localhost:8080/"
        },
        "outputId": "1ba771fa-2e2a-4ddb-db6a-07333f4db505"
      },
      "id": "KmF-aZNs8YsO",
      "execution_count": 10,
      "outputs": [
        {
          "output_type": "stream",
          "name": "stdout",
          "text": [
            "<class 'my_program.Dog'>\n"
          ]
        }
      ]
    },
    {
      "cell_type": "markdown",
      "id": "b44f7b87",
      "metadata": {
        "id": "b44f7b87"
      },
      "source": [
        "### 1.4.1 `__init__` Method and `self`\n",
        "- `__init__`: Constructor method that initializes new instances.\n",
        "- `__init__` is a special method (often called the constructor) that **automatically runs** whenever you create an instance or object of a class.\n",
        "- `self`: Reference to the current instance (conventionally named self).\n",
        "- The `self` parameter in Python methods refers to **the instance** on which the method is called.  \n",
        "- By convention, we always name this parameter `self`, but technically you could name it anything.\n",
        "\n",
        "**Example**:\n"
      ]
    },
    {
      "cell_type": "code",
      "execution_count": 18,
      "id": "9327e49c",
      "metadata": {
        "id": "9327e49c",
        "colab": {
          "base_uri": "https://localhost:8080/"
        },
        "outputId": "6fa2e9b9-2fe7-460d-8dcc-b4146b5d7e43"
      },
      "outputs": [
        {
          "output_type": "stream",
          "name": "stdout",
          "text": [
            "<__main__.Dog object at 0x7b7d942d4890>\n",
            "<__main__.Dog object at 0x7b7d9670c710>\n"
          ]
        }
      ],
      "source": [
        "class Dog:\n",
        "    def __init__(self, mybreed):\n",
        "        self.breed = mybreed  # 'breed' is an attribute\n",
        "        print(self) #<__main__.Dog object at 0x7a04b807fb10>\n",
        "\n",
        "    def bark(self):\n",
        "        print(\"Woof!\")\n",
        "\n",
        "    def change_breed(self, new_breed):\n",
        "        self.breed = new_breed\n",
        "\n",
        "# my_dog = Dog()  # This would cause an error (missing argument)\n",
        "\n",
        "my_dog = Dog(\"Lab\")\n",
        "# my_dog.bark()\n",
        "my_dog2 = Dog(mybreed='german shiferd') # keyword arguments\n",
        "my_dog.change_breed(\"Lab2\")"
      ]
    },
    {
      "cell_type": "code",
      "source": [
        "print(my_dog.breed)"
      ],
      "metadata": {
        "colab": {
          "base_uri": "https://localhost:8080/"
        },
        "id": "KHTb8do9Ufoi",
        "outputId": "67e8d7bc-e262-4570-e3d1-889cd6c81fe8"
      },
      "id": "KHTb8do9Ufoi",
      "execution_count": 19,
      "outputs": [
        {
          "output_type": "stream",
          "name": "stdout",
          "text": [
            "Lab2\n"
          ]
        }
      ]
    },
    {
      "cell_type": "code",
      "source": [
        "print(my_dog)\n",
        "print(my_dog2)\n",
        "\n",
        "print(my_dog.breed)\n",
        "print(my_dog2.breed)"
      ],
      "metadata": {
        "colab": {
          "base_uri": "https://localhost:8080/"
        },
        "id": "AD8tQggGS0Cl",
        "outputId": "d7fb49a7-3d76-4428-a3a7-b49249611d87"
      },
      "id": "AD8tQggGS0Cl",
      "execution_count": 17,
      "outputs": [
        {
          "output_type": "stream",
          "name": "stdout",
          "text": [
            "<__main__.Dog object at 0x7b7d96d64610>\n",
            "<__main__.Dog object at 0x7b7d96e50b90>\n"
          ]
        }
      ]
    },
    {
      "cell_type": "code",
      "source": [
        "class Dog:\n",
        "    # The __init__ method sets up the dog's name and age\n",
        "    def __init__(self, name, age):\n",
        "        self.name = name  # self.name refers to this specific dog's name\n",
        "        self.age = age    # self.age refers to this specific dog's age\n",
        "\n",
        "    # A method to make the dog bark\n",
        "    def bark(self):\n",
        "        return f\"{self.name} says Woof!\"\n",
        "\n",
        "    # A method to increase the dog's age\n",
        "    def have_birthday(self):\n",
        "        self.age += 1  # Access and modify the specific dog's age\n",
        "        return f\"Happy Birthday, {self.name}! You are now {self.age} years old.\"\n",
        "\n",
        "# Create an instance of the Dog class\n",
        "my_dog = Dog(\"Buddy\", 3)\n",
        "\n",
        "#"
      ],
      "metadata": {
        "id": "Zs3F_jJHsnyw"
      },
      "id": "Zs3F_jJHsnyw",
      "execution_count": 25,
      "outputs": []
    },
    {
      "cell_type": "code",
      "source": [
        "# # Call methods on the instance\n",
        "print(my_dog.bark())  # Buddy says Woof!\n",
        "print(my_dog.have_birthday())  # Happy Birthday, Buddy! You are now 4 years old.\n"
      ],
      "metadata": {
        "colab": {
          "base_uri": "https://localhost:8080/"
        },
        "id": "9z2nX6o7W1Xk",
        "outputId": "ef450eca-bda0-4d5c-b2a0-735af186087e"
      },
      "id": "9z2nX6o7W1Xk",
      "execution_count": 26,
      "outputs": [
        {
          "output_type": "stream",
          "name": "stdout",
          "text": [
            "Buddy says Woof!\n",
            "Happy Birthday, Buddy! You are now 4 years old.\n"
          ]
        }
      ]
    },
    {
      "cell_type": "markdown",
      "source": [
        "## 1.4.2 Adding Attribute and Method\n",
        "\n",
        "While possible, dynamically adding attributes/methods is generally discouraged:"
      ],
      "metadata": {
        "id": "AcDFNXIFoeTU"
      },
      "id": "AcDFNXIFoeTU"
    },
    {
      "cell_type": "code",
      "source": [
        "# Add attribute\n",
        "my_dog.age += 10\n",
        "print(my_dog.age)  # Output: 10"
      ],
      "metadata": {
        "colab": {
          "base_uri": "https://localhost:8080/"
        },
        "id": "j0tAbfKxXfQ6",
        "outputId": "2513518c-b457-440e-c680-4ce6fa3446bb"
      },
      "id": "j0tAbfKxXfQ6",
      "execution_count": 27,
      "outputs": [
        {
          "output_type": "stream",
          "name": "stdout",
          "text": [
            "14\n"
          ]
        }
      ]
    },
    {
      "cell_type": "code",
      "source": [
        "my_dog.nickname = \"Tom\""
      ],
      "metadata": {
        "id": "3TAccx6RXn8A"
      },
      "id": "3TAccx6RXn8A",
      "execution_count": 28,
      "outputs": []
    },
    {
      "cell_type": "code",
      "source": [
        "print(my_dog.nickname)"
      ],
      "metadata": {
        "colab": {
          "base_uri": "https://localhost:8080/"
        },
        "id": "W_VtlqSbX2gO",
        "outputId": "fd6eec76-113e-4ccf-bc7a-523fbb8822a8"
      },
      "id": "W_VtlqSbX2gO",
      "execution_count": 29,
      "outputs": [
        {
          "output_type": "stream",
          "name": "stdout",
          "text": [
            "Tom\n"
          ]
        }
      ]
    },
    {
      "cell_type": "code",
      "source": [
        "\n",
        "\n",
        "\n",
        "# Define the method\n",
        "\n",
        "\n",
        "import types\n",
        "\n",
        "\n",
        "def jumps(self):\n",
        "    return f\"{self.name} jumps high!\"\n",
        "\n",
        "# Bind the method to the object\n",
        "# Adding method dynamically (rare use case)\n",
        "\n",
        "my_dog.jumps = types.MethodType(jumps, my_dog)\n",
        "\n",
        "# Call the method\n",
        "print(my_dog.jumps())  # Output: \"Lab jumps high!\""
      ],
      "metadata": {
        "id": "gyOZ2f49nWZo",
        "colab": {
          "base_uri": "https://localhost:8080/"
        },
        "outputId": "0dacc339-801a-4f26-cde4-c014c043d37e"
      },
      "id": "gyOZ2f49nWZo",
      "execution_count": 32,
      "outputs": [
        {
          "output_type": "stream",
          "name": "stdout",
          "text": [
            "Buddy jumps high!\n"
          ]
        }
      ]
    },
    {
      "cell_type": "markdown",
      "source": [
        "# **2. Introduction to Procedural Programming vs. Object-Oriented Programming (OOP)**\n"
      ],
      "metadata": {
        "id": "BqMagOuzUz04"
      },
      "id": "BqMagOuzUz04"
    },
    {
      "cell_type": "markdown",
      "source": [
        "- **Procedural Programming**: Focuses on sequential steps and functions.\n",
        "\n",
        "- **Procedural Programming**: Focuses on writing code in a **top-down**, **step-by-step** manner. As code grows, functions can multiply, and data might be scattered, leading to “spaghetti code.”\n",
        "- **Object-Oriented Programming (OOP)**: Organizes code into objects with data and behavior.\n",
        "- **Object-Oriented Programming (OOP)**: Groups data and behaviors into **classes** and **objects**, supporting better organization, maintainability, and scalability.\n",
        "\n",
        "---\n",
        "\n",
        "## 2.1 Procedural Programming\n",
        "\n",
        "### Definition\n",
        "A style where code is primarily a set of procedures (functions) operating on data. Functions and data are often kept separate.\n",
        "\n",
        "**Key Points**:\n",
        "- Functions and data are separate (e.g., global variables and standalone functions).  \n",
        "- Straightforward for smaller scripts, but can become unwieldy as the project grows.\n",
        "- Code often runs in a simple, top-down flow.  \n",
        "- Can lead to *spaghetti code* if too many functions and global data are mixed.\n",
        "\n",
        "**Analogy**: Think of a small kitchen where all ingredients (data) are shared on open shelves and cooks (functions) can modify them freely. This is easy when there’s little going on, but chaos arises as the restaurant grows—too many cooks, too many shelves, and no clear structure."
      ],
      "metadata": {
        "id": "lUjfCwvWfLxZ"
      },
      "id": "lUjfCwvWfLxZ"
    },
    {
      "cell_type": "markdown",
      "id": "9b8e2f5a",
      "metadata": {
        "id": "9b8e2f5a"
      },
      "source": [
        "## 2.2 Object-Oriented Programming (OOP)\n",
        "\n",
        "### Definition\n",
        "Organizes data and behaviors into **classes** (blueprints) from which objects are created.\n",
        "\n",
        "**Key Points**:\n",
        "- **Classes and Objects**: A class defines attributes and methods, and objects are instances of that class.  \n",
        "- **Encapsulation**: Data (attributes) and behaviors (methods) live together, protecting data from unwanted changes.  \n",
        "- **Reusability**: Inheritance allows new classes to build on existing ones, reducing duplication.\n",
        "\n",
        "\n",
        "**Analogy**: Imagine a well-structured bakery where each station (class/object) has its own tools and methods. You can add a new station or update an existing one without disrupting the entire bakery."
      ]
    },
    {
      "cell_type": "markdown",
      "source": [
        "# **3. In Python, Everything is an Object**"
      ],
      "metadata": {
        "id": "UMMCdCuIUh1D"
      },
      "id": "UMMCdCuIUh1D"
    },
    {
      "cell_type": "markdown",
      "id": "5db6a8ba",
      "metadata": {
        "id": "5db6a8ba"
      },
      "source": [
        "\n",
        "We’ll illustrate **classes** and **objects** using a playful analogy—**building toy animals**.\n",
        "\n",
        "## 3.1 What is a Class? 🏗️\n",
        "\n",
        "A **class** is like a **plan or recipe** that describes **how** to build a toy (in our analogy). It doesn’t create the toy by itself but outlines what the toy will have (attributes) and what it can do (methods).\n",
        "\n",
        "### Example Blueprint\n",
        "- **Plan Name**: `Animal`\n",
        "- **Attributes**: `name`, `sound`\n",
        "- **Methods**: `make_sound()`, `give_hug()`\n",
        "\n"
      ]
    },
    {
      "cell_type": "code",
      "execution_count": 40,
      "id": "b2f17e13",
      "metadata": {
        "id": "b2f17e13"
      },
      "outputs": [],
      "source": [
        "class Animal:\n",
        "    def __init__(self, name, sound):\n",
        "        self.name = name\n",
        "        self.sound = sound\n",
        "        self.hugs_given = 0\n",
        "        # nickname = \"Basit\"\n",
        "\n",
        "    def give_hug(self):\n",
        "        self.hugs_given += 1\n",
        "        return \"❤️ *squeeze*\"\n",
        "\n",
        "    def make_sound(self):\n",
        "        print(f\"{self.name} goes {self.sound}\")\n"
      ]
    },
    {
      "cell_type": "code",
      "source": [
        "obj = Animal(\"Dog\",\"Woof\")\n",
        "\n",
        "# obj = Animal()\n",
        "\n",
        "# obj.name = \"Dog\"\n",
        "# obj.sound = \"Woof\"\n",
        "# obj.hugs_given = 0"
      ],
      "metadata": {
        "id": "NMdcMBAffsAl"
      },
      "id": "NMdcMBAffsAl",
      "execution_count": 35,
      "outputs": []
    },
    {
      "cell_type": "code",
      "source": [
        "obj2 = Animal(\"Cat\",\"Meow\")"
      ],
      "metadata": {
        "id": "Z7e5sTRgg52p"
      },
      "id": "Z7e5sTRgg52p",
      "execution_count": 36,
      "outputs": []
    },
    {
      "cell_type": "code",
      "source": [
        "obj.give_hug()\n",
        "obj.make_sound()"
      ],
      "metadata": {
        "colab": {
          "base_uri": "https://localhost:8080/"
        },
        "id": "9UAPQq48gQJn",
        "outputId": "5779c968-830d-49f3-d784-d44a5e44e619"
      },
      "id": "9UAPQq48gQJn",
      "execution_count": 37,
      "outputs": [
        {
          "output_type": "stream",
          "name": "stdout",
          "text": [
            "Dog goes Woof\n"
          ]
        }
      ]
    },
    {
      "cell_type": "markdown",
      "id": "d859e4f8",
      "metadata": {
        "id": "d859e4f8"
      },
      "source": [
        "\n",
        "- `__init__`: The “magic setup” (constructor) that runs when an `Animal` is created.\n",
        "- `self.name` / `self.sound`: Attributes unique to each `Animal`.\n",
        "- `give_hug()` and `make_sound()`: Methods an `Animal` can perform.\n",
        "\n",
        "---\n",
        "\n",
        "## 3.2 Creating Actual Toy Animals (Objects) 🐻🐸\n",
        "\n",
        "Once we have the **plan** (`Animal` class), we can create **instances** (real toys):\n",
        "\n"
      ]
    },
    {
      "cell_type": "code",
      "execution_count": 42,
      "id": "230becd0",
      "metadata": {
        "id": "230becd0",
        "colab": {
          "base_uri": "https://localhost:8080/"
        },
        "outputId": "07bb7e20-e3e1-4f2a-f10b-6c9bf37b3e50"
      },
      "outputs": [
        {
          "output_type": "stream",
          "name": "stdout",
          "text": [
            "Animal\n",
            "<__main__.Animal object at 0x7b7d94349650>\n"
          ]
        }
      ],
      "source": [
        "bear = Animal(\"Bear\", \"Roar\")\n",
        "frog = Animal(\"Frog\", \"Ribbit\")\n",
        "\n",
        "print(bear.__class__.__name__)  # <__main__.Animal object at 0x...>\n",
        "print(frog)  # <__main__.Animal object at 0x...>\n"
      ]
    },
    {
      "cell_type": "markdown",
      "id": "59a646e2",
      "metadata": {
        "id": "59a646e2"
      },
      "source": [
        "\n",
        "You now have two distinct **objects**:\n",
        "- `bear`, which knows its own `name` and `sound` is `\"Roar\"`.\n",
        "- `frog`, with `name` `\"Frog\"` and `sound` `\"Ribbit\"`.\n",
        "\n",
        "### Checking Attributes\n",
        "\n"
      ]
    },
    {
      "cell_type": "code",
      "execution_count": 48,
      "id": "57947c2b",
      "metadata": {
        "id": "57947c2b",
        "colab": {
          "base_uri": "https://localhost:8080/"
        },
        "outputId": "53d992df-bb5a-4490-e5ca-e3a9b1426a4b"
      },
      "outputs": [
        {
          "output_type": "stream",
          "name": "stdout",
          "text": [
            "Bear\n",
            "Roar\n",
            "❤️ *squeeze*\n",
            "5\n"
          ]
        }
      ],
      "source": [
        "print(bear.name)\n",
        "print(bear.sound)\n",
        "bear.give_hug()\n",
        "result = bear.give_hug()\n",
        "print(result)\n",
        "print(bear.hugs_given)"
      ]
    },
    {
      "cell_type": "code",
      "source": [
        "print(frog.name)\n",
        "print(frog.sound)"
      ],
      "metadata": {
        "id": "fNK5KZfeR40P",
        "colab": {
          "base_uri": "https://localhost:8080/"
        },
        "outputId": "f9b47112-9075-40eb-8214-5d3a034feeca"
      },
      "id": "fNK5KZfeR40P",
      "execution_count": 49,
      "outputs": [
        {
          "output_type": "stream",
          "name": "stdout",
          "text": [
            "Frog\n",
            "Ribbit\n"
          ]
        }
      ]
    },
    {
      "cell_type": "markdown",
      "id": "3b2885e3",
      "metadata": {
        "id": "3b2885e3"
      },
      "source": [
        "\n",
        "### Calling Methods\n",
        "\n"
      ]
    },
    {
      "cell_type": "code",
      "execution_count": 50,
      "id": "97dadf05",
      "metadata": {
        "id": "97dadf05",
        "colab": {
          "base_uri": "https://localhost:8080/"
        },
        "outputId": "fc932653-0df0-402a-d199-7514bbba93d8"
      },
      "outputs": [
        {
          "output_type": "stream",
          "name": "stdout",
          "text": [
            "Bear goes Roar\n",
            "Frog goes Ribbit\n",
            "❤️ *squeeze*\n"
          ]
        }
      ],
      "source": [
        "bear.make_sound()\n",
        "frog.make_sound()\n",
        "\n",
        "print(bear.give_hug())\n"
      ]
    },
    {
      "cell_type": "markdown",
      "id": "3ec24f63",
      "metadata": {
        "id": "3ec24f63"
      },
      "source": [
        "\n",
        "---\n",
        "\n",
        "## 3.3 Example with a ToyBox\n",
        "\n",
        "You can store multiple toys (objects) inside another object or data structure:\n",
        "\n"
      ]
    },
    {
      "cell_type": "code",
      "execution_count": 52,
      "id": "fff15388",
      "metadata": {
        "id": "fff15388"
      },
      "outputs": [],
      "source": [
        "class ToyBox:\n",
        "    def __init__(self):\n",
        "        self.toys = []\n",
        "\n",
        "    def add_toy(self, toy):\n",
        "        self.toys.append(toy)\n",
        "        print(toy)\n",
        "        print(f\"Added {toy.name} to the toy box!\")\n",
        "\n",
        "    def play_with_all(self):\n",
        "        for item in self.toys:\n",
        "            print(f\"Playing with {item.name}\")\n",
        "            print(item.give_hug())\n"
      ]
    },
    {
      "cell_type": "markdown",
      "id": "0023b979",
      "metadata": {
        "id": "0023b979"
      },
      "source": [
        "\n",
        "**Usage**:\n"
      ]
    },
    {
      "cell_type": "code",
      "execution_count": 57,
      "id": "a2d8327a",
      "metadata": {
        "id": "a2d8327a",
        "colab": {
          "base_uri": "https://localhost:8080/"
        },
        "outputId": "d85f136e-dff5-4edd-9820-660a9599eeac"
      },
      "outputs": [
        {
          "output_type": "stream",
          "name": "stdout",
          "text": [
            "<__main__.Animal object at 0x7b7d6152d750>\n",
            "Added Black Bear to the toy box!\n",
            "<__main__.Animal object at 0x7b7d614d14d0>\n",
            "Added Brown Bear to the toy box!\n",
            "Playing with Black Bear\n",
            "❤️ *squeeze*\n",
            "Playing with Brown Bear\n",
            "❤️ *squeeze*\n"
          ]
        }
      ],
      "source": [
        "my_box = ToyBox()\n",
        "bear1 = Animal(\"Black Bear\", \"Woof\")\n",
        "bear2 = Animal(\"Brown Bear\", \"Woof\")\n",
        "\n",
        "my_box.add_toy(bear1)\n",
        "my_box.add_toy(bear2)\n",
        "\n",
        "my_box.play_with_all()\n",
        "\n",
        "\n"
      ]
    },
    {
      "cell_type": "markdown",
      "id": "ed62d793",
      "metadata": {
        "id": "ed62d793"
      },
      "source": [
        "\n",
        "**Output**:\n",
        "Added Black Bear to the toy box!\n",
        "Added Brown Bear to the toy box!\n",
        "Playing with Black Bear\n",
        "Playing with Brown Bear\n",
        "(`hugs_given` increments, though we don’t see it printed—feel free to add logging or print statements.)\n",
        "\n",
        "---\n",
        "\n",
        "\n"
      ]
    },
    {
      "cell_type": "markdown",
      "source": [
        "# Continue from here................................"
      ],
      "metadata": {
        "id": "Rmtm1PlBnnjN"
      },
      "id": "Rmtm1PlBnnjN"
    },
    {
      "cell_type": "markdown",
      "source": [
        "# **4. Magic Methods in Classes**"
      ],
      "metadata": {
        "id": "IJee0D9ZUKT4"
      },
      "id": "IJee0D9ZUKT4"
    },
    {
      "cell_type": "markdown",
      "source": [
        "\n",
        "\n",
        "Python classes have “magic methods”—special methods with double underscores (like `__init__`, `__repr__`, and so on). These give your objects extra, built-in capabilities and features.\n",
        "\n",
        "We call these **\"dunder\"** (double underscore) methods or **magic methods** because they do special things automatically.\n",
        "\n",
        "## 4.1 `__init__`: The Builder Method\n",
        "\n",
        "We’ve already used `__init__`. It’s automatically called when you create a new instance:"
      ],
      "metadata": {
        "id": "XrBpi1_fQdpU"
      },
      "id": "XrBpi1_fQdpU"
    },
    {
      "cell_type": "code",
      "execution_count": null,
      "id": "bb583b05",
      "metadata": {
        "id": "bb583b05"
      },
      "outputs": [],
      "source": [
        "bear = Animal(\"Bear\", \"Roar\")  # __init__ behind the scenes"
      ]
    },
    {
      "cell_type": "markdown",
      "id": "335e7871",
      "metadata": {
        "id": "335e7871"
      },
      "source": [
        "\n",
        "---\n",
        "\n",
        "## 4.2 `__repr__`: A Developer-Friendly Representation\n",
        "\n",
        "`__repr__` returns a **string representation** of the object, often used for debugging or logging. Without it, printing an object might show `<Animal object at 0x...>`. With `__repr__`, you can see something more meaningful:\n",
        "\n"
      ]
    },
    {
      "cell_type": "code",
      "source": [
        "class Animal:\n",
        "    def __init__(self, name, sound):\n",
        "        self.name = name\n",
        "        self.sound = sound\n",
        "\n",
        "    def make_sound(self):\n",
        "        print(f\"{self.name} goes {self.sound}\")\n",
        "\n",
        "bear = Animal(\"Bear\", \"Roar\")\n",
        "print(bear)  # <__main__.Animal object at 0x...>"
      ],
      "metadata": {
        "id": "7JNiBZK337zy"
      },
      "id": "7JNiBZK337zy",
      "execution_count": null,
      "outputs": []
    },
    {
      "cell_type": "code",
      "execution_count": null,
      "id": "a712b562",
      "metadata": {
        "id": "a712b562"
      },
      "outputs": [],
      "source": [
        "class Animal:\n",
        "    def __init__(self, name, sound):\n",
        "        self.name = name\n",
        "        self.sound = sound\n",
        "\n",
        "    def make_sound(self):\n",
        "        print(f\"{self.name} goes {self.sound}\")\n",
        "\n",
        "    def __repr__(self):\n",
        "        return f\"Animal(name='{self.name}', sound='{self.sound}')\"\n"
      ]
    },
    {
      "cell_type": "markdown",
      "id": "6664ba7c",
      "metadata": {
        "id": "6664ba7c"
      },
      "source": [
        "\n",
        "Now:\n"
      ]
    },
    {
      "cell_type": "code",
      "execution_count": null,
      "id": "712c46ad",
      "metadata": {
        "id": "712c46ad"
      },
      "outputs": [],
      "source": [
        "bear = Animal(\"Bear\", \"Roar\")\n",
        "print(bear)       # Animal(name='Bear', sound='Roar')\n"
      ]
    },
    {
      "cell_type": "markdown",
      "id": "bffee5e0",
      "metadata": {
        "id": "bffee5e0"
      },
      "source": [
        "\n",
        "---\n",
        "\n",
        "## 4.3 `__str__`: A User-Friendly Description\n",
        "\n",
        "`__str__` is similar to `__repr__`, but it’s meant to be a more **user-friendly** or **“pretty”** string. If both `__repr__` and `__str__` are defined, Python uses `__str__` when you call `print()`:\n",
        "\n"
      ]
    },
    {
      "cell_type": "code",
      "execution_count": null,
      "id": "515bba2c",
      "metadata": {
        "id": "515bba2c"
      },
      "outputs": [],
      "source": [
        "class Animal:\n",
        "    def __init__(self, name, sound):\n",
        "        self.name = name\n",
        "        self.sound = sound\n",
        "\n",
        "    def __repr__(self):\n",
        "        return f\"Animal(name='{self.name}', sound='{self.sound}')\"\n",
        "\n",
        "    def __str__(self):\n",
        "        return f\"This is a {self.name} that goes '{self.sound}'!\"\n"
      ]
    },
    {
      "cell_type": "code",
      "source": [
        "bear1 = Animal(\"Bear\", \"Roar\")\n",
        "print(bear1)       # Animal(name='Bear', sound='Roar')\n"
      ],
      "metadata": {
        "id": "shP_PebT4q1S"
      },
      "id": "shP_PebT4q1S",
      "execution_count": null,
      "outputs": []
    },
    {
      "cell_type": "code",
      "source": [
        "print(Animal(name='Wolf', sound='Growl'))"
      ],
      "metadata": {
        "id": "92VkmLq_5Asv"
      },
      "id": "92VkmLq_5Asv",
      "execution_count": null,
      "outputs": []
    },
    {
      "cell_type": "markdown",
      "id": "e08c935d",
      "metadata": {
        "id": "e08c935d"
      },
      "source": [
        "\n",
        "---\n",
        "\n",
        "## 4.4 `__add__`: Defining Custom “+” Behavior\n",
        "\n",
        "You can define how objects combine with `+` by implementing `__add__`. For example, combine two animals to create a third “hybrid”:\n",
        "\n"
      ]
    },
    {
      "cell_type": "code",
      "execution_count": null,
      "id": "b43f396a",
      "metadata": {
        "id": "b43f396a"
      },
      "outputs": [],
      "source": [
        "class Animal:\n",
        "    def __init__(self, name, sound):\n",
        "        self.name = name\n",
        "        self.sound = sound\n",
        "\n",
        "    def __repr__(self):\n",
        "        return f\"Animal(name='{self.name}', sound='{self.sound}')\"\n",
        "\n",
        "    def __str__(self):\n",
        "        return f\"This is a {self.name} that goes '{self.sound}'!\"\n",
        "\n",
        "    def __add__(self, other):\n",
        "        return Animal(self.name + \"-\" + other.name, self.sound + \"-\" + other.sound)\n",
        "\n",
        "lion = Animal(\"Lion\", \"Roar\")\n",
        "tiger = Animal(\"Tiger\", \"Growl\")\n",
        "\n",
        "liger = lion + tiger\n",
        "print(liger)  # This is a Lion-Tiger that goes 'Roar-Growl'!\n"
      ]
    },
    {
      "cell_type": "markdown",
      "source": [
        "\n",
        "---\n",
        "\n",
        "# **5. Introduction to Object-Oriented Programming (OOP)**\n"
      ],
      "metadata": {
        "id": "9eByT7J-UWkd"
      },
      "id": "9eByT7J-UWkd"
    },
    {
      "cell_type": "markdown",
      "id": "496d521d",
      "metadata": {
        "id": "496d521d"
      },
      "source": [
        "\n",
        "## 5.1 What is OOP?\n",
        "\n",
        "**OOP** stands for Object-Oriented Programming. It's a programming paradigm that organizes software design around objects rather than actions and data rather than logic . In OOP, objects are instances of classes, which define their properties (attributes or fields) and behaviors (methods or functions). This approach promotes modularity, reusability, and easier maintenance of code.\n",
        "\n",
        "----\n",
        "\n",
        "Imagine you want to create a virtual world where you can make cars, animals, and people—all sorts of things! You don’t want to create everything from scratch every time; instead, you want to create a **plan** for each type of thing so you can make as many as you want quickly and easily. That's where **Object-Oriented Programming (OOP)** comes in.\n",
        "\n",
        "----\n",
        "In OOP:\n",
        "- A **class** is a blueprint,\n",
        "- An **object** is an instance of that class,\n",
        "- **Methods** are functions belonging to that class,\n",
        "- **Attributes** are data stored in the object.\n",
        "\n",
        "Popular OOP languages include Python, Java, and C++.\n",
        "\n",
        "**Why OOP?**\n",
        "- **Reuse**: Write once, create many instances.\n",
        "- **Organization**: Group related data and functions together.\n",
        "- **Modeling Real Life**: Classes can mirror real-world entities.\n",
        "\n",
        "---\n",
        "\n",
        "## 5.2 Basic Example\n",
        "\n"
      ]
    },
    {
      "cell_type": "code",
      "execution_count": null,
      "id": "969076cf",
      "metadata": {
        "id": "969076cf"
      },
      "outputs": [],
      "source": [
        "class Car:\n",
        "    def __init__(self, color, brand):\n",
        "        self.color = color\n",
        "        self.brand = brand\n",
        "\n",
        "    def drive(self):\n",
        "        print(f\"The {self.color} {self.brand} is driving!\")\n",
        "\n",
        "my_car = Car(\"red\", \"Toyota\")\n",
        "your_car = Car(\"blue\", \"Honda\")\n",
        "\n",
        "my_car.drive()   # The red Toyota is driving!\n",
        "your_car.drive() # The blue Honda is driving!\n"
      ]
    },
    {
      "cell_type": "markdown",
      "id": "c133e790",
      "metadata": {
        "id": "c133e790"
      },
      "source": [
        "\n",
        "---\n",
        "\n",
        "## 5.3 Four Pillars of OOP\n",
        "\n",
        "1. **Encapsulation**  \n",
        "2. **Inheritance**  \n",
        "3. **Polymorphism**  \n",
        "4. **Abstraction**\n",
        "\n",
        "---\n",
        "\n",
        "### 5.3.1 Encapsulation\n",
        "\n",
        "Bundling data and methods, controlling access.\n",
        "\n",
        "**Encapsulation** in Python involves bundling an object's data (variables) and methods (functions) into a single unit—the class. This ensures that the object’s internal state remains protected and can only be accessed or modified through predefined interfaces, such as public methods.\n",
        "\n",
        "A helpful **analogy** is to imagine a toy inside a protective box. You interact with the toy using specific buttons on the box’s exterior (like calling methods), but you cannot directly access or alter its internal mechanisms (private data). Encapsulation enforces this controlled interaction, promoting security and modularity in code.\n",
        "\n",
        "#### Example: Private Attributes\n",
        "Although Python doesn’t enforce privacy in the same way as some languages, using double underscores (`__`) is a **convention** for private attributes:\n",
        "\n"
      ]
    },
    {
      "cell_type": "code",
      "execution_count": null,
      "id": "4f35f8ed",
      "metadata": {
        "id": "4f35f8ed"
      },
      "outputs": [],
      "source": [
        "class Toy:\n",
        "    def __init__(self, name, sound):\n",
        "        self.name = name      # Public attribute\n",
        "        self.__sound = sound  # Private attribute (using __)\n",
        "\n",
        "    def make_sound(self):\n",
        "        print(f\"{self.name} says {self.__sound}\")\n",
        "\n",
        "    # def __repr__(self) -> str:\n",
        "    #     return f\"Toy(name='{self.name}', sound='{self.__sound}')\"\n",
        "\n",
        "my_toy = Toy(\"Teddy Bear\", \"Growl\")\n",
        "my_toy.make_sound()  # Output: Teddy Bear says Growl\n",
        "\n",
        "# my_toy.make_sound()  # Output: Teddy Bear says Growl\n"
      ]
    },
    {
      "cell_type": "code",
      "source": [
        "# print(my_toy)\n",
        "# my_toy.__sound = \"Loud\"  # This will not change __sound\n",
        "# print(my_toy)"
      ],
      "metadata": {
        "id": "hHHRKZMTwc1A"
      },
      "id": "hHHRKZMTwc1A",
      "execution_count": null,
      "outputs": []
    },
    {
      "cell_type": "code",
      "source": [
        "print(my_toy.name)\n",
        "my_toy.__sound"
      ],
      "metadata": {
        "id": "fuv49jOcwfh2"
      },
      "id": "fuv49jOcwfh2",
      "execution_count": null,
      "outputs": []
    },
    {
      "cell_type": "markdown",
      "source": [
        "\n",
        "- Here, `__sound` is **private**, meaning no one outside can change it.\n",
        "- You can only interact with it through the method `make_sound()`.\n",
        "\n",
        "### **More Encapsulation Example**\n",
        "\n",
        "Consider a **Bank Account** class where we want to keep the balance private:"
      ],
      "metadata": {
        "id": "m0FSIanSwto6"
      },
      "id": "m0FSIanSwto6"
    },
    {
      "cell_type": "code",
      "source": [
        "class BankAccount:\n",
        "    def __init__(self, account_holder, balance):\n",
        "        self.account_holder = account_holder\n",
        "        self.__balance = balance  # Private attribute\n",
        "\n",
        "    def deposit(self, amount):\n",
        "        if amount > 0:\n",
        "            self.__balance += amount\n",
        "            print(f\"Deposited {amount}. New balance is {self.__balance}\")\n",
        "        else:\n",
        "            print(\"Deposit amount must be positive.\")\n",
        "\n",
        "    def get_balance(self):\n",
        "        return self.__balance\n",
        "\n",
        "# Creating an account\n",
        "my_account = BankAccount(\"John Doe\", 1000)\n",
        "print(my_account.get_balance())\n",
        "my_account.deposit(500)\n",
        "print(my_account.get_balance())"
      ],
      "metadata": {
        "id": "ttG1PuOrwvY1"
      },
      "id": "ttG1PuOrwvY1",
      "execution_count": null,
      "outputs": []
    },
    {
      "cell_type": "markdown",
      "source": [
        "- The **balance** is kept private to ensure no one can change it directly without using the proper method."
      ],
      "metadata": {
        "id": "G1A-5lAvw0Sc"
      },
      "id": "G1A-5lAvw0Sc"
    },
    {
      "cell_type": "markdown",
      "id": "d7184201",
      "metadata": {
        "id": "d7184201"
      },
      "source": [
        "### 5.3.2 **Pillar 2: Inheritance**\n",
        "\n",
        "Deriving new classes from existing ones.\n",
        "\n",
        "**Inheritance** means that one class can borrow properties and behaviors from another. If you have a `Vehicle` class, a `Car` can inherit from it, meaning you don’t need to write all the car features from scratch—you just extend the existing class.\n",
        "\n",
        "Think of it as **getting some features from your parents**.\n",
        "\n",
        "- `__init__` is the constructor method responsible for initializing the object's state.\n",
        "- `super()` is a function used to call methods (including constructors) from the parent class within the subclass.\n"
      ]
    },
    {
      "cell_type": "code",
      "execution_count": null,
      "id": "4c018db6",
      "metadata": {
        "id": "4c018db6"
      },
      "outputs": [],
      "source": [
        "class Vehicle:\n",
        "    def __init__(self, brand):\n",
        "        self.brand = brand\n",
        "\n",
        "    def honk(self):\n",
        "        print(\"Beep beep!\")\n",
        "\n",
        "class ElectricCar(Vehicle):  # Car inherits from Vehicle\n",
        "    def __init__(self, brand, color):\n",
        "        super().__init__(brand) # super\n",
        "        self.color = color\n",
        "\n",
        "my_car = ElectricCar(\"Tesla\", \"red\")\n",
        "my_car.honk()\n",
        "\n",
        "\n"
      ]
    },
    {
      "cell_type": "markdown",
      "source": [
        "1. **`__init__` (Constructor Method)**:\n",
        "   - `__init__` is a special method in Python classes that is automatically called when a new instance (object) of the class is created.\n",
        "   - Its primary purpose is to initialize the object's state by setting initial values for its attributes.\n",
        "   - This method is where you typically perform initialization tasks such as assigning values to instance variables based on arguments passed to the constructor.\n",
        "\n",
        "2. **`super()` (Super() function)**:\n",
        "   - `super()` is a built-in function in Python used to call methods and constructors from a parent class (superclass) within a subclass (derived class).\n",
        "   - It allows you to explicitly call methods and constructors of the parent class to reuse code or extend functionality without duplicating it in the subclass.\n",
        "   - It is often used inside the `__init__` method of a subclass to invoke the constructor of the parent class and initialize inherited attributes."
      ],
      "metadata": {
        "id": "rqUSo7rgxNBq"
      },
      "id": "rqUSo7rgxNBq"
    },
    {
      "cell_type": "markdown",
      "source": [
        "### **More Inheritance Example**\n",
        "\n",
        "Let's say we have a `Person` class, and we want to create a `Student` class that inherits from `Person`:\n"
      ],
      "metadata": {
        "id": "i65KTZORxQ7u"
      },
      "id": "i65KTZORxQ7u"
    },
    {
      "cell_type": "code",
      "source": [
        "class Person:\n",
        "    def __init__(self, name, age):\n",
        "        self.name = name\n",
        "        self.age = age\n",
        "\n",
        "    def introduce(self):\n",
        "        print(f\"Hello, my name is {self.name} and I am {self.age} years old.\")\n",
        "\n",
        "class Student(Person):\n",
        "    def __init__(self, name, age, student_id):\n",
        "        super().__init__(name, age)\n",
        "        self.student_id = student_id\n",
        "\n",
        "    def study(self):\n",
        "        print(f\"{self.name} is studying.\")\n",
        "\n",
        "student = Student(\"Alice\", 20, \"S12345\")\n",
        "student.introduce()\n",
        "student.study()\n"
      ],
      "metadata": {
        "id": "UunLQqhmxStQ"
      },
      "id": "UunLQqhmxStQ",
      "execution_count": null,
      "outputs": []
    },
    {
      "cell_type": "markdown",
      "source": [
        "- The `Student` class **inherits** from `Person`, meaning it can introduce itself and also has additional behavior, like studying."
      ],
      "metadata": {
        "id": "QA4NIZgSxtF6"
      },
      "id": "QA4NIZgSxtF6"
    },
    {
      "cell_type": "markdown",
      "id": "26b6a1df",
      "metadata": {
        "id": "26b6a1df"
      },
      "source": [
        "### 5.3.3 Pillar 3: Polymorphism\n",
        "\n",
        "Same interface for different underlying forms.\n",
        "\n",
        "**Polymorphism** means **many forms**. It lets you use the same word to mean different things in different contexts. For example, the `make_sound()` function might make a dog bark and a cat meow.\n",
        "\n",
        "Think of it as **different toys that all make sounds, but different sounds**.\n",
        "\n",
        "Example:\n",
        "\n",
        "- The same function name, `make_sound()`, works differently for each animal.\n",
        "\n"
      ]
    },
    {
      "cell_type": "code",
      "execution_count": null,
      "id": "53a567aa",
      "metadata": {
        "id": "53a567aa"
      },
      "outputs": [],
      "source": [
        "\n",
        "class Animal:\n",
        "    def make_sound(self):\n",
        "        pass\n",
        "\n",
        "class Dog(Animal):\n",
        "    def make_sound(self):\n",
        "        print(\"Woof!\")\n",
        "\n",
        "class Cat(Animal):\n",
        "    def make_sound(self):\n",
        "        print(\"Meow!\")\n",
        "\n",
        "animals = [Dog(), Cat()]\n",
        "for animal in animals:\n",
        "    animal.make_sound()\n",
        "\n"
      ]
    },
    {
      "cell_type": "markdown",
      "source": [
        "### **More Polymorphism Example**\n",
        "\n",
        "Let's say we have different shapes, and each shape can calculate its area in a different way:\n"
      ],
      "metadata": {
        "id": "UXLHhT_PyCkr"
      },
      "id": "UXLHhT_PyCkr"
    },
    {
      "cell_type": "code",
      "source": [
        "class Shape:\n",
        "    def area(self):\n",
        "        pass\n",
        "\n",
        "class Rectangle(Shape):\n",
        "    def __init__(self, width, height):\n",
        "        self.width = width\n",
        "        self.height = height\n",
        "\n",
        "    def area(self):\n",
        "        return self.width * self.height\n",
        "\n",
        "class Circle(Shape):\n",
        "    def __init__(self, radius):\n",
        "        self.radius = radius\n",
        "\n",
        "    def area(self):\n",
        "        return 3.14 * self.radius * self.radius\n",
        "\n",
        "shapes = [Rectangle(4, 5), Circle(3)]\n",
        "for shape in shapes:\n",
        "    print(shape.area())\n"
      ],
      "metadata": {
        "id": "M2VrAh6EyGBY"
      },
      "id": "M2VrAh6EyGBY",
      "execution_count": null,
      "outputs": []
    },
    {
      "cell_type": "markdown",
      "source": [
        "- The `area()` method is **polymorphic**, meaning it works differently for each shape.\n"
      ],
      "metadata": {
        "id": "eZ6rmeYsyJ-n"
      },
      "id": "eZ6rmeYsyJ-n"
    },
    {
      "cell_type": "markdown",
      "id": "034c0ae0",
      "metadata": {
        "id": "034c0ae0"
      },
      "source": [
        "### 5.3.4 **Pillar 4: Abstraction**\n",
        "\n",
        "Hiding complex implementation details.\n",
        "\n",
        "**Abstraction** means **hiding the complicated stuff** and only showing what is necessary. It makes using objects easier by not showing all the details of how they work.\n",
        "\n",
        "Think of it as **a TV remote**. You press buttons to change channels, but you don’t need to know the technology inside.\n",
        "\n",
        "- The `Shape` class hides the details of how different shapes calculate area. You just need to use `area()`.\n",
        "\n",
        "Abstraction means **hiding complex details** and exposing only necessary parts. Python supports abstraction using **abstract base classes (ABC)** and the `@abstractmethod` decorator.\n",
        "\n"
      ]
    },
    {
      "cell_type": "code",
      "execution_count": null,
      "id": "66472652",
      "metadata": {
        "id": "66472652"
      },
      "outputs": [],
      "source": [
        "from abc import ABC, abstractmethod\n",
        "\n",
        "class Shape(ABC):  # ABC stands for Abstract Base Class\n",
        "    @abstractmethod\n",
        "    def calculate_area(self):\n",
        "        pass\n",
        "\n",
        "# Shape is an abstract base class (ABC) that defines a method calculate_area() using the @abstractmethod\n",
        "# decorator from the abc module.\n",
        "# An abstract method is a method that is declared but contains no implementation.\n",
        "# It must be overridden in any subclass that inherits from Shape.\n",
        "\n",
        "import math\n",
        "\n",
        "class Circle(Shape):\n",
        "    def __init__(self, radius):\n",
        "        self.radius = radius\n",
        "\n",
        "    def calculate_area(self):\n",
        "        return math.pi * self.radius ** 2\n",
        "\n",
        "class Rectangle(Shape):\n",
        "    def __init__(self, width, height):\n",
        "        self.width = width\n",
        "        self.height = height\n",
        "\n",
        "    def calculate_area(self):\n",
        "        return self.width * self.height\n",
        "\n",
        "# Usage example\n",
        "circle = Circle(5)\n",
        "rectangle = Rectangle(3, 4)\n",
        "\n",
        "print(\"Area of circle:\", circle.calculate_area())\n",
        "print(\"Area of rectangle:\", rectangle.calculate_area())\n"
      ]
    },
    {
      "cell_type": "markdown",
      "source": [
        "\n",
        "### **More Abstraction Example**\n",
        "\n",
        "Imagine we want to create different types of payment methods, but we don't want users to worry about the details:\n",
        "\n",
        "In this example, we have an abstract base class `Payment` that defines a common interface for different payment methods. Each payment method subclass (`CreditCardPayment` and `PayPalPayment`) implements the `pay()` method according to its specific logic.\n",
        "\n"
      ],
      "metadata": {
        "id": "MmGolP6HylG4"
      },
      "id": "MmGolP6HylG4"
    },
    {
      "cell_type": "code",
      "source": [
        "from abc import ABC, abstractmethod\n",
        "\n",
        "class Payment(ABC):\n",
        "    @abstractmethod\n",
        "    def pay(self, amount):\n",
        "        pass\n",
        "\n",
        "class CreditCardPayment(Payment):\n",
        "    def pay(self, amount):\n",
        "        print(f\"Paid {amount} using Credit Card.\")\n",
        "\n",
        "class PayPalPayment(Payment):\n",
        "    def pay(self, amount):\n",
        "        print(f\"Paid {amount} using PayPal.\")\n",
        "\n",
        "payment_methods = [CreditCardPayment(), PayPalPayment()]\n",
        "for method in payment_methods:\n",
        "    method.pay(100)"
      ],
      "metadata": {
        "id": "j3FlAygzynfe"
      },
      "id": "j3FlAygzynfe",
      "execution_count": null,
      "outputs": []
    },
    {
      "cell_type": "markdown",
      "source": [
        "- Here, `Payment` is abstract, and users only interact with the `pay()` method without needing to know how each payment method works.\n"
      ],
      "metadata": {
        "id": "jbcrmcQAyt8-"
      },
      "id": "jbcrmcQAyt8-"
    },
    {
      "cell_type": "markdown",
      "source": [
        "#### Benefits of Abstraction in This Example\n",
        "\n",
        "- **Flexibility and Extensibility**: Adding new payment methods (e.g., `BitcoinPayment`, `ApplePayPayment`) would involve creating new subclasses of `Payment` and implementing `pay()`, without modifying existing code.\n",
        "- **Code Reusability**: The `Payment` abstraction allows us to reuse the `pay()` method across different payment methods while maintaining a consistent interface.\n",
        "- **Encapsulation**: Details of how payments are processed (`CreditCardPayment` or `PayPalPayment`) are encapsulated within their respective classes, abstracting away complexity from the client code."
      ],
      "metadata": {
        "id": "wxUdmNbZyz7o"
      },
      "id": "wxUdmNbZyz7o"
    },
    {
      "cell_type": "markdown",
      "source": [
        "\n",
        "## **Recap**\n",
        "\n",
        "- **Class**: A blueprint to create objects.\n",
        "- **Object**: A real thing made from a class.\n",
        "- **Encapsulation**: Keeping all the data and functions inside one box.\n",
        "- **Inheritance**: Getting features from a parent class.\n",
        "- **Polymorphism**: Using the same function in different ways for different objects.\n",
        "- **Abstraction**: Hiding complex details and showing only the essentials.\n",
        "\n",
        "OOP helps us create **organized, reusable**, and **easy-to-understand**, **scalable** programs by thinking of our code like real-world objects. 🎉\n",
        "\n",
        "By adding more examples and exploring each concept deeply, you can build a strong foundation in OOP, making you a more **professional** and **confident** programmer!\n",
        "\n"
      ],
      "metadata": {
        "id": "OyBI1nMizCDZ"
      },
      "id": "OyBI1nMizCDZ"
    },
    {
      "cell_type": "markdown",
      "source": [
        "## Best Practices and Conclusion\n",
        "\n",
        "- Use OOP to model complex systems with clear structure.\n",
        "\n",
        "- Prefer composition over inheritance where possible.\n",
        "\n",
        "- Use magic methods to make classes Pythonic.\n",
        "\n",
        "- Keep classes focused on a single responsibility.\n",
        "\n",
        "OOP in Python enables you to write modular, reusable, and maintainable code by organizing data and behavior into objects. 🚀"
      ],
      "metadata": {
        "id": "ANFASzEH_nkb"
      },
      "id": "ANFASzEH_nkb"
    },
    {
      "cell_type": "markdown",
      "source": [
        "# 6 Project\n",
        "\n",
        "### **Beginner-Friendly OOP Project: Mini Zoo Simulator 🦁🐘**\n",
        "\n",
        "### **Project Overview**  \n",
        "Create a simple zoo management system demonstrating classes, inheritance, magic methods, and all four OOP pillars. Features 3 animal types, happiness tracking, and hybrid animal creation.\n",
        "\n",
        "---\n",
        "\n",
        "### **Step-by-Step Instructions**  \n",
        "\n",
        "#### **1. Base Animal Class (Encapsulation + Magic Methods)**"
      ],
      "metadata": {
        "id": "ZZUFRBIshzG7"
      },
      "id": "ZZUFRBIshzG7"
    },
    {
      "cell_type": "code",
      "source": [
        "class Animal:\n",
        "    def __init__(self, name, sound):\n",
        "        self.name = name\n",
        "        self.sound = sound\n",
        "        self.__happiness = 50  # Private attribute\n",
        "\n",
        "    def make_sound(self):\n",
        "        print(f\"{self.name} says {self.sound}!\")\n",
        "\n",
        "    def feed(self):\n",
        "        self.__happiness += 10\n",
        "        print(f\"{self.name} enjoys the meal! Happiness +10\")\n",
        "\n",
        "    # Magic methods\n",
        "    def __repr__(self):\n",
        "        return f\"Animal(name='{self.name}', sound='{self.sound}')\"\n",
        "\n",
        "    def __str__(self):\n",
        "        return f\"Meet {self.name} the {self.__class__.__name__}!\"\n",
        "\n",
        "    def __add__(self, other):\n",
        "        hybrid_name = self.name + \"-\" + other.name\n",
        "        hybrid_sound = self.sound + \"-\" + other.sound\n",
        "        return Animal(hybrid_name, hybrid_sound)"
      ],
      "metadata": {
        "id": "0oNaIa_wiQRG"
      },
      "id": "0oNaIa_wiQRG",
      "execution_count": null,
      "outputs": []
    },
    {
      "cell_type": "markdown",
      "source": [
        "#### **2. Create Specific Animals (Inheritance + Polymorphism)**"
      ],
      "metadata": {
        "id": "2Ec8q4QEiWWx"
      },
      "id": "2Ec8q4QEiWWx"
    },
    {
      "cell_type": "code",
      "source": [
        "class Lion(Animal):\n",
        "    def __init__(self, name):\n",
        "        super().__init__(name, \"ROAR\")\n",
        "\n",
        "    def make_sound(self):  # Polymorphism\n",
        "        print(f\"{self.name} lets out a mighty {self.sound}!\")\n",
        "\n",
        "class Elephant(Animal):\n",
        "    def __init__(self, name):\n",
        "        super().__init__(name, \"TRUMPET\")\n",
        "\n",
        "class Monkey(Animal):\n",
        "    def __init__(self, name):\n",
        "        super().__init__(name, \"OOH OOH AH AH\")"
      ],
      "metadata": {
        "id": "yLhJkoIviXGZ"
      },
      "id": "yLhJkoIviXGZ",
      "execution_count": null,
      "outputs": []
    },
    {
      "cell_type": "markdown",
      "source": [
        "#### **3. Zoo Manager Class (Abstraction)**"
      ],
      "metadata": {
        "id": "NGi11enwikVu"
      },
      "id": "NGi11enwikVu"
    },
    {
      "cell_type": "code",
      "source": [
        "class Zoo:\n",
        "    def __init__(self):\n",
        "        self.animals = []\n",
        "\n",
        "    def add_animal(self, animal):\n",
        "        self.animals.append(animal)\n",
        "        print(f\"Added {animal.name} to zoo!\")\n",
        "\n",
        "    def daily_show(self):\n",
        "        print(\"\\n=== Zoo Daily Show ===\")\n",
        "        for animal in self.animals:\n",
        "            animal.make_sound()\n",
        "\n",
        "\n"
      ],
      "metadata": {
        "id": "R3bNHIVyilFt"
      },
      "id": "R3bNHIVyilFt",
      "execution_count": null,
      "outputs": []
    },
    {
      "cell_type": "markdown",
      "source": [
        "#### **4. Main Program (Putting It All Together)**"
      ],
      "metadata": {
        "id": "T1lOytRmivUD"
      },
      "id": "T1lOytRmivUD"
    },
    {
      "cell_type": "code",
      "source": [
        "# Create zoo\n",
        "my_zoo = Zoo()\n",
        "\n",
        "# Create animals\n",
        "simba = Lion(\"Simba\")\n",
        "dumbo = Elephant(\"Dumbo\")\n",
        "george = Monkey(\"George\")\n",
        "\n",
        "# Add to zoo\n",
        "my_zoo.add_animal(simba)\n",
        "my_zoo.add_animal(dumbo)\n",
        "\n",
        "# Demonstrate features\n",
        "simba.feed()  # Encapsulation (happiness hidden)\n",
        "print(simba)  # __str__ magic method\n",
        "\n",
        "# Create hybrid using __add__\n",
        "hybrid = simba + george\n",
        "my_zoo.add_animal(hybrid)\n",
        "\n",
        "# Polymorphic behavior\n",
        "my_zoo.daily_show()"
      ],
      "metadata": {
        "colab": {
          "base_uri": "https://localhost:8080/"
        },
        "id": "j66A2chki2XD",
        "outputId": "4d2dec64-0a54-4b3f-ebac-d1f0c1bf1d0c"
      },
      "id": "j66A2chki2XD",
      "execution_count": null,
      "outputs": [
        {
          "output_type": "stream",
          "name": "stdout",
          "text": [
            "Added Simba to zoo!\n",
            "Added Dumbo to zoo!\n",
            "Simba enjoys the meal! Happiness +10\n",
            "Meet Simba the Lion!\n",
            "Added Simba-George to zoo!\n",
            "\n",
            "=== Zoo Daily Show ===\n",
            "Simba lets out a mighty ROAR!\n",
            "Dumbo says TRUMPET!\n",
            "Simba-George says ROAR-OOH OOH AH AH!\n"
          ]
        }
      ]
    },
    {
      "cell_type": "markdown",
      "source": [
        "### **Expected Output**\n",
        "```\n",
        "Added Simba to zoo!\n",
        "Added Dumbo to zoo!\n",
        "Simba enjoys the meal! Happiness +10\n",
        "Meet Simba the Lion!\n",
        "Added Simba-George to zoo!\n",
        "\n",
        "=== Zoo Daily Show ===\n",
        "Simba lets out a mighty ROAR!\n",
        "Dumbo says TRUMPET!\n",
        "Simba-George says ROAR-OOH OOH AH AH!\n",
        "```\n",
        "\n",
        "---\n",
        "\n",
        "### **Learning Outcomes**  \n",
        "✅ Implement all four OOP pillars  \n",
        "✅ Create class hierarchies with inheritance  \n",
        "✅ Use magic methods for object behavior  \n",
        "✅ Practice encapsulation with private attributes  \n",
        "✅ Understand polymorphic method overriding  \n",
        "\n",
        "---\n",
        "\n",
        "### **Key Concepts Demonstrated**  \n",
        "1. **Encapsulation**: `__happiness` as private attribute  \n",
        "2. **Inheritance**: `Lion`/`Elephant` inherit from `Animal`  \n",
        "3. **Polymorphism**: Custom `make_sound()` in Lion class  \n",
        "4. **Abstraction**: Zoo class hides implementation details  \n",
        "5. **Magic Methods**: `__repr__`, `__str__`, `__add__`  \n",
        "\n",
        "---\n",
        "\n",
        "### **Time-Saving Tips**  \n",
        "1. Copy base class code directly from tutorial examples  \n",
        "2. Focus on one animal subclass first then duplicate  \n",
        "3. Use simple string concatenation for hybrid creation  \n",
        "\n",
        "This project reinforces every concept from the tutorial while creating a fun, interactive system. The complete implementation uses <50 lines of code but provides multiple touchpoints for OOP experimentation! 🐾"
      ],
      "metadata": {
        "id": "aTuP1bJCjBJp"
      },
      "id": "aTuP1bJCjBJp"
    }
  ],
  "metadata": {
    "colab": {
      "provenance": []
    },
    "language_info": {
      "name": "python"
    },
    "kernelspec": {
      "name": "python3",
      "display_name": "Python 3"
    }
  },
  "nbformat": 4,
  "nbformat_minor": 5
}