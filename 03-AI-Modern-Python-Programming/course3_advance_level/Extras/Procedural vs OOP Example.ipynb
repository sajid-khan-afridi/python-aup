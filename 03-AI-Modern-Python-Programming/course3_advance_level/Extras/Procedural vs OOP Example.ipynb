{
 "cells": [
  {
   "cell_type": "markdown",
   "metadata": {},
   "source": [
    "## 1. Procedural (Spaghetti-Prone) Example\n",
    "\n",
    "As an application grows, purely procedural code often develops interdependent globals, scattered logic, and ad-hoc functions, creating a web of “spaghetti code.” Even if each function is small, the overall flow can be confusing and prone to bugs.\n"
   ]
  },
  {
   "cell_type": "code",
   "execution_count": 1,
   "metadata": {},
   "outputs": [
    {
     "name": "stdout",
     "output_type": "stream",
     "text": [
      "Employees above salary threshold: [(1, 'Alice', 50000)]\n",
      "Average salary: 47500.0\n"
     ]
    }
   ],
   "source": [
    "# --- Global state ---\n",
    "employees = {}\n",
    "next_id = 1\n",
    "\n",
    "# --- Procedural functions scattered around ---\n",
    "\n",
    "def add_employee(name, salary):\n",
    "    \"\"\"\n",
    "    Adds an employee to the global 'employees' dict\n",
    "    and increments the global 'next_id'.\n",
    "    \"\"\"\n",
    "    global next_id\n",
    "    employees[next_id] = (name, salary)\n",
    "    next_id += 1\n",
    "\n",
    "def update_salary(emp_id, new_salary):\n",
    "    \"\"\"\n",
    "    Updates the salary of a specific employee by 'emp_id'.\n",
    "    \"\"\"\n",
    "    if emp_id in employees:\n",
    "        name, _ = employees[emp_id]\n",
    "        employees[emp_id] = (name, new_salary)\n",
    "    else:\n",
    "        print(f\"Employee with ID {emp_id} not found.\")\n",
    "\n",
    "def remove_employee(emp_id):\n",
    "    \"\"\"\n",
    "    Removes an employee from the global 'employees' dict.\n",
    "    \"\"\"\n",
    "    if emp_id in employees:\n",
    "        del employees[emp_id]\n",
    "    else:\n",
    "        print(f\"Employee with ID {emp_id} not found.\")\n",
    "\n",
    "def print_employees_above_salary(threshold):\n",
    "    \"\"\"\n",
    "    Prints all employees with a salary above the given threshold.\n",
    "    \"\"\"\n",
    "    high_earners = []\n",
    "    for emp_id, (name, salary) in employees.items():\n",
    "        if salary > threshold:\n",
    "            high_earners.append((emp_id, name, salary))\n",
    "    print(\"Employees above salary threshold:\", high_earners)\n",
    "\n",
    "def calculate_average_salary():\n",
    "    \"\"\"\n",
    "    Calculates the average salary of all employees.\n",
    "    \"\"\"\n",
    "    if not employees:\n",
    "        return 0\n",
    "    total = sum(salary for _, salary in employees.values())\n",
    "    return total / len(employees)\n",
    "\n",
    "def main():\n",
    "    # Adding employees\n",
    "    add_employee(\"Alice\", 50000)\n",
    "    add_employee(\"Bob\", 40000)\n",
    "    add_employee(\"Charlie\", 60000)\n",
    "\n",
    "    # Updating an employee's salary and removing another\n",
    "    update_salary(2, 45000)\n",
    "    remove_employee(3)\n",
    "\n",
    "    # Printing employees above a certain threshold\n",
    "    print_employees_above_salary(45000)\n",
    "\n",
    "    # Calculating average salary\n",
    "    print(\"Average salary:\", calculate_average_salary())\n",
    "\n",
    "main()\n"
   ]
  },
  {
   "cell_type": "markdown",
   "metadata": {},
   "source": [
    "### Why can this become “Spaghetti Code”?\n",
    "1. **Globals Everywhere**: `employees` and `next_id` are global, easily modified from any function, risking hidden side effects.  \n",
    "2. **Scattered Logic**: Each operation is a standalone function that must remember the shape of `employees`.  \n",
    "3. **Tight Coupling**: Changing the data structure (e.g., switching `employees` from dict to list) requires modifying every function.  \n",
    "4. **Hard to Extend**: Adding new features (e.g., data validation, logging) might require weaving more logic into many places.\n",
    "\n",
    "---\n"
   ]
  },
  {
   "cell_type": "markdown",
   "metadata": {},
   "source": [
    "## 2. Object-Oriented (Concise & Organized) Example\n",
    "\n",
    "By introducing two simple classes—`Employee` and `EmployeeManager`—we keep data and related methods together, reducing global dependencies and making the program more coherent. Notice how the flow is clearer, even in fewer lines overall."
   ]
  },
  {
   "cell_type": "code",
   "execution_count": 2,
   "metadata": {},
   "outputs": [
    {
     "name": "stdout",
     "output_type": "stream",
     "text": [
      "Employees above salary threshold: [(1, 'Alice (Salary: 50000)')]\n",
      "Average salary: 47500.0\n"
     ]
    }
   ],
   "source": [
    "class Employee:\n",
    "    def __init__(self, name, salary):\n",
    "        self.name = name\n",
    "        self.salary = salary\n",
    "\n",
    "    def __str__(self):\n",
    "        return f\"{self.name} (Salary: {self.salary})\"\n",
    "\n",
    "class EmployeeManager:\n",
    "    def __init__(self):\n",
    "        self.employees = {}\n",
    "        self.next_id = 1\n",
    "\n",
    "    def add_employee(self, name, salary):\n",
    "        self.employees[self.next_id] = Employee(name, salary)\n",
    "        self.next_id += 1\n",
    "\n",
    "    def update_salary(self, emp_id, new_salary):\n",
    "        if emp_id in self.employees:\n",
    "            self.employees[emp_id].salary = new_salary\n",
    "        else:\n",
    "            print(f\"Employee with ID {emp_id} not found.\")\n",
    "\n",
    "    def remove_employee(self, emp_id):\n",
    "        self.employees.pop(emp_id, None)\n",
    "\n",
    "    def print_employees_above_salary(self, threshold):\n",
    "        high_earners = [\n",
    "            (emp_id, str(emp))\n",
    "            for emp_id, emp in self.employees.items()\n",
    "            if emp.salary > threshold\n",
    "        ]\n",
    "        print(\"Employees above salary threshold:\", high_earners)\n",
    "\n",
    "    def calculate_average_salary(self):\n",
    "        if not self.employees:\n",
    "            return 0\n",
    "        total = sum(emp.salary for emp in self.employees.values())\n",
    "        return total / len(self.employees)\n",
    "\n",
    "# -----------------------------------------\n",
    "# Main logic is simpler and more readable\n",
    "# -----------------------------------------\n",
    "manager = EmployeeManager()\n",
    "manager.add_employee(\"Alice\", 50000)\n",
    "manager.add_employee(\"Bob\", 40000)\n",
    "manager.add_employee(\"Charlie\", 60000)\n",
    "\n",
    "manager.update_salary(2, 45000)\n",
    "manager.remove_employee(3)\n",
    "manager.print_employees_above_salary(45000)\n",
    "\n",
    "print(\"Average salary:\", manager.calculate_average_salary())\n"
   ]
  },
  {
   "cell_type": "markdown",
   "metadata": {},
   "source": [
    "### Why is this OOP Approach More Manageable and Concise?\n",
    "1. **Encapsulation**: Each `Employee` object holds its own data and behaviors if needed (e.g., a method to format its details).  \n",
    "2. **Single Responsibility**: `EmployeeManager` alone manages creating, updating, removing, and listing employees.  \n",
    "3. **Reduced Global State**: Only `manager` is instantiated, avoiding scattered global variables.  \n",
    "4. **Easier to Extend**: New features (like saving to a database or logging) can be added by extending `Employee` or `EmployeeManager` without breaking other parts of the code.\n",
    "\n",
    "---\n",
    "\n",
    "## Key Takeaways\n",
    "\n",
    "- **Spaghetti code** isn’t just about being longer; it’s about being messy, with scattered logic and global dependencies that make it hard to maintain.  \n",
    "- **OOP** can be both *concise* and *organized* by grouping related data (Employee) with its operations (EmployeeManager).  \n",
    "- As codebases grow, the clarity and structure of OOP generally win over purely procedural designs prone to global state and tangled dependencies."
   ]
  }
 ],
 "metadata": {
  "kernelspec": {
   "display_name": "Python 3",
   "language": "python",
   "name": "python3"
  },
  "language_info": {
   "codemirror_mode": {
    "name": "ipython",
    "version": 3
   },
   "file_extension": ".py",
   "mimetype": "text/x-python",
   "name": "python",
   "nbconvert_exporter": "python",
   "pygments_lexer": "ipython3",
   "version": "3.12.8"
  }
 },
 "nbformat": 4,
 "nbformat_minor": 2
}
