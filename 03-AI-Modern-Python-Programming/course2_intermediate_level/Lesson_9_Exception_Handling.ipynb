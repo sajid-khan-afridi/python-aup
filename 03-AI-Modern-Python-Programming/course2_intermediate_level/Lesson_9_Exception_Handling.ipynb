{
 "cells": [
  {
   "cell_type": "markdown",
   "metadata": {},
   "source": [
    "# Exception Handling in Python\n",
    "\n",
    "When you're writing a program, things don't always go as planned. Sometimes, unexpected errors, called **exceptions**, can occur. If these exceptions are not handled properly, they will stop or crash your program from running. This is where **exception handling** becomes crucial.\n",
    "\n",
    "## What is an Exception?\n",
    "\n",
    "An **exception** is an error that happens during the execution of a program. When an exception occurs, the normal flow of the program is interrupted, and the program will terminate unless you handle the exception."
   ]
  },
  {
   "cell_type": "markdown",
   "metadata": {},
   "source": [
    "## Common Types of Exceptions in Python:"
   ]
  },
  {
   "cell_type": "markdown",
   "metadata": {},
   "source": [
    "### 1. **`ZeroDivisionError`**\n",
    "\n",
    "Raised when dividing by zero.\n",
    "\n"
   ]
  },
  {
   "cell_type": "code",
   "execution_count": null,
   "metadata": {},
   "outputs": [],
   "source": [
    "# Division by zero raises an exception\n",
    "num = 10\n",
    "den = 0\n",
    "try:\n",
    "    result = num / den  # Raises ZeroDivisionError\n",
    "except ZeroDivisionError as e: # When you use as e, e is the instance of the ZeroDivisionError exception\n",
    "    print(f\"Division by zero is not allowed: {ZeroDivisionError}\") \n",
    "    print(f\"Division by zero is not allowed: {e}\")"
   ]
  },
  {
   "cell_type": "markdown",
   "metadata": {},
   "source": [
    "### 2. **`ValueError`**\n",
    "\n",
    "Raised when a function receives an argument of the correct type but with an inappropriate value."
   ]
  },
  {
   "cell_type": "code",
   "execution_count": null,
   "metadata": {},
   "outputs": [],
   "source": [
    "try:\n",
    "    number = int(\"not_a_number\")  # Invalid literal for `int()`\n",
    "except ValueError as e:\n",
    "    print(f\"ValueError occurred: {e}\")\n"
   ]
  },
  {
   "cell_type": "code",
   "execution_count": null,
   "metadata": {},
   "outputs": [],
   "source": [
    "try:\n",
    "    number = int(\"not_a_number\")  # Invalid literal for `int()`\n",
    "except Exception as e:\n",
    "    print(f\"ValueError occurred: {e}\")"
   ]
  },
  {
   "cell_type": "markdown",
   "metadata": {},
   "source": [
    "### 3. **`TypeError`**\n",
    "\n",
    "Raised when an operation or function is applied to an object of the wrong type.\n"
   ]
  },
  {
   "cell_type": "code",
   "execution_count": null,
   "metadata": {},
   "outputs": [],
   "source": [
    "try:\n",
    "    result = \"text\" + 10  # Adding a string and an integer\n",
    "except TypeError as e:\n",
    "    print(f\"TypeError occurred: {e}\")"
   ]
  },
  {
   "cell_type": "code",
   "execution_count": null,
   "metadata": {},
   "outputs": [],
   "source": [
    "try:\n",
    "    result = \"text\" + 10  # Adding a string and an integer\n",
    "except Exception as e:\n",
    "    print(f\"TypeError occurred: {e}\")"
   ]
  },
  {
   "cell_type": "markdown",
   "metadata": {},
   "source": [
    "### 4. **`IndexError`**\n",
    "\n",
    "Raised when trying to access an index that is out of range in a list or tuple.\n"
   ]
  },
  {
   "cell_type": "code",
   "execution_count": null,
   "metadata": {},
   "outputs": [],
   "source": [
    "try:\n",
    "    my_list = [1, 2, 3]\n",
    "    element = my_list[5]  # Index 5 does not exist\n",
    "except IndexError as e:\n",
    "    print(f\"IndexError occurred: {e}\")"
   ]
  },
  {
   "cell_type": "markdown",
   "metadata": {},
   "source": [
    "### 5. **`KeyError`**\n",
    "\n",
    "Raised when trying to access a dictionary key that does not exist.\n"
   ]
  },
  {
   "cell_type": "code",
   "execution_count": null,
   "metadata": {},
   "outputs": [],
   "source": [
    "try:\n",
    "    my_dict = {\"key1\": \"value1\"}\n",
    "    value = my_dict[\"key2\"]  # Key 'key2' does not exist\n",
    "except KeyError as e:\n",
    "    print(f\"KeyError occurred: {e}\")"
   ]
  },
  {
   "cell_type": "markdown",
   "metadata": {},
   "source": [
    "### 6. **`FileNotFoundError`**\n",
    "\n",
    "Raised when a file operation is requested, but the file does not exist.\n"
   ]
  },
  {
   "cell_type": "code",
   "execution_count": null,
   "metadata": {},
   "outputs": [],
   "source": [
    "try:\n",
    "    with open(\"non_existent_file.txt\", \"r\") as file:  # File does not exist\n",
    "        content = file.read()\n",
    "except FileNotFoundError as e:\n",
    "    print(f\"FileNotFoundError occurred: {e}\")"
   ]
  },
  {
   "cell_type": "code",
   "execution_count": null,
   "metadata": {},
   "outputs": [],
   "source": [
    "def add_numbers():\n",
    "    try:\n",
    "        a = int(input(\"Enter first number: \"))\n",
    "        b = int(input(\"Enter second number: \"))  # If not a number, this will raise ValueError\n",
    "        print(a + b)\n",
    "    except ValueError:\n",
    "        print(\"Please enter valid numbers\")\n",
    "    except TypeError:\n",
    "        print(\"There was a type error\")\n",
    "\n",
    "add_numbers()"
   ]
  },
  {
   "cell_type": "markdown",
   "metadata": {},
   "source": [
    "### 7. **`finally` Block**\n",
    "The `finally` block always runs whether there’s an exception or not. It’s useful for cleanup tasks, like closing files.\n",
    "#### When to use:\n",
    "- When you have some code that **must run no matter what**, such as releasing resources or cleaning up after the `try` block (e.g., closing a file or a network connection)."
   ]
  },
  {
   "cell_type": "code",
   "execution_count": null,
   "metadata": {},
   "outputs": [],
   "source": [
    "def divide_numbers():\n",
    "    try:\n",
    "        a = int(input(\"Enter the numerator: \"))\n",
    "        b = int(input(\"Enter the denominator: \"))\n",
    "        print(a / b)\n",
    "    except Exception as e:\n",
    "        print(\"Error occurred: \", e)\n",
    "    finally:\n",
    "        print(\"Thank you for using the division program\")\n",
    "\n",
    "divide_numbers()"
   ]
  },
  {
   "cell_type": "markdown",
   "metadata": {},
   "source": [
    "### 8. **Using `else` Block**\n",
    "The `else` block executes only if no exceptions occur in the `try` block.\n",
    "\n",
    "#### When to use:\n",
    "- When you have code that should only run **if no exceptions were raised**. This makes your intentions clear and keeps your code cleaner."
   ]
  },
  {
   "cell_type": "code",
   "execution_count": null,
   "metadata": {},
   "outputs": [],
   "source": [
    "def divide_numbers():\n",
    "    try:\n",
    "        a = int(input(\"Enter the numerator: \"))\n",
    "        b = int(input(\"Enter the denominator: \"))\n",
    "        result = a / b\n",
    "    except ZeroDivisionError:\n",
    "        print(\"You cannot divide by zero\")\n",
    "    else:\n",
    "        print(f\"Division successful: {result}\")\n",
    "\n",
    "divide_numbers()\n"
   ]
  }
 ],
 "metadata": {
  "kernelspec": {
   "display_name": "Python 3",
   "language": "python",
   "name": "python3"
  },
  "language_info": {
   "codemirror_mode": {
    "name": "ipython",
    "version": 3
   },
   "file_extension": ".py",
   "mimetype": "text/x-python",
   "name": "python",
   "nbconvert_exporter": "python",
   "pygments_lexer": "ipython3",
   "version": "3.12.8"
  }
 },
 "nbformat": 4,
 "nbformat_minor": 2
}
