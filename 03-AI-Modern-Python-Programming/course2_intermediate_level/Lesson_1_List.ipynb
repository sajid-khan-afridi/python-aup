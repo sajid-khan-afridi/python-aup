{
  "cells": [
    {
      "cell_type": "markdown",
      "metadata": {
        "id": "My4w3iNt2UY6"
      },
      "source": [
        "# What is List?"
      ]
    },
    {
      "cell_type": "markdown",
      "metadata": {
        "id": "t2uUP-Ph30js"
      },
      "source": [
        "## Problem"
      ]
    },
    {
      "cell_type": "markdown",
      "metadata": {
        "id": "fgDdErUn2vzI"
      },
      "source": [
        "If you want to store multiple items, you would need to create a separate variable for each one.\n",
        "\n",
        "```\n",
        "student1 = \"Ahmad\"\n",
        "student2 = \"Ali\"\n",
        "student3 = \"Kashif\"\n",
        "```\n",
        "\n",
        "This approach works fine if you have just a few items. But what if you have 10, 100, or even more? It quickly becomes unmanageable.\n",
        "\n",
        "If you want to add or remove an item, you have to manually shift the data around or create new variables.\n",
        "\n",
        "```\n",
        "student4 = \"Usman\"\n",
        "```\n",
        "\n",
        "Accessing an item requires you to remember the exact variable name associated with it.\n",
        "\n",
        "```\n",
        "print(student1)\n",
        "print(student2)\n",
        "```"
      ]
    },
    {
      "cell_type": "code",
      "source": [
        "# Problem\n",
        "studnt1 : str = \"safirjan\"\n",
        "student2 : str = \"ibrahim\"\n",
        "student3 : str = \"hilal\"\n",
        "student4 = \"abdulsalam\"\n",
        "student5 = \"tanveer\""
      ],
      "metadata": {
        "id": "CDUMIBiU3JPF"
      },
      "execution_count": null,
      "outputs": []
    },
    {
      "cell_type": "code",
      "source": [
        "student1 =  \"hilal\"\n",
        "student3 = \"safirjan\"\n",
        "\n",
        "print(studnt1)"
      ],
      "metadata": {
        "id": "HBnV9As34mLq",
        "outputId": "d1e58fd0-8642-4348-d721-2963681aca37",
        "colab": {
          "base_uri": "https://localhost:8080/"
        }
      },
      "execution_count": null,
      "outputs": [
        {
          "output_type": "stream",
          "name": "stdout",
          "text": [
            "safirjan\n"
          ]
        }
      ]
    },
    {
      "cell_type": "code",
      "source": [
        "# Solution\n",
        "students : list[str] = [\"Safir jan\", \"Ibrahim\", \"Hilal\", \"abdulsalam\",\"Tanveer\"]\n",
        "#index                      0           1         2         3           4\n",
        "print(students)\n",
        "\n",
        "# print(students[3:5])\n",
        "print(students[3])\n",
        "#"
      ],
      "metadata": {
        "id": "JE4BZ9Wy41MR",
        "outputId": "ef9be1ad-c13f-4c24-e632-ee1f7536c10c",
        "colab": {
          "base_uri": "https://localhost:8080/"
        }
      },
      "execution_count": null,
      "outputs": [
        {
          "output_type": "stream",
          "name": "stdout",
          "text": [
            "['Safir jan', 'Ibrahim', 'Hilal', 'abdulsalam', 'Tanveer']\n",
            "abdulsalam\n"
          ]
        }
      ]
    },
    {
      "cell_type": "code",
      "source": [
        "# print (students[3])\n",
        "students[0] = \"Hilal\"\n",
        "students[2] = \"Safir Jan\"\n",
        "print(students)"
      ],
      "metadata": {
        "id": "0eYcB6_lWYTy",
        "outputId": "cf7aa919-0cfd-4391-ad12-0ff1c5b0bbbd",
        "colab": {
          "base_uri": "https://localhost:8080/"
        }
      },
      "execution_count": null,
      "outputs": [
        {
          "output_type": "stream",
          "name": "stdout",
          "text": [
            "['Hilal', 'Ibrahim', 'Safir Jan', 'abdulsalam', 'Tanveer']\n"
          ]
        }
      ]
    },
    {
      "cell_type": "code",
      "source": [
        "len(students)"
      ],
      "metadata": {
        "id": "rB7jWC3KTJam",
        "outputId": "5c065fa4-93bb-4a3b-ce99-2cab93fd26bb",
        "colab": {
          "base_uri": "https://localhost:8080/"
        }
      },
      "execution_count": null,
      "outputs": [
        {
          "output_type": "execute_result",
          "data": {
            "text/plain": [
              "5"
            ]
          },
          "metadata": {},
          "execution_count": 12
        }
      ]
    },
    {
      "cell_type": "markdown",
      "source": [
        "### create a mix list with type hint"
      ],
      "metadata": {
        "id": "1Z-Do4weV0qq"
      }
    },
    {
      "cell_type": "code",
      "source": [
        "\n",
        "# Example with Union (Python 3.5 to 3.9):\n",
        "from typing import Union, List\n",
        "\n",
        "mixed_list: List[Union[int, str, float, bool]] = [1, \"hello\", 3.14, True]"
      ],
      "metadata": {
        "id": "rO8FHO4PVIXw"
      },
      "execution_count": null,
      "outputs": []
    },
    {
      "cell_type": "code",
      "source": [
        "# Example with | Operator (Python 3.10+):\n",
        "mixed_list: list[int | str | float | bool] = [1, \"hello\", 3.14, True]"
      ],
      "metadata": {
        "id": "_PNxF7KWV5TI"
      },
      "execution_count": null,
      "outputs": []
    },
    {
      "cell_type": "code",
      "source": [
        "\n",
        "dir(students)\n",
        "[i for i in dir(students) if \"__\" not in i]"
      ],
      "metadata": {
        "id": "-6w_ZLDFSek5",
        "outputId": "ffaf1c4f-2c23-4298-fe39-5efdf1758698",
        "colab": {
          "base_uri": "https://localhost:8080/"
        }
      },
      "execution_count": null,
      "outputs": [
        {
          "output_type": "execute_result",
          "data": {
            "text/plain": [
              "['append',\n",
              " 'clear',\n",
              " 'copy',\n",
              " 'count',\n",
              " 'extend',\n",
              " 'index',\n",
              " 'insert',\n",
              " 'pop',\n",
              " 'remove',\n",
              " 'reverse',\n",
              " 'sort']"
            ]
          },
          "metadata": {},
          "execution_count": 14
        }
      ]
    },
    {
      "cell_type": "code",
      "source": [
        "students[0] = \"Hilal\"\n",
        "students[2] = \"Safir Jan\""
      ],
      "metadata": {
        "id": "27N3gh7A5f8n"
      },
      "execution_count": null,
      "outputs": []
    },
    {
      "cell_type": "code",
      "source": [
        "print(students)"
      ],
      "metadata": {
        "id": "0UymSiSH5mB0",
        "outputId": "57596515-6fd3-4d59-9ed1-b8a151905eec",
        "colab": {
          "base_uri": "https://localhost:8080/"
        }
      },
      "execution_count": null,
      "outputs": [
        {
          "output_type": "stream",
          "name": "stdout",
          "text": [
            "['Hilal', 'Ibrahim', 'Safir Jan', 'abdulsalam', 'Tanveer']\n"
          ]
        }
      ]
    },
    {
      "cell_type": "code",
      "source": [
        "print(students[0])"
      ],
      "metadata": {
        "id": "apoG94yD73dt",
        "outputId": "e9fd6bf8-ea4c-4dc4-a793-d6c137d0ef20",
        "colab": {
          "base_uri": "https://localhost:8080/"
        }
      },
      "execution_count": null,
      "outputs": [
        {
          "output_type": "stream",
          "name": "stdout",
          "text": [
            "Hilal\n"
          ]
        }
      ]
    },
    {
      "cell_type": "code",
      "source": [
        "# List of numbers or integers\n",
        "student_marks = [65,49,23,80,50]"
      ],
      "metadata": {
        "id": "eQKSOYmq7Omr"
      },
      "execution_count": null,
      "outputs": []
    },
    {
      "cell_type": "code",
      "source": [
        "print(student_marks[0])"
      ],
      "metadata": {
        "id": "Xf-JXeuv7hPl",
        "outputId": "793f5f0c-0f38-4027-9e5c-c5c4ec888a22",
        "colab": {
          "base_uri": "https://localhost:8080/"
        }
      },
      "execution_count": null,
      "outputs": [
        {
          "output_type": "stream",
          "name": "stdout",
          "text": [
            "65\n"
          ]
        }
      ]
    },
    {
      "cell_type": "markdown",
      "metadata": {
        "id": "hS7-o45gU72v"
      },
      "source": [
        "## Solution"
      ]
    },
    {
      "cell_type": "markdown",
      "metadata": {
        "id": "Wt_hhuVaVOPN"
      },
      "source": [
        "### List\n",
        "A list in Python is like a container that can hold multiple items, one after another. Imagine you have a shopping list where you write down everything you need to buy. A Python list is very similar, but instead of just groceries, it can hold all kinds of things like numbers, words, or even other lists!\n",
        "\n",
        "### Store Multiple Items Together:\n",
        "\n",
        "A list allows you to keep multiple items in one place. For example, if you want to keep track of all your students' names, you can store them in a list.\n"
      ]
    },
    {
      "cell_type": "code",
      "execution_count": 6,
      "metadata": {
        "id": "QFKWuvaLSsaB"
      },
      "outputs": [],
      "source": [
        "students : list = [\"Ahmad\", \"Ali\", \"Kashif\"]\n",
        "          #index   0 -3      1 -2      2 -1"
      ]
    },
    {
      "cell_type": "code",
      "source": [
        "students.append(\"saleem\")"
      ],
      "metadata": {
        "id": "cGVAKEntADQ9"
      },
      "execution_count": 7,
      "outputs": []
    },
    {
      "cell_type": "code",
      "source": [
        "students.append(\"Usman\")\n",
        "students.append(\"Ali\")\n",
        "# print(students)"
      ],
      "metadata": {
        "id": "j21x8-XVZHnu"
      },
      "execution_count": 8,
      "outputs": []
    },
    {
      "cell_type": "code",
      "source": [
        "students.append(\"asim\")"
      ],
      "metadata": {
        "id": "tRC6u-z4ZW7z"
      },
      "execution_count": 9,
      "outputs": []
    },
    {
      "cell_type": "code",
      "source": [
        "print(students[-3])"
      ],
      "metadata": {
        "id": "kgpylGnOY59c",
        "outputId": "1e63c545-4d67-444e-aea2-0dc18fc0daf0",
        "colab": {
          "base_uri": "https://localhost:8080/"
        }
      },
      "execution_count": 10,
      "outputs": [
        {
          "output_type": "stream",
          "name": "stdout",
          "text": [
            "Usman\n"
          ]
        }
      ]
    },
    {
      "cell_type": "code",
      "source": [
        "print(students)"
      ],
      "metadata": {
        "id": "2MuqtW7iZpLA",
        "outputId": "b483c833-7a8a-4443-bd8f-3f4f901d594b",
        "colab": {
          "base_uri": "https://localhost:8080/"
        }
      },
      "execution_count": 11,
      "outputs": [
        {
          "output_type": "stream",
          "name": "stdout",
          "text": [
            "['Ahmad', 'Ali', 'Kashif', 'saleem', 'Usman', 'Ali', 'asim']\n"
          ]
        }
      ]
    },
    {
      "cell_type": "code",
      "source": [
        "print(students[-3])"
      ],
      "metadata": {
        "id": "1S4yHbx0Z0lq",
        "outputId": "1036e2a8-e3f8-42c6-c160-a6cbd074daf4",
        "colab": {
          "base_uri": "https://localhost:8080/"
        }
      },
      "execution_count": null,
      "outputs": [
        {
          "output_type": "stream",
          "name": "stdout",
          "text": [
            "asim\n"
          ]
        }
      ]
    },
    {
      "cell_type": "markdown",
      "metadata": {
        "id": "ZaZN7zpjgnOq"
      },
      "source": [
        "### Access Items by Position:\n",
        "\n",
        "Lists keep items in the order you put them in. You can access any item by telling Python where it is in the list (starting from 0)."
      ]
    },
    {
      "cell_type": "code",
      "execution_count": 12,
      "metadata": {
        "id": "dCNcXveVgqbe",
        "outputId": "3d773a77-ed06-47d8-f69d-a15ef0b22f7b",
        "colab": {
          "base_uri": "https://localhost:8080/"
        }
      },
      "outputs": [
        {
          "output_type": "stream",
          "name": "stdout",
          "text": [
            "Ahmad\n",
            "Ali\n",
            "Kashif\n"
          ]
        }
      ],
      "source": [
        "print(students[0])\n",
        "print(students[1])\n",
        "print(students[2])"
      ]
    },
    {
      "cell_type": "markdown",
      "metadata": {
        "id": "PgfUjz4lgxiK"
      },
      "source": [
        "### Change Items:\n",
        "\n",
        "You can easily change an item in the list if you need to update it."
      ]
    },
    {
      "cell_type": "code",
      "execution_count": 13,
      "metadata": {
        "id": "hXKyqi40gzHi",
        "outputId": "44aa94a5-e224-4e79-8a02-44119c15aa44",
        "colab": {
          "base_uri": "https://localhost:8080/"
        }
      },
      "outputs": [
        {
          "output_type": "stream",
          "name": "stdout",
          "text": [
            "['Saleem', 'Ali', 'Kashif', 'saleem', 'Usman', 'Ali', 'asim']\n"
          ]
        }
      ],
      "source": [
        "students[0]: list[str] = \"Saleem\"\n",
        "print(students)"
      ]
    },
    {
      "cell_type": "code",
      "execution_count": 14,
      "metadata": {
        "id": "kmQDFuomhAaA",
        "outputId": "51e3fd8b-104b-4034-a60f-11c3037859eb",
        "colab": {
          "base_uri": "https://localhost:8080/"
        }
      },
      "outputs": [
        {
          "output_type": "stream",
          "name": "stdout",
          "text": [
            "['Saleem', 'Ali', 'Kashif', 'saleem', 'Usman', 'Ali', 'asim']\n"
          ]
        }
      ],
      "source": [
        "print(students)"
      ]
    },
    {
      "cell_type": "markdown",
      "metadata": {
        "id": "FhvgpqU0mmvW"
      },
      "source": [
        "## List Methods"
      ]
    },
    {
      "cell_type": "code",
      "execution_count": 15,
      "metadata": {
        "id": "EBSKHHrNit_8",
        "outputId": "3185e685-fe99-4660-dd88-a4deb3c132e3",
        "colab": {
          "base_uri": "https://localhost:8080/"
        }
      },
      "outputs": [
        {
          "output_type": "execute_result",
          "data": {
            "text/plain": [
              "['append',\n",
              " 'clear',\n",
              " 'copy',\n",
              " 'count',\n",
              " 'extend',\n",
              " 'index',\n",
              " 'insert',\n",
              " 'pop',\n",
              " 'remove',\n",
              " 'reverse',\n",
              " 'sort']"
            ]
          },
          "metadata": {},
          "execution_count": 15
        }
      ],
      "source": [
        "[i for i in dir(students) if \"__\" not in i]\n",
        "\n",
        "# dir(students)\n",
        "# len(students) #Python uses __len__ to find out the length of the list.__len__ \"behind-the-scenes\" functions"
      ]
    },
    {
      "cell_type": "code",
      "source": [
        "print(students)"
      ],
      "metadata": {
        "id": "nBe8rYHdCM56",
        "outputId": "4fa5fb56-f891-411f-feb6-556c6b778c81",
        "colab": {
          "base_uri": "https://localhost:8080/"
        }
      },
      "execution_count": 16,
      "outputs": [
        {
          "output_type": "stream",
          "name": "stdout",
          "text": [
            "['Saleem', 'Ali', 'Kashif', 'saleem', 'Usman', 'Ali', 'asim']\n"
          ]
        }
      ]
    },
    {
      "cell_type": "code",
      "source": [
        "print(students.pop())"
      ],
      "metadata": {
        "id": "snty7aeoCQ4x",
        "outputId": "26bc0d11-8a0f-4d1c-996a-c38bee07706a",
        "colab": {
          "base_uri": "https://localhost:8080/"
        }
      },
      "execution_count": 19,
      "outputs": [
        {
          "output_type": "stream",
          "name": "stdout",
          "text": [
            "Ali\n"
          ]
        }
      ]
    },
    {
      "cell_type": "code",
      "source": [
        "print(students)"
      ],
      "metadata": {
        "id": "HlCJOyxPCV7W",
        "outputId": "32cd5dbc-bdf6-447a-a23d-fb89ee1e3443",
        "colab": {
          "base_uri": "https://localhost:8080/"
        }
      },
      "execution_count": 20,
      "outputs": [
        {
          "output_type": "stream",
          "name": "stdout",
          "text": [
            "['Saleem', 'Ali', 'Kashif', 'saleem', 'Usman']\n"
          ]
        }
      ]
    },
    {
      "cell_type": "code",
      "source": [
        "del_stu:str = students.pop() # invoke method\n",
        "print(del_stu) # ali asim                 # usman\n",
        "print(students)# saleem kashif ali usman  # saleem ali kashif saleem"
      ],
      "metadata": {
        "id": "WwIhcult7Jia",
        "outputId": "9c43b619-9599-437b-901e-aaf411c20ec7",
        "colab": {
          "base_uri": "https://localhost:8080/"
        }
      },
      "execution_count": 21,
      "outputs": [
        {
          "output_type": "stream",
          "name": "stdout",
          "text": [
            "Usman\n",
            "['Saleem', 'Ali', 'Kashif', 'saleem']\n"
          ]
        }
      ]
    },
    {
      "cell_type": "markdown",
      "metadata": {
        "id": "CZVT5q0khJl1"
      },
      "source": [
        "### Append a new student\n"
      ]
    },
    {
      "cell_type": "code",
      "execution_count": 22,
      "metadata": {
        "id": "1_StCoUOhRKC",
        "outputId": "7d1a74b5-fdec-4319-ddab-1a5d037b7dd5",
        "colab": {
          "base_uri": "https://localhost:8080/"
        }
      },
      "outputs": [
        {
          "output_type": "stream",
          "name": "stdout",
          "text": [
            "['Saleem', 'Ali', 'Kashif', 'saleem', 'Usman']\n"
          ]
        }
      ],
      "source": [
        "students.append(\"Usman\")\n",
        "print(students)"
      ]
    },
    {
      "cell_type": "markdown",
      "metadata": {
        "id": "j2C-m5gR0Xv_"
      },
      "source": [
        "### insert()"
      ]
    },
    {
      "cell_type": "code",
      "source": [
        "students.insert(2,\"Khalil\")"
      ],
      "metadata": {
        "id": "fZpD5QS6D4ua"
      },
      "execution_count": 23,
      "outputs": []
    },
    {
      "cell_type": "code",
      "source": [
        "print(students)"
      ],
      "metadata": {
        "id": "Mve92wO4EBDI",
        "outputId": "22afcfa5-afea-49d7-f863-401be2a07fcc",
        "colab": {
          "base_uri": "https://localhost:8080/"
        }
      },
      "execution_count": 24,
      "outputs": [
        {
          "output_type": "stream",
          "name": "stdout",
          "text": [
            "['Saleem', 'Ali', 'Khalil', 'Kashif', 'saleem', 'Usman']\n"
          ]
        }
      ]
    },
    {
      "cell_type": "code",
      "execution_count": 25,
      "metadata": {
        "id": "e4VmTLIX0aPq"
      },
      "outputs": [],
      "source": [
        "students.insert(0,\"ahmad\")"
      ]
    },
    {
      "cell_type": "code",
      "execution_count": 26,
      "metadata": {
        "id": "IxphqU6gzu71",
        "outputId": "641295a7-36dc-4eff-e134-76a62cbee45d",
        "colab": {
          "base_uri": "https://localhost:8080/"
        }
      },
      "outputs": [
        {
          "output_type": "stream",
          "name": "stdout",
          "text": [
            "['ahmad', 'Saleem', 'Ali', 'Khalil', 'Kashif', 'saleem', 'Usman']\n"
          ]
        }
      ],
      "source": [
        "print(students)"
      ]
    },
    {
      "cell_type": "code",
      "execution_count": 27,
      "metadata": {
        "id": "N4tjNi9_z17y",
        "outputId": "1d7652f0-2103-420a-d417-e2961afbf254",
        "colab": {
          "base_uri": "https://localhost:8080/"
        }
      },
      "outputs": [
        {
          "output_type": "stream",
          "name": "stdout",
          "text": [
            "['ahmad', 'Saleem', 'Ali', 'Iqbal', 'Khalil', 'Kashif', 'saleem', 'Usman']\n"
          ]
        }
      ],
      "source": [
        "students.insert(3,\"Iqbal\")\n",
        "print(students)"
      ]
    },
    {
      "cell_type": "code",
      "source": [
        "stu : list[int]= [1,2,3,4,5,6,7]\n",
        "stu.insert(-2,55)\n",
        "print(stu)"
      ],
      "metadata": {
        "id": "xm9CTe2mFoTY",
        "outputId": "857ded85-2685-4020-da2a-320ec4290b51",
        "colab": {
          "base_uri": "https://localhost:8080/"
        }
      },
      "execution_count": 38,
      "outputs": [
        {
          "output_type": "stream",
          "name": "stdout",
          "text": [
            "[1, 2, 3, 4, 5, 55, 6, 7]\n"
          ]
        }
      ]
    },
    {
      "cell_type": "markdown",
      "metadata": {
        "id": "L4nI2MGqhV9q"
      },
      "source": [
        "### Pop the last student"
      ]
    },
    {
      "cell_type": "code",
      "execution_count": 39,
      "metadata": {
        "id": "mfNPoAf5hYTI",
        "outputId": "e9bc5be1-7794-498e-d5e6-fb039d5155e6",
        "colab": {
          "base_uri": "https://localhost:8080/"
        }
      },
      "outputs": [
        {
          "output_type": "stream",
          "name": "stdout",
          "text": [
            "7\n",
            "[1, 2, 3, 4, 5, 55, 6]\n"
          ]
        }
      ],
      "source": [
        "last_student:list[str] = stu.pop()\n",
        "print(last_student)\n",
        "print(stu)"
      ]
    },
    {
      "cell_type": "markdown",
      "metadata": {
        "id": "HxambH-uhlZI"
      },
      "source": [
        "### Remove a specific or custom student by name"
      ]
    },
    {
      "cell_type": "code",
      "execution_count": 40,
      "metadata": {
        "id": "zMBCxFkihnn9",
        "outputId": "401dd87f-1951-4d26-e6f2-ecb4e783e3fb",
        "colab": {
          "base_uri": "https://localhost:8080/"
        }
      },
      "outputs": [
        {
          "output_type": "stream",
          "name": "stdout",
          "text": [
            "[1, 2, 3, 4, 5, 6]\n"
          ]
        }
      ],
      "source": [
        "stu.remove(55)\n",
        "print(stu)"
      ]
    },
    {
      "cell_type": "code",
      "source": [
        "stu.insert(2,1)\n",
        "print(stu)"
      ],
      "metadata": {
        "id": "qvOFxPt5HT5r",
        "outputId": "8d9996f4-cbe2-4b70-a116-07668b9d9e6d",
        "colab": {
          "base_uri": "https://localhost:8080/"
        }
      },
      "execution_count": 41,
      "outputs": [
        {
          "output_type": "stream",
          "name": "stdout",
          "text": [
            "[1, 2, 1, 3, 4, 5, 6]\n"
          ]
        }
      ]
    },
    {
      "cell_type": "code",
      "source": [
        "stu.remove(1)\n",
        "print(stu)"
      ],
      "metadata": {
        "id": "TPZhDtH6I7KY",
        "outputId": "1ebed512-e30f-4b07-afa5-b02b0bc40d96",
        "colab": {
          "base_uri": "https://localhost:8080/"
        }
      },
      "execution_count": 46,
      "outputs": [
        {
          "output_type": "stream",
          "name": "stdout",
          "text": [
            "[2, 3, 4, 5, 6]\n"
          ]
        }
      ]
    },
    {
      "cell_type": "markdown",
      "metadata": {
        "id": "zLIHsobFkcia"
      },
      "source": [
        "### shallow copy vs deep copy"
      ]
    },
    {
      "cell_type": "code",
      "execution_count": null,
      "metadata": {
        "id": "0kLO63NdkhL7",
        "outputId": "a19aad30-a005-4867-dd96-2f0a70ec1641",
        "colab": {
          "base_uri": "https://localhost:8080/"
        }
      },
      "outputs": [
        {
          "output_type": "stream",
          "name": "stdout",
          "text": [
            "['a', 'b', 'c']\n",
            "134874032877824\n",
            "134874032877824\n"
          ]
        }
      ],
      "source": [
        "# shallow copy\n",
        "a : list[str] = ['a','b','c']\n",
        "b = a # shallow copy\n",
        "# print(id(a))\n",
        "# print(id(b))\n",
        "\n",
        "\n",
        "\n",
        "\n",
        "# a.append('d')\n",
        "# print(\"a: \",a)\n",
        "# print(\"b: \",b)\n",
        "# print(id(a), id(b))"
      ]
    },
    {
      "cell_type": "code",
      "source": [
        "b.append('d')\n",
        "print(a)\n",
        "print(b)"
      ],
      "metadata": {
        "id": "v107FDnx-dzg",
        "outputId": "ca3403f8-c1d2-42e0-a232-cdb081bff068",
        "colab": {
          "base_uri": "https://localhost:8080/"
        }
      },
      "execution_count": null,
      "outputs": [
        {
          "output_type": "stream",
          "name": "stdout",
          "text": [
            "['a', 'b', 'c', 'd']\n",
            "['a', 'b', 'c', 'd']\n"
          ]
        }
      ]
    },
    {
      "cell_type": "code",
      "execution_count": null,
      "metadata": {
        "id": "txwdgB-FlHWf",
        "outputId": "c94e7b90-de3e-4c9a-80ae-f14cf11e40eb",
        "colab": {
          "base_uri": "https://localhost:8080/"
        }
      },
      "outputs": [
        {
          "output_type": "stream",
          "name": "stdout",
          "text": [
            "a:  ['a', 'b', 'c', 'd']\n",
            "b:  ['a', 'b', 'c']\n",
            "a:  ['a', 'b', 'c', 'd', 'd']\n",
            "b:  ['a', 'b', 'c']\n",
            "134874033867072 134874046033472\n"
          ]
        }
      ],
      "source": [
        "# deep copy\n",
        "a : list[str] = ['a','b','c']\n",
        "b = a.copy() # Deep copy by copy() method\n",
        "a.append('d')\n",
        "print(\"a: \",a)\n",
        "print(\"b: \",b)\n",
        "# c = a[:] # another way of Deep copy\n",
        "\n",
        "a.append('d')\n",
        "print(\"a: \", a)\n",
        "print(\"b: \", b)\n",
        "# print(\"c: \", c)\n",
        "print(id(a), id(b))"
      ]
    },
    {
      "cell_type": "code",
      "source": [
        "c = a[:] # another way of Deep copy by slice"
      ],
      "metadata": {
        "id": "oOA-crboE3No"
      },
      "execution_count": null,
      "outputs": []
    },
    {
      "cell_type": "code",
      "source": [
        "c.append('e')\n",
        "print(c)\n",
        "print(a)"
      ],
      "metadata": {
        "id": "VCzAIBYFE9Xp",
        "outputId": "a30b837e-0fa6-4479-e01d-9dd88e9e82cc",
        "colab": {
          "base_uri": "https://localhost:8080/"
        }
      },
      "execution_count": null,
      "outputs": [
        {
          "output_type": "stream",
          "name": "stdout",
          "text": [
            "['a', 'b', 'c', 'd', 'd', 'e']\n",
            "['a', 'b', 'c', 'd', 'd']\n"
          ]
        }
      ]
    },
    {
      "cell_type": "code",
      "execution_count": null,
      "metadata": {
        "id": "AB6N_UQNkSse"
      },
      "outputs": [],
      "source": [
        "# create new list\n",
        "a : list[str] = ['a','b','c']\n",
        "# print(id(a))\n",
        "a = ['d','e','f']\n",
        "# print(id(a))\n",
        "print(a)"
      ]
    },
    {
      "cell_type": "markdown",
      "metadata": {
        "id": "ncS5vw54m9cz"
      },
      "source": [
        "### extend()\n",
        "Supply the array to be extended"
      ]
    },
    {
      "cell_type": "code",
      "execution_count": null,
      "metadata": {
        "id": "UA01xUuQnMIx",
        "outputId": "29cf94b9-4392-492d-80b6-157c44577883",
        "colab": {
          "base_uri": "https://localhost:8080/"
        }
      },
      "outputs": [
        {
          "output_type": "stream",
          "name": "stdout",
          "text": [
            "[1, 2, 3, 4, 5, 6]\n",
            "[4, 5, 6]\n"
          ]
        }
      ],
      "source": [
        "arr1: list[int] = [1,2,3]\n",
        "a : list[int] = [4,5,6]\n",
        "arr1.extend(a)\n",
        "print(arr1)\n",
        "print(a)"
      ]
    },
    {
      "cell_type": "markdown",
      "metadata": {
        "id": "qbzJ8W7SnWzN"
      },
      "source": [
        "### clear()"
      ]
    },
    {
      "cell_type": "code",
      "execution_count": null,
      "metadata": {
        "id": "jDER99DendSz",
        "outputId": "306cd97a-6653-4b93-8a5a-59c5cd9dabf3",
        "colab": {
          "base_uri": "https://localhost:8080/"
        }
      },
      "outputs": [
        {
          "output_type": "stream",
          "name": "stdout",
          "text": [
            "[]\n"
          ]
        }
      ],
      "source": [
        "a.clear()\n",
        "print(a)"
      ]
    },
    {
      "cell_type": "code",
      "source": [
        "print(id(a))"
      ],
      "metadata": {
        "id": "7xy3dOHqF09A",
        "outputId": "2ade1b76-7765-4c8a-9906-7095e1c5b5b4",
        "colab": {
          "base_uri": "https://localhost:8080/"
        }
      },
      "execution_count": null,
      "outputs": [
        {
          "output_type": "stream",
          "name": "stdout",
          "text": [
            "134874032986304\n"
          ]
        }
      ]
    },
    {
      "cell_type": "code",
      "source": [
        "a = 5\n",
        "\n",
        "a = 6"
      ],
      "metadata": {
        "id": "ItVt8dlWGWzt"
      },
      "execution_count": null,
      "outputs": []
    },
    {
      "cell_type": "code",
      "execution_count": null,
      "metadata": {
        "id": "igV19QkCAnSw"
      },
      "outputs": [],
      "source": [
        "# students = [\"Ahmad\", \"Ali\", \"Kashif\"]\n",
        "\n",
        "# # Using clear()\n",
        "# students.clear()\n",
        "# print(id(students))  # Same ID, list cleared in place\n",
        "\n",
        "# # Reassigning to empty list\n",
        "# students = [\"Ahmad\", \"Ali\", \"Kashif\"]\n",
        "# students= []\n",
        "# print(id(students))"
      ]
    },
    {
      "cell_type": "markdown",
      "metadata": {
        "id": "ZaAciugjnsOU"
      },
      "source": [
        "### count(), index methods\n",
        "### list() method"
      ]
    },
    {
      "cell_type": "code",
      "execution_count": null,
      "metadata": {
        "id": "bvvseidnnvFg",
        "outputId": "e98ff719-c597-4584-8d03-c1f820ab267f",
        "colab": {
          "base_uri": "https://localhost:8080/"
        }
      },
      "outputs": [
        {
          "output_type": "stream",
          "name": "stdout",
          "text": [
            "['a', 'b', 'c', 'd', 'e', 'f', 'g', 'h', 'i', 'j', 'k', 'a', 'l', 'm', 'n', 'o', 'p', 'q', 'r', 's', 't', 'b', 'u', 'v', 'w', 'x', 'y', 'z']\n"
          ]
        }
      ],
      "source": [
        "characters : list[str] = list(\"abcdefghijkalmnopqrstbuvwxyz\")\n",
        "# characters : list[str] = [\"ahmad\"]\n",
        "print(characters)\n",
        "characters.count('a')\n",
        "characters.append(\"Z\")"
      ]
    },
    {
      "cell_type": "code",
      "source": [
        "characters.sort(key=str.lower)"
      ],
      "metadata": {
        "id": "8xyu5ocKJeWd"
      },
      "execution_count": null,
      "outputs": []
    },
    {
      "cell_type": "code",
      "source": [
        "list4 = [\"word\",\"abc\",\"shshjaja\"]\n",
        "list4.sort(key=len)\n",
        "print(list4)"
      ],
      "metadata": {
        "id": "NBM8AYs0KLAc",
        "outputId": "c8a22163-79e1-416a-899d-a572ebf91fad",
        "colab": {
          "base_uri": "https://localhost:8080/"
        }
      },
      "execution_count": null,
      "outputs": [
        {
          "output_type": "stream",
          "name": "stdout",
          "text": [
            "['abc', 'word', 'shshjaja']\n"
          ]
        }
      ]
    },
    {
      "cell_type": "code",
      "source": [
        "print(characters)"
      ],
      "metadata": {
        "id": "x2HsCcMMJiPt",
        "outputId": "dc3d59d5-d46b-4943-b421-914ab437e72d",
        "colab": {
          "base_uri": "https://localhost:8080/"
        }
      },
      "execution_count": null,
      "outputs": [
        {
          "output_type": "stream",
          "name": "stdout",
          "text": [
            "['a', 'a', 'b', 'b', 'c', 'd', 'e', 'f', 'g', 'h', 'i', 'j', 'k', 'l', 'm', 'n', 'o', 'p', 'q', 'r', 's', 't', 'u', 'v', 'w', 'x', 'y', 'Z', 'z']\n"
          ]
        }
      ]
    },
    {
      "cell_type": "markdown",
      "metadata": {
        "id": "Nut8kJ2kn0O4"
      },
      "source": [
        "### index()"
      ]
    },
    {
      "cell_type": "code",
      "execution_count": null,
      "metadata": {
        "id": "6motr1fiKm7N",
        "outputId": "bfbe298d-c83c-4cac-e33c-b541b47fc847",
        "colab": {
          "base_uri": "https://localhost:8080/"
        }
      },
      "outputs": [
        {
          "output_type": "execute_result",
          "data": {
            "text/plain": [
              "11"
            ]
          },
          "metadata": {},
          "execution_count": 44
        }
      ],
      "source": [
        "characters.index('a',1)"
      ]
    },
    {
      "cell_type": "markdown",
      "metadata": {
        "id": "1-x8ijLboMGr"
      },
      "source": [
        "### sort() and reverse() methods\n",
        "Purpose: Sorts the elements in the list in-place in descending order. It modifies the list to be sorted based on values.\n",
        "\n",
        "Purpose: Reverses the order of the elements in the list in-place without sorting them. It simply flips the list from end to start."
      ]
    },
    {
      "cell_type": "code",
      "execution_count": null,
      "metadata": {
        "id": "U7Ct5S3yoVLz",
        "outputId": "d96ce11e-3a62-4fc4-f33a-f4d617b9c7b3",
        "colab": {
          "base_uri": "https://localhost:8080/"
        }
      },
      "outputs": [
        {
          "output_type": "stream",
          "name": "stdout",
          "text": [
            "['a', 'a', 'b', 'b', 'c', 'd', 'e', 'f', 'g', 'h', 'i', 'j', 'k', 'l', 'm', 'n', 'o', 'p', 'q', 'r', 's', 't', 'u', 'v', 'w', 'x', 'y', 'z']\n",
            "['z', 'y', 'x', 'w', 'v', 'u', 't', 's', 'r', 'q', 'p', 'o', 'n', 'm', 'l', 'k', 'j', 'i', 'h', 'g', 'f', 'e', 'd', 'c', 'b', 'b', 'a', 'a']\n",
            "['a', 'a', 'b', 'b', 'c', 'd', 'e', 'f', 'g', 'h', 'i', 'j', 'k', 'l', 'm', 'n', 'o', 'p', 'q', 'r', 's', 't', 'u', 'v', 'w', 'x', 'y', 'z']\n"
          ]
        }
      ],
      "source": [
        "characters.sort()\n",
        "print(characters)\n",
        "\n",
        "characters.sort(reverse=True)\n",
        "print(characters)\n",
        "\n",
        "characters.reverse()\n",
        "print(characters)"
      ]
    },
    {
      "cell_type": "markdown",
      "metadata": {
        "id": "QLmlV2dFxXY4"
      },
      "source": [
        "## Slicing"
      ]
    },
    {
      "cell_type": "code",
      "execution_count": null,
      "metadata": {
        "id": "mlyy92R-xmf1"
      },
      "outputs": [],
      "source": [
        "characters : list[str] = list(\"ABCDEFGHIJKLMNOPQRSTUVWXYZ\")\n",
        "print(characters)"
      ]
    },
    {
      "cell_type": "code",
      "execution_count": null,
      "metadata": {
        "id": "M8ZZJsF2x7Xn",
        "outputId": "98528b56-325b-4455-f68e-7961b9d73f2a",
        "colab": {
          "base_uri": "https://localhost:8080/"
        }
      },
      "outputs": [
        {
          "output_type": "stream",
          "name": "stdout",
          "text": [
            "26\n",
            "['A', 'B', 'C', 'D', 'E', 'F']\n",
            "['A', 'B', 'C', 'D']\n",
            "['A', 'B']\n",
            "['A']\n",
            "['A', 'B']\n",
            "['A', 'D', 'G']\n"
          ]
        }
      ],
      "source": [
        "#                          0    1    2                                                                                                                 25\n",
        "characters : list[str] = ['A', 'B', 'C', 'D', 'E', 'F', 'G', 'H', 'I', 'J', 'K', 'L', 'M', 'N', 'O', 'P', 'Q', 'R', 'S', 'T', 'U', 'V', 'W', 'X', 'Y', 'Z']\n",
        "#                         -26   -25  -24                                                                                                                -1\n",
        "\n",
        "# defualt slicing go from left to right\n",
        "print(len(characters))\n",
        "print(characters[0:6]) # 0= include : index 6-1 = 5\n",
        "print(characters[:4]) # not pass any number = all\n",
        "print(characters[-26:-24])# 0= include : index -24-1 = -25\n",
        "print(characters[0:2:2]) # 0= include : index 2-1 = 1\n",
        "print(characters[0:2:])\n",
        "print(characters[0:7:3])\n"
      ]
    },
    {
      "cell_type": "code",
      "source": [
        "print(characters[5:-10])"
      ],
      "metadata": {
        "id": "gVeyF6ouPSt3",
        "outputId": "df34590b-35b6-4812-ce2a-23d4406bdf43",
        "colab": {
          "base_uri": "https://localhost:8080/"
        }
      },
      "execution_count": null,
      "outputs": [
        {
          "output_type": "stream",
          "name": "stdout",
          "text": [
            "['F', 'G', 'H', 'I', 'J', 'K', 'L', 'M', 'N', 'O', 'P']\n"
          ]
        }
      ]
    },
    {
      "cell_type": "code",
      "source": [],
      "metadata": {
        "id": "vVcnsthBO3a9"
      },
      "execution_count": null,
      "outputs": []
    },
    {
      "cell_type": "code",
      "source": [
        "list = [1,2,3,4,5,6,7,8,9,10]\n",
        "sub_list =list[0:9:2]\n",
        "print(sub_list)"
      ],
      "metadata": {
        "id": "GUxtm-BNNxIZ",
        "outputId": "b09514e8-7ca1-4cbe-92bf-fe45d7fd277a",
        "colab": {
          "base_uri": "https://localhost:8080/"
        }
      },
      "execution_count": null,
      "outputs": [
        {
          "output_type": "stream",
          "name": "stdout",
          "text": [
            "[1, 3, 5, 7, 9]\n"
          ]
        }
      ]
    },
    {
      "cell_type": "code",
      "execution_count": null,
      "metadata": {
        "id": "7aUnHurryIdE",
        "outputId": "6c738da1-6872-459c-c8a2-72fc4330cec6",
        "colab": {
          "base_uri": "https://localhost:8080/"
        }
      },
      "outputs": [
        {
          "output_type": "stream",
          "name": "stdout",
          "text": [
            "['A', 'B', 'C', 'D', 'E', 'F', 'G', 'H', 'I', 'J', 'K', 'L', 'M', 'N', 'O', 'P', 'Q', 'R', 'S', 'T', 'U', 'V', 'W', 'X', 'Y', 'Z']\n",
            "['A', 'B', 'C', 'D', 'E', 'F', 'G', 'H', 'I', 'J', 'K', 'L', 'M', 'N', 'O', 'P', 'Q', 'R', 'S', 'T', 'U', 'V', 'W', 'X', 'Y', 'Z']\n"
          ]
        }
      ],
      "source": [
        "print(characters)\n",
        "print(characters[::])"
      ]
    },
    {
      "cell_type": "code",
      "execution_count": null,
      "metadata": {
        "id": "Ic_3SULQzf9c",
        "outputId": "d6871221-095d-44e5-f136-f834aada4492",
        "colab": {
          "base_uri": "https://localhost:8080/"
        }
      },
      "outputs": [
        {
          "output_type": "stream",
          "name": "stdout",
          "text": [
            "['H', 'G', 'F', 'E', 'D', 'C', 'B', 'A']\n",
            "['E', 'D']\n"
          ]
        }
      ],
      "source": [
        "characters : list[str] = ['A', 'B', 'C', 'D', 'E', 'F', 'G', 'H']\n",
        "                        #  1    2    3    4    5    6    7    8\n",
        "print(characters[::-1])\n",
        "print(characters[4:2:-1]) #E,D,C\n",
        "# print(characters[4:7])"
      ]
    },
    {
      "cell_type": "code",
      "execution_count": null,
      "metadata": {
        "id": "iKZ5UFnZzppD"
      },
      "outputs": [],
      "source": [
        "#                          0    1    2    3    4   5     6    7\n",
        "characters : list[str] = ['A', 'B', 'C', 'D', 'E', 'F', 'G', 'H']\n",
        "#                         -8    -7   -6  -5    -4   -3   -2   -1\n",
        "\n",
        "# iteration slicing ->\n",
        "# step -> positive\n",
        "# step <- negative\n",
        "print(characters[-2:-5:-1]) # ['G', 'F', 'E']\n",
        "print(characters[-5:-2]) # ['D', 'E', 'F']\n",
        "print(characters[::])\n",
        "print(characters[::-1])"
      ]
    },
    {
      "cell_type": "markdown",
      "metadata": {
        "id": "3sOWor23bgIp"
      },
      "source": [
        "## `in` and `is` operators"
      ]
    },
    {
      "cell_type": "markdown",
      "metadata": {
        "id": "rLjZiamVb3bz"
      },
      "source": [
        "### `in` Operator\n",
        "The in operator is used to check membership."
      ]
    },
    {
      "cell_type": "code",
      "execution_count": null,
      "metadata": {
        "id": "Ws3KPf0Zb8nz",
        "outputId": "18c546d6-688f-4da9-b977-21248a4970fd",
        "colab": {
          "base_uri": "https://localhost:8080/"
        }
      },
      "outputs": [
        {
          "output_type": "stream",
          "name": "stdout",
          "text": [
            "True\n",
            "False\n",
            "True\n",
            "True\n",
            "False\n"
          ]
        }
      ],
      "source": [
        "# Example 1: Checking membership\n",
        "my_list = [1, 2, 3, 4, 5]\n",
        "print(3 in my_list)  # Output: True\n",
        "print(6 in my_list)  # Output: False\n",
        "print(7 not in my_list)  # Output: True\n",
        "\n",
        "# Example 2: Checking membership in strings\n",
        "my_string = \"Hello, World!\"\n",
        "print(\"Hello\" in my_string)  # Output: True\n",
        "print(\"Python\" in my_string)"
      ]
    },
    {
      "cell_type": "markdown",
      "metadata": {
        "id": "d34epecjcK1Z"
      },
      "source": [
        "### `is` Operator\n",
        "The is operator checks identity, i.e., whether two variables point to the same object in memory"
      ]
    },
    {
      "cell_type": "code",
      "execution_count": null,
      "metadata": {
        "id": "jdj10lNubtO4",
        "outputId": "af7f38a9-ff50-45b6-e5bd-f48cc155e5ff",
        "colab": {
          "base_uri": "https://localhost:8080/"
        }
      },
      "outputs": [
        {
          "output_type": "stream",
          "name": "stdout",
          "text": [
            "False\n",
            "True\n",
            "False\n",
            "a: 137445381134848\n",
            "b: 137445381134080\n",
            "c: 137445381134848\n",
            "True\n"
          ]
        }
      ],
      "source": [
        "# Example 1: Checking identity\n",
        "a = [1, 2, 3]\n",
        "b = [1, 2, 3]\n",
        "c = a\n",
        "print(a is b)  # Output: False (different objects with the same value)\n",
        "print(a is c)  # Output: True (both variables point to the same object)\n",
        "print(a is not c)\n",
        "print(\"a:\",id(a))\n",
        "print(\"b:\",id(b))\n",
        "print(\"c:\",id(c))\n",
        "\n",
        "\n",
        "# Example 2: Comparing primitive types\n",
        "x = 10\n",
        "y = 10\n",
        "print(x is y)  # Output: True (small integers are cached and point to the same object)\n"
      ]
    },
    {
      "cell_type": "markdown",
      "metadata": {
        "id": "nbsWTzV5mv66"
      },
      "source": [
        "## Extra"
      ]
    },
    {
      "cell_type": "code",
      "execution_count": null,
      "metadata": {
        "id": "uanfR1Xjl-ur"
      },
      "outputs": [],
      "source": [
        "print(help(print))"
      ]
    },
    {
      "cell_type": "markdown",
      "metadata": {
        "id": "wqVcnqsmGqBq"
      },
      "source": [
        "## Projects"
      ]
    },
    {
      "cell_type": "markdown",
      "metadata": {
        "id": "Q8LoaZ--GqBq"
      },
      "source": []
    },
    {
      "cell_type": "markdown",
      "metadata": {
        "id": "kA0ny_EGGqBr"
      },
      "source": [
        "### Project 1: Student Management System\n",
        "Create a program to manage a list of student names. Implement functionalities to:\n",
        "- Add a new student.\n",
        "- Remove a student by name.\n",
        "- Display all students in alphabetical order.\n",
        "- Count the total number of students."
      ]
    },
    {
      "cell_type": "markdown",
      "metadata": {
        "id": "-84sZPl1GqBs"
      },
      "source": [
        "### Project 2: List Operations Demo\n",
        "Develop a Python script to demonstrate:\n",
        "- Appending items to a list.\n",
        "- Inserting an item at a specific position.\n",
        "- Popping and removing items.\n",
        "- Sorting and reversing the list.\n",
        "- Slicing the list to create sub-lists.\n"
      ]
    },
    {
      "cell_type": "markdown",
      "metadata": {
        "id": "U86surDiGqBs"
      },
      "source": [
        "### Project 3: Shallow vs. Deep Copy Exploration\n",
        "Create a program to illustrate the difference between shallow and deep copying of lists using examples.\n",
        "Display the impact of modifying one list on its copy in both cases."
      ]
    }
  ],
  "metadata": {
    "colab": {
      "provenance": []
    },
    "kernelspec": {
      "display_name": "Python 3",
      "name": "python3"
    },
    "language_info": {
      "name": "python"
    }
  },
  "nbformat": 4,
  "nbformat_minor": 0
}