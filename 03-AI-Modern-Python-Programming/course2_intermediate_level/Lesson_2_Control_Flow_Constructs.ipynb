{
  "nbformat": 4,
  "nbformat_minor": 0,
  "metadata": {
    "colab": {
      "provenance": []
    },
    "kernelspec": {
      "name": "python3",
      "display_name": "Python 3"
    },
    "language_info": {
      "name": "python"
    }
  },
  "cells": [
    {
      "cell_type": "markdown",
      "source": [
        "# Control Flow Constructs"
      ],
      "metadata": {
        "id": "N7sKeEJONZ2j"
      }
    },
    {
      "cell_type": "markdown",
      "source": [
        "### Problem:\n",
        "Without conditional statements, a program executes every statement sequentially, regardless of the context or situation. This results in inefficiency and an inability to make decisions dynamically based on specific conditions.\n",
        "\n",
        "### Solution by Conditional Statements:\n",
        "Conditional statements solve this problem by allowing the program to evaluate conditions and execute specific blocks of code only if the conditions are met. Using constructs like `if`, `elif`, and `else`, they enable dynamic decision-making, ensuring only relevant code runs based on the given scenario. This makes programs efficient, adaptable, and capable of handling multiple situations effectively."
      ],
      "metadata": {
        "id": "gInjCixJM76c"
      }
    },
    {
      "cell_type": "markdown",
      "source": [
        "\n",
        "Control Flow Constructs are used to define Conditional Statements, Logical Operators, and Membership & Identity Operators in Python, enabling the control of program execution based on conditions, logical evaluations, and membership tests."
      ],
      "metadata": {
        "id": "F7ySXCUr45oQ"
      }
    },
    {
      "cell_type": "markdown",
      "source": [
        "# Falsy values in Python\n",
        "\n",
        "These values are evaluated to 'false' that's why we call it `falsy` values.\n",
        "\n",
        "```python\n",
        "value_01 : None = None\n",
        "value_02 : int = 0\n",
        "value_03 : float = 0.0\n",
        "value_04 : str = \"\"\n",
        "Value_05 : bool = False\n",
        "value_06 : list[None] = []\n",
        "```\n",
        "And all other empty collections and sequences are also `falsy`."
      ],
      "metadata": {
        "id": "h6Nu_L6hmpiE"
      }
    },
    {
      "cell_type": "markdown",
      "source": [
        "# Conditional Statements in Python\n",
        "\n",
        "## Making Decisions in Code\n",
        "\n",
        "Imagine you’re creating an app that suggests activities based on the weather. If it’s sunny, it suggests a walk. If it’s rainy, it recommends reading a book indoors. But what about cloudy or snowy days? How can your app know what to do in each situation?\n",
        "\n",
        "This is where **conditional statements** come in—they help your code make decisions.\n",
        "\n",
        "## What Are Conditional Statements?\n",
        "\n",
        "Conditional statements in Python are like traffic signals for your code. They guide it to take the right path depending on the situation. Python uses three main tools for this:\n",
        "\n",
        "- **`if`**: Check if a condition is true.\n",
        "- **`elif`**: Check other conditions if the first isn’t true.\n",
        "- **`else`**: Provide a fallback if none of the conditions are true.\n",
        "\n",
        "By combining these, you can make your program smart enough to handle any situation!"
      ],
      "metadata": {
        "id": "DLkfOOfvisPo"
      }
    },
    {
      "cell_type": "code",
      "source": [
        "weather = \"\"\n",
        "if weather == \"cold\":\n",
        "  print(\"stay at home\")\n",
        "elif weather == \"sunny\":\n",
        "  print(\"Go for walk\")\n",
        "elif weather == \"rainy\":\n",
        "  print(\"Pick umrella and go for walk\")\n",
        "else:\n",
        "  print(\"could not decide\")"
      ],
      "metadata": {
        "colab": {
          "base_uri": "https://localhost:8080/"
        },
        "id": "6bvHeTxMvHBh",
        "outputId": "cd905d64-a8f9-4614-d239-d025b584afda"
      },
      "execution_count": 10,
      "outputs": [
        {
          "output_type": "stream",
          "name": "stdout",
          "text": [
            "could not decide\n"
          ]
        }
      ]
    },
    {
      "cell_type": "markdown",
      "source": [
        "### **1. `if` Statement:**  \n"
      ],
      "metadata": {
        "id": "VA-DX_sG5jA9"
      }
    },
    {
      "cell_type": "code",
      "execution_count": 17,
      "metadata": {
        "id": "DhqUCYNo7Jfq"
      },
      "outputs": [],
      "source": [
        "weather = \"sunny\"\n",
        "\n",
        "if weather == \"Sunny\":\n",
        "    print(\"It's a beautiful day! Go for a walk.\")\n"
      ]
    },
    {
      "cell_type": "markdown",
      "source": [
        "### **2. Adding `else`:**  \n",
        "The `else` block provides a fallback if the `if` condition is `False`.\n"
      ],
      "metadata": {
        "id": "IbT3V92ci7Ln"
      }
    },
    {
      "cell_type": "code",
      "source": [
        "weather = \"sunny\"\n",
        "if 0:\n",
        "    print(\"It's a beautiful day! Go for a walk.\")\n",
        "else:\n",
        "    print(\"Stay indoors and read a book.\")\n"
      ],
      "metadata": {
        "id": "Al9Lm4N2i9EE",
        "colab": {
          "base_uri": "https://localhost:8080/"
        },
        "outputId": "ffff83bf-dd3a-4dd9-e4bf-15baaa95e677"
      },
      "execution_count": 18,
      "outputs": [
        {
          "output_type": "stream",
          "name": "stdout",
          "text": [
            "It's a beautiful day! Go for a walk.\n"
          ]
        }
      ]
    },
    {
      "cell_type": "markdown",
      "source": [
        "\n",
        "### **3. The Ternary Operator**:  \n",
        "For concise `if-else` logic, use the ternary operator.\n"
      ],
      "metadata": {
        "id": "kVpABWZNlDZn"
      }
    },
    {
      "cell_type": "code",
      "source": [
        "weather = \"\"\n",
        "message = \"Go for a walk.\" if weather == \"sunny\" else \"Read a book.\"\n",
        "print(message)\n"
      ],
      "metadata": {
        "id": "9LX9FqX6lE6u",
        "colab": {
          "base_uri": "https://localhost:8080/"
        },
        "outputId": "1347d9c7-ed9b-4667-8707-60d715897ad5"
      },
      "execution_count": 20,
      "outputs": [
        {
          "output_type": "stream",
          "name": "stdout",
          "text": [
            "Read a book.\n"
          ]
        }
      ]
    },
    {
      "cell_type": "code",
      "source": [
        "weather = input(\"what is the weather? you have choices are sunny or cold\")\n",
        "if weather == \"sunny\":\n",
        "  print(\"Go for a walk\")\n",
        "else:\n",
        "  print(\"Read a book\")"
      ],
      "metadata": {
        "colab": {
          "base_uri": "https://localhost:8080/"
        },
        "id": "1NPhFGfez0t1",
        "outputId": "c3a1ed0b-a84f-4f63-9513-b01ce74b9bc1"
      },
      "execution_count": 21,
      "outputs": [
        {
          "output_type": "stream",
          "name": "stdout",
          "text": [
            "what is the weather? you have choices are sunny or coldsunny\n",
            "Go for a walk\n"
          ]
        }
      ]
    },
    {
      "cell_type": "markdown",
      "source": [
        "### **4. The `elif` Statement**:  \n",
        "Use `elif` for multiple conditions.\n"
      ],
      "metadata": {
        "id": "YpHc1etxlcao"
      }
    },
    {
      "cell_type": "code",
      "source": [
        "weather = \"sunny\"\n",
        "weather = \"cloudy\"\n",
        "if weather == \"sunny\":\n",
        "    print(\"Go for a walk.\")\n",
        "    print(\"Enjoy the weather\")\n",
        "elif weather == \"cloudy\":\n",
        "    print(\"Take an umbrella.\")\n",
        "else:\n",
        "    print(\"Stay indoors.\")"
      ],
      "metadata": {
        "id": "Y7ntFTNnldko",
        "colab": {
          "base_uri": "https://localhost:8080/"
        },
        "outputId": "d14ed22d-4706-4fef-b0cb-12ba85e3bb60"
      },
      "execution_count": 24,
      "outputs": [
        {
          "output_type": "stream",
          "name": "stdout",
          "text": [
            "Take an umbrella.\n"
          ]
        }
      ]
    },
    {
      "cell_type": "markdown",
      "source": [
        "## Advanced Techniques\n",
        "\n",
        "### **Nested Conditional Statements**  \n",
        "Nest conditions for more complex decision-making.\n"
      ],
      "metadata": {
        "id": "mJusl5bjl_LH"
      }
    },
    {
      "cell_type": "code",
      "source": [
        "is_member = True\n",
        "purchase_amount = 200\n",
        "\n",
        "if is_member:\n",
        "    if purchase_amount > 200:\n",
        "        print(\"You qualify for a 10% discount!\")\n",
        "    else:\n",
        "        print(\"Spend more to qualify.\")\n",
        "else:\n",
        "    print(\"Join as a member for discounts!\")"
      ],
      "metadata": {
        "id": "lLKgemn0mC1y",
        "colab": {
          "base_uri": "https://localhost:8080/"
        },
        "outputId": "fcec1cbd-9fde-45ab-f501-f1a91102e70b"
      },
      "execution_count": 27,
      "outputs": [
        {
          "output_type": "stream",
          "name": "stdout",
          "text": [
            "Spend more to qualify.\n"
          ]
        }
      ]
    },
    {
      "cell_type": "markdown",
      "source": [
        "### **Independent Conditions**  \n",
        "Evaluate multiple unrelated conditions independently."
      ],
      "metadata": {
        "id": "WJOPLLgbm4-f"
      }
    },
    {
      "cell_type": "code",
      "source": [
        "lights_on = True\n",
        "doors_locked = False\n",
        "\n",
        "if lights_on:\n",
        "    print(\"Turning off the lights.\")\n",
        "if not doors_locked:\n",
        "    print(\"Locking the doors.\")\n"
      ],
      "metadata": {
        "id": "KCKoBc4Nm7tB",
        "colab": {
          "base_uri": "https://localhost:8080/"
        },
        "outputId": "c8da0e26-22c0-4c9e-e8db-230a12f6ee63"
      },
      "execution_count": 28,
      "outputs": [
        {
          "output_type": "stream",
          "name": "stdout",
          "text": [
            "Turning off the lights.\n",
            "Locking the doors.\n"
          ]
        }
      ]
    },
    {
      "cell_type": "markdown",
      "source": [
        "---\n",
        "\n",
        "## Why It Matters\n",
        "\n",
        "Conditional statements make code:  \n",
        "- **Dynamic:** Adapt to real-world scenarios.  \n",
        "- **Flexible:** Handle diverse inputs.  \n",
        "- **Intelligent:** Solve problems like user interaction, automation, and more.\n",
        "\n",
        "---\n",
        "\n",
        "### Examples in Action\n",
        "\n"
      ],
      "metadata": {
        "id": "QD_LjZqtnZrj"
      }
    },
    {
      "cell_type": "markdown",
      "source": [
        "#### **1. Grading System**"
      ],
      "metadata": {
        "id": "-vflcUG856Bq"
      }
    },
    {
      "cell_type": "code",
      "source": [
        "score = 85\n",
        "\n",
        "if score >= 90:\n",
        "    print(\"Grade: A\")\n",
        "elif score >= 80:\n",
        "    print(\"Grade: B\")\n",
        "elif score >= 70:\n",
        "    print(\"Grade: C\")\n",
        "else:\n",
        "    print(\"Grade: F\")\n"
      ],
      "metadata": {
        "id": "QNMuJ8Q8nnSn",
        "colab": {
          "base_uri": "https://localhost:8080/"
        },
        "outputId": "efa283a8-62b7-4e1a-ef4f-865fd7ec5875"
      },
      "execution_count": 29,
      "outputs": [
        {
          "output_type": "stream",
          "name": "stdout",
          "text": [
            "Grade: B\n"
          ]
        }
      ]
    },
    {
      "cell_type": "markdown",
      "source": [
        "#### **2. Restaurant Order System**"
      ],
      "metadata": {
        "id": "iQi7lVHIn1Pl"
      }
    },
    {
      "cell_type": "code",
      "source": [
        "meal = \"burger\"\n",
        "add_cheese = True\n",
        "\n",
        "if meal == \"burger\":\n",
        "    print(\"Burger selected.\")\n",
        "    if add_cheese:\n",
        "        print(\"Adding cheese.\")\n",
        "    else:\n",
        "        print(\"No cheese added.\")\n"
      ],
      "metadata": {
        "id": "zVUdFBJhn3BO",
        "colab": {
          "base_uri": "https://localhost:8080/"
        },
        "outputId": "2ed4baf3-a883-43bb-c81d-353550a61010"
      },
      "execution_count": 30,
      "outputs": [
        {
          "output_type": "stream",
          "name": "stdout",
          "text": [
            "Burger selected.\n",
            "Adding cheese.\n"
          ]
        }
      ]
    },
    {
      "cell_type": "markdown",
      "source": [
        "## Takeaway\n",
        "\n",
        "Conditional statements are the backbone of decision-making in Python. Whether you need a simple `if` or complex nested logic, mastering these tools unlocks smarter, more flexible programming."
      ],
      "metadata": {
        "id": "jaljNBG_oEi9"
      }
    },
    {
      "cell_type": "markdown",
      "source": [
        "# Logical Operators in Python\n",
        "\n",
        "## Smarter Decisions in Code\n",
        "\n",
        "Imagine you're creating a game that gives rewards:\n",
        "\n",
        "- A big bonus if the player scores above 50 **and** completes the level.  \n",
        "- A small bonus if the player completes the level **or** finds a hidden item.  \n",
        "- No bonus if neither condition is met.\n",
        "\n",
        "How can your code check these conditions together? This is where **logical operators** help.\n",
        "\n",
        "### Logical Operators in Python -- Revision\n",
        "\n",
        "- **`and`**: All conditions must be true.  \n",
        "- **`or`**: At least one condition must be true.  \n",
        "- **`not`**: Reverses a condition (true becomes false).  \n",
        "\n",
        "### Example:"
      ],
      "metadata": {
        "id": "XffNkIJRtQUC"
      }
    },
    {
      "cell_type": "code",
      "source": [
        "score = 55\n",
        "level_completed = True\n",
        "hidden_item_found = False\n",
        "\n",
        "if score > 50 and level_completed:\n",
        "    print(\"Big bonus unlocked!\")\n",
        "elif level_completed or hidden_item_found:\n",
        "    print(\"Small bonus unlocked!\")\n",
        "else:\n",
        "    print(\"No bonus. Try again!\")"
      ],
      "metadata": {
        "id": "R_I_yvFatTpr",
        "colab": {
          "base_uri": "https://localhost:8080/"
        },
        "outputId": "5350b75b-de74-407b-9707-337ce275cb53"
      },
      "execution_count": 33,
      "outputs": [
        {
          "output_type": "stream",
          "name": "stdout",
          "text": [
            "Big bonus unlocked!\n"
          ]
        }
      ]
    },
    {
      "cell_type": "markdown",
      "source": [
        "Here are the truth tables for Python's logical operators: **`and`**, **`or`**, and **`not`**.\n",
        "\n",
        "### **Truth Table for `and`**\n",
        "`and` returns `True` if **both conditions** are `True`.\n",
        "\n",
        "| Condition 1 | Condition 2 | Result (`Condition 1 and Condition 2`) |\n",
        "|-------------|-------------|-----------------------------------------|\n",
        "| `True`      | `True`      | `True`                                  |\n",
        "| `True`      | `False`     | `False`                                 |\n",
        "| `False`     | `True`      | `False`                                 |\n",
        "| `False`     | `False`     | `False`                                 |\n",
        "\n",
        "---\n",
        "\n",
        "### **Truth Table for `or`**\n",
        "`or` returns `True` if **at least one condition** is `True`.\n",
        "\n",
        "| Condition 1 | Condition 2 | Result (`Condition 1 or Condition 2`) |\n",
        "|-------------|-------------|----------------------------------------|\n",
        "| `True`      | `True`      | `True`                                 |\n",
        "| `True`      | `False`     | `True`                                 |\n",
        "| `False`     | `True`      | `True`                                 |\n",
        "| `False`     | `False`     | `False`                                |\n",
        "\n",
        "---\n",
        "\n",
        "### **Truth Table for `not`**\n",
        "`not` reverses the condition (i.e., `True` becomes `False`, and vice versa).\n",
        "\n",
        "| Condition   | Result (`not Condition`) |\n",
        "|-------------|---------------------------|\n",
        "| `True`      | `False`                   |\n",
        "| `False`     | `True`                    |\n",
        "\n",
        "---\n",
        "\n",
        "These truth tables summarize how each logical operator behaves when combining or modifying conditions."
      ],
      "metadata": {
        "id": "lKub6zA5xVw8"
      }
    },
    {
      "cell_type": "markdown",
      "source": [
        "## Membership & Identity Operators -- Revision\n",
        "\n",
        "Membership and identity operators in Python are used to check the presence of an element within a sequence and to compare objects' identities, respectively. Here's an explanation of each:"
      ],
      "metadata": {
        "id": "JFW3T8Mwxo9A"
      }
    },
    {
      "cell_type": "markdown",
      "source": [
        "### Membership Operators\n",
        "\n",
        "Membership operators are used to test whether a value or variable is found within a sequence, such as a string, list, or tuple. Python provides two membership operators:\n",
        "\n",
        "- `in`\n",
        "- `not in`\n",
        "\n",
        "### 1. `in` Operator\n",
        "\n",
        "The `in` operator returns `True` if the specified value is found in the sequence.\n",
        "\n",
        "#### Example:"
      ],
      "metadata": {
        "id": "E7lZN4U30TTb"
      }
    },
    {
      "cell_type": "code",
      "source": [
        "# Checking if an element is in a list\n",
        "fruits = [\"apple\", \"banana\", \"cherry\"]\n",
        "print(\"apple\" in fruits)  # Output: True\n",
        "print(\"orange\" in fruits)  # Output: False"
      ],
      "metadata": {
        "id": "a4eHJADvxqtg",
        "colab": {
          "base_uri": "https://localhost:8080/"
        },
        "outputId": "6879b2d1-b758-489c-93e8-ca5f71647943"
      },
      "execution_count": 34,
      "outputs": [
        {
          "output_type": "stream",
          "name": "stdout",
          "text": [
            "True\n",
            "False\n"
          ]
        }
      ]
    },
    {
      "cell_type": "code",
      "source": [
        "# Checking if a character is in a string\n",
        "message = \"Hello, World!\"\n",
        "print(\"H\" in message)  # Output: True\n",
        "print(\"h\" in message)  # Output: False (case-sensitive)"
      ],
      "metadata": {
        "id": "sIQ0heF8xz5h",
        "colab": {
          "base_uri": "https://localhost:8080/"
        },
        "outputId": "0ee830a9-6512-4b54-bd08-5fa9974b629f"
      },
      "execution_count": 35,
      "outputs": [
        {
          "output_type": "stream",
          "name": "stdout",
          "text": [
            "True\n",
            "False\n"
          ]
        }
      ]
    },
    {
      "cell_type": "markdown",
      "source": [
        "### 2. `not in` Operator\n",
        "\n",
        "The `not in` operator returns `True` if the specified value is not found in the sequence.\n",
        "\n",
        "#### Example:"
      ],
      "metadata": {
        "id": "eal6lJQnx_SU"
      }
    },
    {
      "cell_type": "code",
      "source": [
        "# Checking if an element is not in a list\n",
        "fruits = [\"apple\", \"banana\", \"cherry\"]\n",
        "print(\"orange\" not in fruits)  # Output: True\n",
        "print(\"banana\" not in fruits)  # Output: False"
      ],
      "metadata": {
        "id": "Ch1rT_miyFng"
      },
      "execution_count": null,
      "outputs": []
    },
    {
      "cell_type": "code",
      "source": [
        "# Checking if a substring is not in a string\n",
        "message = \"Hello, World!\"\n",
        "print(\"Python\" not in message)  # Output: True"
      ],
      "metadata": {
        "id": "TC5rYKsNyLOo"
      },
      "execution_count": null,
      "outputs": []
    },
    {
      "cell_type": "markdown",
      "source": [
        "### Identity Operators\n",
        "\n",
        "Identity operators are used to compare the memory location of two objects. They determine whether two variables refer to the same object in memory. Python provides two identity operators:\n",
        "\n",
        "- `is`\n",
        "- `is not`\n",
        "\n",
        "### 1. `is` Operator\n",
        "\n",
        "The `is` operator returns `True` if two variables point to the same object (i.e., have the same memory location).\n",
        "\n",
        "#### Example:"
      ],
      "metadata": {
        "id": "JrXu5x1wz_Tc"
      }
    },
    {
      "cell_type": "code",
      "source": [
        "# Comparing two variables that point to the same object\n",
        "a = [1, 2, 3]\n",
        "b = a\n",
        "print(id(a))\n",
        "print(id(b))\n",
        "print(a is b)  # Output: True"
      ],
      "metadata": {
        "id": "Ha6fVjBE0BfI"
      },
      "execution_count": null,
      "outputs": []
    },
    {
      "cell_type": "code",
      "source": [
        "# Comparing two variables that point to different objects\n",
        "c = [1, 2, 3]\n",
        "print(id(a))\n",
        "print(id(c))\n",
        "print(a is c)  # Output: False"
      ],
      "metadata": {
        "id": "uSdYZNwR0Hcq"
      },
      "execution_count": null,
      "outputs": []
    },
    {
      "cell_type": "markdown",
      "source": [
        "In the first comparison, `a` and `b` are pointing to the same list object in memory, so `a is b` returns `True`. In the second comparison, `a` and `c` point to different list objects, even though they contain the same elements, so `a is c` returns `False`.\n",
        "\n",
        "### 2. `is not` Operator\n",
        "\n",
        "The `is not` operator returns `True` if two variables do not point to the same object (i.e., have different memory locations).\n",
        "\n",
        "#### Example:"
      ],
      "metadata": {
        "id": "rwo_GMrj0i6s"
      }
    },
    {
      "cell_type": "code",
      "source": [
        "# Comparing two variables that do not point to the same object\n",
        "a = [1, 2, 3]\n",
        "b = [1, 2, 3]\n",
        "print(a is not b)  # Output: True"
      ],
      "metadata": {
        "id": "u4xzYBLC0rud"
      },
      "execution_count": null,
      "outputs": []
    },
    {
      "cell_type": "code",
      "source": [
        "# Comparing two variables that point to the same object\n",
        "c = a\n",
        "print(a is not c)  # Output: False"
      ],
      "metadata": {
        "id": "Z9BMaQR-0z4O"
      },
      "execution_count": null,
      "outputs": []
    },
    {
      "cell_type": "markdown",
      "source": [
        "In the first example, `a` and `b` point to different objects in memory, so `a is not b` returns `True`. In the second example, `a` and `c` point to the same object, so `a is not c` returns `False`.\n",
        "\n",
        "### Key Differences Between `==` and `is`\n",
        "\n",
        "- `==` compares the values of two objects to see if they are equal.\n",
        "- `is` compares the identities of two objects to see if they refer to the same object in memory.\n",
        "\n",
        "### Example:"
      ],
      "metadata": {
        "id": "GVeu49SH06xm"
      }
    },
    {
      "cell_type": "code",
      "source": [
        "x = [1, 2, 3]\n",
        "y = [1, 2, 3]\n",
        "print(id(x))\n",
        "print(id(y))"
      ],
      "metadata": {
        "id": "3L1DQ7zC0-L9"
      },
      "execution_count": null,
      "outputs": []
    },
    {
      "cell_type": "code",
      "source": [
        "print(x == y)  # Output: True (values are equal)\n",
        "print(x is y)  # Output: False (different objects in memory)"
      ],
      "metadata": {
        "id": "y7_QX9z02OS7"
      },
      "execution_count": null,
      "outputs": []
    },
    {
      "cell_type": "markdown",
      "source": [
        "In this example, `x == y` returns `True` because the lists have the same elements, but `x is y` returns `False` because they are two distinct objects in memory.\n",
        "\n",
        "---\n",
        "\n",
        "This explanation covers the basics of membership and identity operators in Python, including their syntax, purpose, and practical examples."
      ],
      "metadata": {
        "id": "qk1Skd_p1GdY"
      }
    },
    {
      "cell_type": "markdown",
      "source": [
        "## Projects"
      ],
      "metadata": {
        "id": "LZb2mC_NLetk"
      }
    },
    {
      "cell_type": "markdown",
      "source": [
        "### Project 1: Weather Suggestion App\n",
        "Create a program that:\n",
        "- Asks the user for the current weather (e.g., sunny, rainy, cloudy).\n",
        "- Uses conditional statements to suggest an activity based on the weather.\n",
        "- First implement using `if`, `elif` and `else`\n",
        "- Then implements the ternary operator for concise decision-making.\n"
      ],
      "metadata": {
        "id": "Y4s9LUmpLg44"
      }
    },
    {
      "cell_type": "markdown",
      "source": [
        "### Project 2: Grading System\n",
        "Develop a Python program that:\n",
        "- Accepts a numerical score from the user.\n",
        "- Uses `if`, `elif`, and `else` to determine the corresponding grade (A, B, C, F).\n",
        "- Includes nested conditions for advanced grading (e.g., adding \"+\" or \"-\" to the grade based on score ranges).\n"
      ],
      "metadata": {
        "id": "B8FxjigBLhXM"
      }
    },
    {
      "cell_type": "markdown",
      "source": [
        "### Project 3: Logical Rewards System\n",
        "Write a program to simulate a game rewards system:\n",
        "- A big reward is given if the player scores more than 100 and collects all keys.\n",
        "- A small reward is given if the player collects at least one key or completes the level.\n",
        "- Use logical operators (`and`, `or`) to implement the conditions.\n"
      ],
      "metadata": {
        "id": "DtzAuwn4Lhua"
      }
    }
  ]
}