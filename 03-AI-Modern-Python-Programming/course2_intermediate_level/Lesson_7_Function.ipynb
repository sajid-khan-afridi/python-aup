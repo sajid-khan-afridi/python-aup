{
  "cells": [
    {
      "cell_type": "markdown",
      "id": "179e4aba",
      "metadata": {
        "id": "179e4aba"
      },
      "source": [
        "# 1. Functions in Python"
      ]
    },
    {
      "cell_type": "markdown",
      "id": "b0fe05fe",
      "metadata": {
        "id": "b0fe05fe"
      },
      "source": [
        "Functions are reusable blocks of code that perform a specific task. They help simplify repetitive operations, improve code organization, and reduce redundancy."
      ]
    },
    {
      "cell_type": "markdown",
      "id": "5646d517",
      "metadata": {
        "id": "5646d517"
      },
      "source": [
        "## 1.1 Why Use Functions?"
      ]
    },
    {
      "cell_type": "markdown",
      "id": "36fe0bf7",
      "metadata": {
        "id": "36fe0bf7"
      },
      "source": [
        "- **Code Reusability:** Write once, use multiple times.\n",
        "- **Avoid Code Duplication:** Keep your code DRY (Don’t Repeat Yourself).\n",
        "- **Simplify Debugging:** Isolate functionality, making issues easier to locate and fix.\n",
        "- **Modular Design:** Break down complex problems into smaller, manageable tasks."
      ]
    },
    {
      "cell_type": "markdown",
      "id": "c4e0372d",
      "metadata": {
        "id": "c4e0372d"
      },
      "source": [
        "> **Best Practice:** Adhere to the [PEP 8](https://peps.python.org/pep-0008/) naming conventions for functions. Use lowercase letters and underscores (e.g., calculate_total, not CalculateTotal)."
      ]
    },
    {
      "cell_type": "markdown",
      "id": "2d08c6c2",
      "metadata": {
        "id": "2d08c6c2"
      },
      "source": [
        "## 1.2 Types of Functions"
      ]
    },
    {
      "cell_type": "markdown",
      "id": "4618f31e",
      "metadata": {
        "id": "4618f31e"
      },
      "source": [
        "1. **Built-in Functions:** Predefined functions like print(), len(), type(), etc.\n",
        "2. **User-Defined Functions:** Functions written by users to address specific requirements."
      ]
    },
    {
      "cell_type": "markdown",
      "id": "8e0b68df",
      "metadata": {
        "id": "8e0b68df"
      },
      "source": [
        "## 1.3 Creating and Using Functions"
      ]
    },
    {
      "cell_type": "markdown",
      "id": "02f90151",
      "metadata": {
        "id": "02f90151"
      },
      "source": [
        "You define a function using the def keyword followed by a function name, parentheses, and a colon. The function’s body is indented, and you can optionally include a return statement to send a value back to the caller."
      ]
    },
    {
      "cell_type": "markdown",
      "id": "1d28aa1d",
      "metadata": {
        "id": "1d28aa1d"
      },
      "source": [
        "**Syntax**:\n",
        "```python\n",
        " def function_name(parameters):\n",
        "    # Function body\n",
        "    # Optional docstring\n",
        "    return result\n",
        "```"
      ]
    },
    {
      "cell_type": "markdown",
      "id": "9ab5768e",
      "metadata": {
        "id": "9ab5768e"
      },
      "source": [
        "To call (invoke) the function, simply use:"
      ]
    },
    {
      "cell_type": "markdown",
      "id": "997430a4",
      "metadata": {
        "id": "997430a4"
      },
      "source": [
        "```python\n",
        " function_name(arguments)\n",
        "```"
      ]
    },
    {
      "cell_type": "markdown",
      "id": "3256c8d8",
      "metadata": {
        "id": "3256c8d8"
      },
      "source": [
        "> **Tip:** Include a docstring (triple-quoted string) inside your function to describe its purpose, parameters, and return value. This helps with readability and maintenance.\n",
        "\n",
        "> A **docstring** in a Python function provides a concise description of the function's purpose, parameters, and return values. It improves code readability and serves as documentation for developers.\n",
        "\n",
        "> In tools like **LangChain** and **LangGraph**, docstrings can be used to generate automated documentation for chains, agents, and components. This is particularly valuable for managing and explaining complex workflows, enabling seamless collaboration and faster debugging in AI projects."
      ]
    },
    {
      "cell_type": "markdown",
      "id": "154b77cf",
      "metadata": {
        "id": "154b77cf"
      },
      "source": [
        "## 1.4 Example: A Simple Function"
      ]
    },
    {
      "cell_type": "markdown",
      "id": "0dc2901d",
      "metadata": {
        "id": "0dc2901d"
      },
      "source": [
        "Creating a reusable function that prompts the user for a number and prints it:"
      ]
    },
    {
      "cell_type": "code",
      "execution_count": 1,
      "id": "17dc2970",
      "metadata": {
        "id": "17dc2970"
      },
      "outputs": [],
      "source": [
        "\n",
        "def print_number():\n",
        "    \"\"\"Prompts the user for a number and prints it.\"\"\"\n",
        "    number = int(input(\"Enter a number: \"))\n",
        "    print(f\"You entered: {number}\")\n"
      ]
    },
    {
      "cell_type": "code",
      "source": [
        "print_number()"
      ],
      "metadata": {
        "id": "OP7V6U-64w6C",
        "outputId": "c4793733-4a8a-4e19-fe39-fb152001883c",
        "colab": {
          "base_uri": "https://localhost:8080/"
        }
      },
      "id": "OP7V6U-64w6C",
      "execution_count": 2,
      "outputs": [
        {
          "output_type": "stream",
          "name": "stdout",
          "text": [
            "Enter a number: 6\n",
            "You entered: 6\n"
          ]
        }
      ]
    },
    {
      "cell_type": "markdown",
      "id": "0b920c93",
      "metadata": {
        "id": "0b920c93"
      },
      "source": [
        "# 2. Function Parameters and Arguments"
      ]
    },
    {
      "cell_type": "markdown",
      "id": "3377c623",
      "metadata": {
        "id": "3377c623"
      },
      "source": [
        "Functions can optionally accept inputs (parameters) to handle data more flexibly and dynamically."
      ]
    },
    {
      "cell_type": "markdown",
      "id": "cca255e7",
      "metadata": {
        "id": "cca255e7"
      },
      "source": [
        "## 2.1 Parameterless Functions"
      ]
    },
    {
      "cell_type": "markdown",
      "id": "0162d7e3",
      "metadata": {
        "id": "0162d7e3"
      },
      "source": [
        "A function without parameters:"
      ]
    },
    {
      "cell_type": "code",
      "execution_count": 5,
      "id": "c3952d27",
      "metadata": {
        "id": "c3952d27",
        "outputId": "b0b8ed7a-ac8f-498a-82dd-67f7a14c1d28",
        "colab": {
          "base_uri": "https://localhost:8080/"
        }
      },
      "outputs": [
        {
          "output_type": "stream",
          "name": "stdout",
          "text": [
            "Hello Ali!\n",
            "Hello Hamza!\n"
          ]
        }
      ],
      "source": [
        "\n",
        "def greet(name : str):\n",
        "    \"\"\"\n",
        "    Prints a personalized greeting.\n",
        "    \"\"\"\n",
        "    print(f\"Hello {name}!\")\n",
        "\n",
        "greet(\"Ali\")\n",
        "greet(\"Hamza\")"
      ]
    },
    {
      "cell_type": "markdown",
      "id": "4f27eb46",
      "metadata": {
        "id": "4f27eb46"
      },
      "source": [
        "## 2.2 Parameterized Functions"
      ]
    },
    {
      "cell_type": "markdown",
      "id": "5913d04a",
      "metadata": {
        "id": "5913d04a"
      },
      "source": [
        "A function with parameters:"
      ]
    },
    {
      "cell_type": "code",
      "execution_count": 6,
      "id": "13a784c8",
      "metadata": {
        "id": "13a784c8",
        "outputId": "47a6728b-cce4-40cd-a4f6-8f939f21d633",
        "colab": {
          "base_uri": "https://localhost:8080/"
        }
      },
      "outputs": [
        {
          "output_type": "stream",
          "name": "stdout",
          "text": [
            "Hello, Ali!\n"
          ]
        }
      ],
      "source": [
        "def greet(name):\n",
        "    \"\"\"\n",
        "    Prints a personalized greeting using the provided name.\n",
        "    \"\"\"\n",
        "    print(f\"Hello, {name}!\")\n",
        "\n",
        "greet(\"Ali\")"
      ]
    },
    {
      "cell_type": "markdown",
      "id": "4de94a09",
      "metadata": {
        "id": "4de94a09"
      },
      "source": [
        "## 2.3 Difference Between Parameters and Arguments"
      ]
    },
    {
      "cell_type": "markdown",
      "id": "9fba6cab",
      "metadata": {
        "id": "9fba6cab"
      },
      "source": [
        "- **Parameters:** Variables listed inside the parentheses in the function definition.\n",
        "- **Arguments:** Values passed into the function when it is invoked."
      ]
    },
    {
      "cell_type": "markdown",
      "id": "b7e092c3",
      "metadata": {
        "id": "b7e092c3"
      },
      "source": [
        "> **Additional Insight:** Python allows default parameter values, which can be especially handy:"
      ]
    },
    {
      "cell_type": "code",
      "execution_count": 8,
      "id": "0cfc6f14",
      "metadata": {
        "id": "0cfc6f14",
        "outputId": "3b311c30-9026-4013-b0cc-7fb618cfb860",
        "colab": {
          "base_uri": "https://localhost:8080/"
        }
      },
      "outputs": [
        {
          "output_type": "stream",
          "name": "stdout",
          "text": [
            "Hello, Guest!\n",
            "Hello, Alice!\n"
          ]
        }
      ],
      "source": [
        "def greet(name=\"Guest\"):\n",
        "    print(f\"Hello, {name}!\")\n",
        "\n",
        "greet()\n",
        "greet(\"Alice\")"
      ]
    },
    {
      "cell_type": "markdown",
      "id": "e525c6c7",
      "metadata": {
        "id": "e525c6c7"
      },
      "source": [
        "> **Warning:** Avoid using mutable objects (e.g., lists, dictionaries) as default parameter values because they can lead to unexpected behavior if modified within the function."
      ]
    },
    {
      "cell_type": "markdown",
      "id": "49dd3fff",
      "metadata": {
        "id": "49dd3fff"
      },
      "source": [
        "# 3. Function Return Types"
      ]
    },
    {
      "cell_type": "markdown",
      "id": "47330a05",
      "metadata": {
        "id": "47330a05"
      },
      "source": [
        "Functions can (optionally) return results using the return keyword. If no return is specified, the function returns None."
      ]
    },
    {
      "cell_type": "markdown",
      "id": "f513d43e",
      "metadata": {
        "id": "f513d43e"
      },
      "source": [
        "## 3.1 Single Value Return"
      ]
    },
    {
      "cell_type": "code",
      "execution_count": 12,
      "id": "461c3a2f",
      "metadata": {
        "id": "461c3a2f",
        "outputId": "cdf0b46f-17d0-41da-da40-acf0c793feeb",
        "colab": {
          "base_uri": "https://localhost:8080/"
        }
      },
      "outputs": [
        {
          "output_type": "stream",
          "name": "stdout",
          "text": [
            "9\n"
          ]
        }
      ],
      "source": [
        "def add(a, b):\n",
        "    \"\"\"\n",
        "    Returns the sum of two numbers.\n",
        "    \"\"\"\n",
        "    # result = a + b\n",
        "    # return result\n",
        "    return a + b\n",
        "\n",
        "result = add(4, 5)\n",
        "print(result)"
      ]
    },
    {
      "cell_type": "markdown",
      "id": "b288d088",
      "metadata": {
        "id": "b288d088"
      },
      "source": [
        "## 3.2 Return Multiple Values"
      ]
    },
    {
      "cell_type": "markdown",
      "id": "914ebf63",
      "metadata": {
        "id": "914ebf63"
      },
      "source": [
        "You can return multiple values in one go (Python treats these as a tuple under the hood):"
      ]
    },
    {
      "cell_type": "code",
      "execution_count": 13,
      "id": "e5ed7728",
      "metadata": {
        "id": "e5ed7728",
        "outputId": "b2ff05ff-86bb-4390-c79d-bed6e089f08c",
        "colab": {
          "base_uri": "https://localhost:8080/"
        }
      },
      "outputs": [
        {
          "output_type": "stream",
          "name": "stdout",
          "text": [
            "(8, 15)\n",
            "Sum: 8, Product: 15\n"
          ]
        }
      ],
      "source": [
        "def operations(a, b):\n",
        "    \"\"\"\n",
        "    Returns both the sum and product of two numbers.\n",
        "    \"\"\"\n",
        "    return a + b, a * b\n",
        "result = operations(3,5)\n",
        "print(result)\n",
        "\n",
        "sum_val, prod_val = operations(3, 5)\n",
        "print(f\"Sum: {sum_val}, Product: {prod_val}\")"
      ]
    },
    {
      "cell_type": "markdown",
      "id": "f6b35cb0",
      "metadata": {
        "id": "f6b35cb0"
      },
      "source": [
        "## 3.3 Returning Collections"
      ]
    },
    {
      "cell_type": "markdown",
      "id": "96040d15",
      "metadata": {
        "id": "96040d15"
      },
      "source": [
        "You can return data structures like lists, tuples, dictionaries, etc.:"
      ]
    },
    {
      "cell_type": "code",
      "execution_count": 15,
      "id": "44252c02",
      "metadata": {
        "id": "44252c02",
        "outputId": "00d5a114-c1e0-4241-96bb-cd40b2017d50",
        "colab": {
          "base_uri": "https://localhost:8080/"
        }
      },
      "outputs": [
        {
          "output_type": "stream",
          "name": "stdout",
          "text": [
            "{'name': 'Ali', 'age': 20}\n"
          ]
        }
      ],
      "source": [
        "def get_student():\n",
        "    \"\"\"\n",
        "    Returns a dictionary with student data.\n",
        "    \"\"\"\n",
        "    return {\"name\": \"Ali\", \"age\": 20}\n",
        "\n",
        "\n",
        "print(get_student())\n",
        "\n"
      ]
    },
    {
      "cell_type": "markdown",
      "id": "2116a502",
      "metadata": {
        "id": "2116a502"
      },
      "source": [
        "# 4. Positional and Keyword Arguments"
      ]
    },
    {
      "cell_type": "markdown",
      "id": "75c52301",
      "metadata": {
        "id": "75c52301"
      },
      "source": [
        "## 4.1 Positional Arguments"
      ]
    },
    {
      "cell_type": "markdown",
      "id": "2d765e89",
      "metadata": {
        "id": "2d765e89"
      },
      "source": [
        "Arguments are assigned to parameters based on their position:"
      ]
    },
    {
      "cell_type": "code",
      "execution_count": 17,
      "id": "c79bd9d1",
      "metadata": {
        "id": "c79bd9d1",
        "outputId": "3a9350da-3c1f-4150-d4a5-7b75759f521d",
        "colab": {
          "base_uri": "https://localhost:8080/"
        }
      },
      "outputs": [
        {
          "output_type": "stream",
          "name": "stdout",
          "text": [
            "Hello, Ali!\n",
            "Ali, Hello!\n"
          ]
        }
      ],
      "source": [
        "def greet(name, message):\n",
        "    print(f\"{message}, {name}!\")\n",
        "\n",
        "greet(\"Ali\", \"Hello\")\n",
        "\n",
        "greet(\"Hello\",\"Ali\")\n"
      ]
    },
    {
      "cell_type": "markdown",
      "id": "a2934a7a",
      "metadata": {
        "id": "a2934a7a"
      },
      "source": [
        "## 4.2 Keyword Arguments"
      ]
    },
    {
      "cell_type": "markdown",
      "id": "9e71f7d5",
      "metadata": {
        "id": "9e71f7d5"
      },
      "source": [
        "Arguments are explicitly named, so the order does not matter:"
      ]
    },
    {
      "cell_type": "code",
      "execution_count": 18,
      "id": "ed5e706a",
      "metadata": {
        "id": "ed5e706a",
        "outputId": "be9a2523-1b4a-40cb-de73-bd257e738b51",
        "colab": {
          "base_uri": "https://localhost:8080/"
        }
      },
      "outputs": [
        {
          "output_type": "stream",
          "name": "stdout",
          "text": [
            "Hello, Ali!\n"
          ]
        }
      ],
      "source": [
        "def greet(name, message):\n",
        "    print(f\"{message}, {name}!\")\n",
        "\n",
        "greet(message=\"Hello\", name=\"Ali\")\n"
      ]
    },
    {
      "cell_type": "markdown",
      "id": "eee1974d",
      "metadata": {
        "id": "eee1974d"
      },
      "source": [
        "## 4.3 Combining Positional and Keyword Arguments"
      ]
    },
    {
      "cell_type": "markdown",
      "id": "96f762f7",
      "metadata": {
        "id": "96f762f7"
      },
      "source": [
        "- Positional arguments must come before any keyword arguments.\n",
        "- Use keyword arguments when clarity of each argument’s purpose is beneficial."
      ]
    },
    {
      "cell_type": "code",
      "execution_count": 20,
      "id": "92d0d597",
      "metadata": {
        "id": "92d0d597",
        "outputId": "a2a512c0-34a3-4218-a792-c2272c4c0849",
        "colab": {
          "base_uri": "https://localhost:8080/"
        }
      },
      "outputs": [
        {
          "output_type": "stream",
          "name": "stdout",
          "text": [
            "Ali is 25 years old and lives in Karachi.\n"
          ]
        }
      ],
      "source": [
        "def describe_person(name, age, city):\n",
        "    print(f\"{name} is {age} years old and lives in {city}.\")\n",
        "\n",
        "describe_person(\"Ali\", city=\"Karachi\", age=25)\n",
        "# Raises an error if you pass a positional argument (25) after a keyword argument (city=\"Karachi\")."
      ]
    },
    {
      "cell_type": "markdown",
      "id": "0bc603c5",
      "metadata": {
        "id": "0bc603c5"
      },
      "source": [
        "# 5. Flexible Arguments (*args and **kwargs)"
      ]
    },
    {
      "cell_type": "markdown",
      "id": "ff6222e6",
      "metadata": {
        "id": "ff6222e6"
      },
      "source": [
        "Sometimes, you don’t know in advance how many arguments or which named arguments you might receive. Python offers *args for variable-length positional arguments and **kwargs for variable-length keyword arguments."
      ]
    },
    {
      "cell_type": "markdown",
      "id": "db184f86",
      "metadata": {
        "id": "db184f86"
      },
      "source": [
        "## 5.1 *args: Variable-Length Positional Arguments\n",
        "\n",
        "**Arbitrary value** in Python often refers to:\n",
        "- Accepting or working with any data type.\n",
        "- Allowing dynamic input (e.g., *args/**kwargs).\n",
        "- Accepted or assigned without specific restrictions"
      ]
    },
    {
      "cell_type": "code",
      "source": [
        "def add(a,b):\n",
        "  \"\"\"add two numbers\"\"\"\n",
        "  return a+b\n",
        "\n",
        "# add(2,3,4,5)"
      ],
      "metadata": {
        "id": "jdgpxjR-A2JL"
      },
      "id": "jdgpxjR-A2JL",
      "execution_count": 22,
      "outputs": []
    },
    {
      "cell_type": "code",
      "execution_count": 26,
      "id": "26ef057a",
      "metadata": {
        "id": "26ef057a",
        "outputId": "b5af795a-63be-49a4-ffb4-ee08488812ad",
        "colab": {
          "base_uri": "https://localhost:8080/"
        }
      },
      "outputs": [
        {
          "output_type": "stream",
          "name": "stdout",
          "text": [
            "<class 'tuple'>\n",
            "(1, 2, 3)\n",
            "6\n",
            "<class 'tuple'>\n",
            "(5, 10, 15, 22)\n",
            "52\n"
          ]
        }
      ],
      "source": [
        "def add(*numbers):\n",
        "    \"\"\"\n",
        "    Returns the sum of an arbitrary number of integers.\n",
        "    \"\"\"\n",
        "    print(type(numbers))\n",
        "    print(numbers)\n",
        "\n",
        "    return sum(numbers)\n",
        "\n",
        "print(add(1, 2, 3))\n",
        "print(add(5, 10, 15,22))\n"
      ]
    },
    {
      "cell_type": "markdown",
      "id": "7ec65e25",
      "metadata": {
        "id": "7ec65e25"
      },
      "source": [
        "## 5.2 **kwargs: Variable-Length Keyword Arguments"
      ]
    },
    {
      "cell_type": "code",
      "execution_count": 32,
      "id": "b619b1d9",
      "metadata": {
        "id": "b619b1d9",
        "outputId": "28d92bc2-a968-4eda-be5a-0d9758633a90",
        "colab": {
          "base_uri": "https://localhost:8080/"
        }
      },
      "outputs": [
        {
          "output_type": "stream",
          "name": "stdout",
          "text": [
            "city: Karachi\n",
            "country: Pakistan\n",
            "language: Urdu\n"
          ]
        }
      ],
      "source": [
        "from typing import Any\n",
        "def describe(**info):\n",
        "    \"\"\"\n",
        "    Prints all key-value pairs provided as keyword arguments.\n",
        "    \"\"\"\n",
        "    for key, value in info.items():\n",
        "        print(f\"{key}: {value}\")\n",
        "\n",
        "\n",
        "# describe(name=\"Ali\", age=25)\n",
        "\n",
        "describe(city=\"Karachi\", country=\"Pakistan\", language=\"Urdu\")"
      ]
    },
    {
      "cell_type": "markdown",
      "id": "79dc6399",
      "metadata": {
        "id": "79dc6399"
      },
      "source": [
        "## 5.3 Combining *args and **kwargs"
      ]
    },
    {
      "cell_type": "code",
      "execution_count": 38,
      "id": "afe8d841",
      "metadata": {
        "id": "afe8d841"
      },
      "outputs": [],
      "source": [
        "# with join()\n",
        "\n",
        "def order_pizza(size, *toppings, **details):\n",
        "    \"\"\"\n",
        "    Demonstrates combining *args and **kwargs.\n",
        "    size: Size of the pizza (small, medium, large)\n",
        "    toppings: Variable number of topping strings\n",
        "    details: Arbitrary keyword arguments, e.g., delivery time\n",
        "    \"\"\"\n",
        "    print(f\"Size: {size}, Toppings: {', '.join(toppings)}\")\n",
        "    print(\"Additional details:\", details)\n"
      ]
    },
    {
      "cell_type": "code",
      "source": [
        "#Without join()\n",
        "\n",
        "def order_pizza(size, *toppings, **details):\n",
        "    \"\"\"\n",
        "    Demonstrates combining *args and **kwargs.\n",
        "    size: Size of the pizza (small, medium, large)\n",
        "    toppings: Variable number of topping strings\n",
        "    details: Arbitrary keyword arguments, e.g., delivery time\n",
        "    \"\"\"\n",
        "    print(f\"Size: {size}, Toppings: {', '.join(toppings)}\")\n",
        "    print(\"Additional details:\", details)"
      ],
      "metadata": {
        "id": "UFeBb5ldKgdC"
      },
      "id": "UFeBb5ldKgdC",
      "execution_count": null,
      "outputs": []
    },
    {
      "cell_type": "code",
      "source": [
        "order_pizza(\"large\", \"pepperoni\", \"mushrooms\",\"cheese\", delivery=\"ASAP\", address=\"123 Main St\")"
      ],
      "metadata": {
        "id": "pXH8CFKVHeYs",
        "outputId": "879752b4-55f6-4042-f19a-655c7c38a64b",
        "colab": {
          "base_uri": "https://localhost:8080/"
        }
      },
      "id": "pXH8CFKVHeYs",
      "execution_count": 39,
      "outputs": [
        {
          "output_type": "stream",
          "name": "stdout",
          "text": [
            "Size: large, Toppings: pepperoni, mushrooms, cheese\n",
            "Additional details: {'delivery': 'ASAP', 'address': '123 Main St'}\n"
          ]
        }
      ]
    },
    {
      "cell_type": "markdown",
      "id": "5da77d4e",
      "metadata": {
        "id": "5da77d4e"
      },
      "source": [
        "# 6. Scope of Variables"
      ]
    },
    {
      "cell_type": "markdown",
      "id": "5a91242e",
      "metadata": {
        "id": "5a91242e"
      },
      "source": [
        "- **Local Scope:** Variables declared inside a function. Accessible only within that function.\n",
        "- **Global Scope:** Variables declared outside all functions. Accessible throughout the module (unless shadowed by local variables)."
      ]
    },
    {
      "cell_type": "code",
      "source": [
        "x= 10\n",
        "\n",
        "def func():\n",
        "  x = 20\n",
        "\n",
        "func()\n",
        "print(x)"
      ],
      "metadata": {
        "id": "4o3oOlCmLp8c",
        "outputId": "d4406e2e-f0a1-44cc-98c8-61c1071aec06",
        "colab": {
          "base_uri": "https://localhost:8080/"
        }
      },
      "id": "4o3oOlCmLp8c",
      "execution_count": 48,
      "outputs": [
        {
          "output_type": "stream",
          "name": "stdout",
          "text": [
            "10\n"
          ]
        }
      ]
    },
    {
      "cell_type": "code",
      "execution_count": 49,
      "id": "ed539154",
      "metadata": {
        "id": "ed539154",
        "outputId": "a637d943-493b-478a-ddca-be478d6c0d5f",
        "colab": {
          "base_uri": "https://localhost:8080/"
        }
      },
      "outputs": [
        {
          "output_type": "stream",
          "name": "stdout",
          "text": [
            "20\n"
          ]
        }
      ],
      "source": [
        "x = 10  # Global variable\n",
        "\n",
        "def func():\n",
        "    global x\n",
        "    x = 20  # Changing the global variable\n",
        "\n",
        "func()\n",
        "print(x)\n"
      ]
    },
    {
      "cell_type": "markdown",
      "id": "622d6a27",
      "metadata": {
        "id": "622d6a27"
      },
      "source": [
        "> **Best Practice:** Avoid overusing global variables; pass data as function parameters whenever possible for cleaner, more testable code."
      ]
    },
    {
      "cell_type": "markdown",
      "id": "d2dadd02",
      "metadata": {
        "id": "d2dadd02"
      },
      "source": [
        "# 7. Recursive Functions"
      ]
    },
    {
      "cell_type": "markdown",
      "id": "186c898b",
      "metadata": {
        "id": "186c898b"
      },
      "source": [
        "## 7.1 Concept"
      ]
    },
    {
      "cell_type": "markdown",
      "id": "1e508ac5",
      "metadata": {
        "id": "1e508ac5"
      },
      "source": [
        "A recursive function calls itself to solve a smaller instance of the same problem. Recursion can be elegant but must have a clear base case to avoid infinite loops."
      ]
    },
    {
      "cell_type": "markdown",
      "id": "8de5d17c",
      "metadata": {
        "id": "8de5d17c"
      },
      "source": [
        "## 7.2 Example: Factorial"
      ]
    },
    {
      "cell_type": "code",
      "execution_count": 52,
      "id": "927b122c",
      "metadata": {
        "id": "927b122c",
        "outputId": "12571336-8088-42c3-c49d-409450e7db23",
        "colab": {
          "base_uri": "https://localhost:8080/"
        }
      },
      "outputs": [
        {
          "output_type": "stream",
          "name": "stdout",
          "text": [
            "3628800\n"
          ]
        }
      ],
      "source": [
        "def factorial(n): # n=0\n",
        "    \"\"\"\n",
        "    Returns the factorial of n using recursion.\n",
        "    factorial(5) => 5 * 4 * 3 * 2 * 1 = 120\n",
        "    \"\"\"\n",
        "    if n == 0:\n",
        "        return 1  # Base case\n",
        "    return n * factorial(n - 1) # n-1 = 3\n",
        "\n",
        "print(factorial(1))\n"
      ]
    },
    {
      "cell_type": "markdown",
      "id": "6f0a4e7c",
      "metadata": {
        "id": "6f0a4e7c"
      },
      "source": [
        "> **Best Practice:** For large inputs, consider an iterative approach or a built-in function (like math.factorial) because recursive solutions can cause stack overflow or performance issues when n is very large."
      ]
    },
    {
      "cell_type": "markdown",
      "id": "4b3dbaa7",
      "metadata": {
        "id": "4b3dbaa7"
      },
      "source": [
        "# 8. Lambda Functions"
      ]
    },
    {
      "cell_type": "markdown",
      "id": "88fc30ff",
      "metadata": {
        "id": "88fc30ff"
      },
      "source": [
        "Lambda (anonymous) functions are short, inline functions defined without a name. They are useful for concise operations."
      ]
    },
    {
      "cell_type": "markdown",
      "id": "c625ac04",
      "metadata": {
        "id": "c625ac04"
      },
      "source": [
        "## 8.1 Syntax"
      ]
    },
    {
      "cell_type": "markdown",
      "id": "4ab5f096",
      "metadata": {
        "id": "4ab5f096"
      },
      "source": [
        "```python\n",
        " lambda arguments: expression\n",
        "```"
      ]
    },
    {
      "cell_type": "markdown",
      "id": "fa8d4589",
      "metadata": {
        "id": "fa8d4589"
      },
      "source": [
        "**Example:**"
      ]
    },
    {
      "cell_type": "code",
      "execution_count": 53,
      "id": "5e77deaa",
      "metadata": {
        "id": "5e77deaa",
        "outputId": "d4b27a9f-44e6-4564-c7bc-297013d44153",
        "colab": {
          "base_uri": "https://localhost:8080/"
        }
      },
      "outputs": [
        {
          "output_type": "stream",
          "name": "stdout",
          "text": [
            "8\n"
          ]
        }
      ],
      "source": [
        "# Regular function\n",
        "def add(a, b):\n",
        "    return a + b\n",
        "\n",
        "# Lambda equivalent\n",
        "add_lambda = lambda a, b: a + b\n",
        "\n",
        "print(add_lambda(5, 3))\n"
      ]
    },
    {
      "cell_type": "code",
      "source": [
        "greet = add_lambda = lambda :\"Hello\"\n",
        "\n",
        "greet()"
      ],
      "metadata": {
        "id": "cJ6ZNvQFRKSf",
        "outputId": "b935b545-3150-43d0-d4d1-7f9413bae413",
        "colab": {
          "base_uri": "https://localhost:8080/",
          "height": 36
        }
      },
      "id": "cJ6ZNvQFRKSf",
      "execution_count": 54,
      "outputs": [
        {
          "output_type": "execute_result",
          "data": {
            "text/plain": [
              "'Hello'"
            ],
            "application/vnd.google.colaboratory.intrinsic+json": {
              "type": "string"
            }
          },
          "metadata": {},
          "execution_count": 54
        }
      ]
    },
    {
      "cell_type": "markdown",
      "id": "763cf2a4",
      "metadata": {
        "id": "763cf2a4"
      },
      "source": [
        "## 8.2 Use Cases\n",
        "\n",
        "Using Lambda with Built-in Functions"
      ]
    },
    {
      "cell_type": "markdown",
      "id": "4f8afd4c",
      "metadata": {
        "id": "4f8afd4c"
      },
      "source": [
        "Use lambdas as short inline functions with built-in functions like map(), filter(), or sorted().\n",
        "\n",
        "1. map()\n",
        "\n",
        " `map`() applies a function to all items in an iterable."
      ]
    },
    {
      "cell_type": "code",
      "execution_count": 55,
      "id": "0a5e3a86",
      "metadata": {
        "id": "0a5e3a86",
        "outputId": "c66a5e80-6f9b-41ae-8311-d5c6059d0f78",
        "colab": {
          "base_uri": "https://localhost:8080/"
        }
      },
      "outputs": [
        {
          "output_type": "stream",
          "name": "stdout",
          "text": [
            "[1, 4, 9]\n"
          ]
        }
      ],
      "source": [
        "# Double each number in a list\n",
        "nums = [1, 2, 3]\n",
        "squared = list(map(lambda x: x ** 2, nums))\n",
        "print(squared)"
      ]
    },
    {
      "cell_type": "markdown",
      "source": [
        "2. filter()\n",
        "\n",
        "`filter()` filters elements from an iterable based on a condition."
      ],
      "metadata": {
        "id": "j4SFfECKbTM_"
      },
      "id": "j4SFfECKbTM_"
    },
    {
      "cell_type": "code",
      "source": [
        "# Filter even numbers\n",
        "numbers = [1, 2, 3, 4, 5, 6]\n",
        "evens = list(filter(lambda x: x % 2 == 0, numbers))\n",
        "print(evens)"
      ],
      "metadata": {
        "id": "P5b4npkTbXKT",
        "outputId": "8e8826c1-f11a-4a19-db34-d5fca16e0c33",
        "colab": {
          "base_uri": "https://localhost:8080/"
        }
      },
      "id": "P5b4npkTbXKT",
      "execution_count": 56,
      "outputs": [
        {
          "output_type": "stream",
          "name": "stdout",
          "text": [
            "[2, 4, 6]\n"
          ]
        }
      ]
    },
    {
      "cell_type": "markdown",
      "id": "f17941a3",
      "metadata": {
        "id": "f17941a3"
      },
      "source": [
        "> **Caution:** Overuse of lambdas can reduce code readability. For more complex logic, use a regular def function with a proper name and docstring."
      ]
    },
    {
      "cell_type": "markdown",
      "id": "420f2633",
      "metadata": {
        "id": "420f2633"
      },
      "source": [
        "# 9. Summary"
      ]
    },
    {
      "cell_type": "markdown",
      "id": "775d1506",
      "metadata": {
        "id": "775d1506"
      },
      "source": [
        "- **Functions** break down your code into manageable pieces, improving readability, maintainability, and testability.\n",
        "- **Parameters and Arguments** let you pass data to functions, making them dynamic.\n",
        "- **Return Values** allow functions to send results back to the caller, enabling flexible program design.\n",
        "- **Positional, Keyword, *args, and **kwargs** arguments offer powerful ways to handle function inputs.\n",
        "- **Scope** (local vs. global) impacts variable accessibility and lifetime.\n",
        "- **Recursive Functions** solve problems by breaking them down into smaller subproblems, but be mindful of recursion depth and performance.\n",
        "- **Lambda Functions** provide concise, one-line definitions for simple tasks."
      ]
    },
    {
      "cell_type": "markdown",
      "id": "83f2ee3f",
      "metadata": {
        "id": "83f2ee3f"
      },
      "source": [
        "Including robust **docstrings**, following **PEP 8** guidelines, and properly handling **default arguments** and **scopes** are crucial for writing clean, professional Python code."
      ]
    },
    {
      "cell_type": "markdown",
      "id": "100ccec8",
      "metadata": {
        "id": "100ccec8"
      },
      "source": [
        "# Projects"
      ]
    },
    {
      "cell_type": "markdown",
      "id": "6b929564",
      "metadata": {
        "id": "6b929564"
      },
      "source": [
        "## Project 1:\n",
        "### **Calculator Application**\n",
        "**Description**: Create a simple calculator that performs basic arithmetic operations (addition, subtraction, multiplication, division).\n",
        "\n",
        "**Step by step solution:**\n",
        "\n",
        "- Use functions for each arithmetic operation. i.e. add(), subtract() etc.\n",
        "- Create a main function called calculator() to coordinate the program flow.\n",
        "- Accept user input for numbers and operation type.\n",
        "- Apply an if-else statement to handle the selected operation."
      ]
    },
    {
      "cell_type": "markdown",
      "id": "3b9a5a84",
      "metadata": {
        "id": "3b9a5a84"
      },
      "source": [
        "## Project 2:\n",
        "### **Global Variable use in function**\n",
        "**Description:** Create a web traffic tracker that counts and displays the total number of visitors to a website.\n",
        "\n",
        "**Step-by-Step Solution:**\n",
        "\n",
        "- Steps to Solve the Problem:\n",
        "\n",
        "  - Initialize Counter: Set visitor_count = 0 globally.\n",
        "  - New Visitor: Create new_visitor() to increment visitor_count using global.\n",
        "  - Display Count: Create display_visitor_count() to print visitor_count.\n",
        "  - Simulate Visits: Call new_visitor() three times.\n",
        "  - Show Count: Call display_visitor_count() to print the total."
      ]
    },
    {
      "cell_type": "markdown",
      "id": "fe8f622f",
      "metadata": {
        "id": "fe8f622f"
      },
      "source": [
        "## Project 3:\n",
        "### **Temperature Converter**\n",
        "**Description:** Create a tool that converts temperatures between Celsius and Fahrenheit.\n",
        "\n",
        "**Step by step solution:**\n",
        "\n",
        "- Include two separate functions for converting:\n",
        "    - Celsius to Fahrenheit.\n",
        "$$\n",
        "F = \\left(C \\times \\frac{9}{5}\\right) + 32\n",
        "$$\n",
        "    - Fahrenheit to Celsius.\n",
        "$$\n",
        "C = \\left(F - 32\\right) \\times \\frac{5}{9}\n",
        "$$\n",
        "- Accept user input to determine the temperature and the conversion type.\n",
        "- Return the converted temperature and display it in a user-friendly format.\n",
        "\n",
        "\n",
        "\n"
      ]
    }
  ],
  "metadata": {
    "language_info": {
      "name": "python"
    },
    "colab": {
      "provenance": []
    },
    "kernelspec": {
      "name": "python3",
      "display_name": "Python 3"
    }
  },
  "nbformat": 4,
  "nbformat_minor": 5
}