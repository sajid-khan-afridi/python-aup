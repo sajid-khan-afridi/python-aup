{
  "cells": [
    {
      "cell_type": "markdown",
      "id": "022e08bc",
      "metadata": {
        "id": "022e08bc"
      },
      "source": [
        "# Introduction to Dictionaries in Python\n",
        "\n",
        "## What is a Dictionary?\n",
        "\n",
        "Dictionary, a data structure in Python, is a collection of *key-value pairs*, where each *key is unique*, and each key is associated with a specific value. Unlike other data structures in Python, like lists or sets, *dictionaries are unordered*, meaning that the items are not stored in any particular sequence.\n",
        "\n",
        "Dictionary enable the association of values with unique keys, providing a way to store and retrieve information using meaningful identifiers. Dictionaries are particularly valuable when there is a need for fast data access and retrieval based on specific keys. They are versatile and widely used in scenarios where data needs to be stored and accessed in a structured manner.\n",
        "\n",
        "## Why Do We Need Dictionaries?\n",
        "\n",
        "### The Problem: Efficient Data Lookups\n",
        "\n",
        "Consider a scenario where you are managing a collection of student scores in different subjects. Initially,  might think of using two separate lists. One for student names and one for their corresponding scores:\n",
        "\n",
        "\n",
        "\n"
      ]
    },
    {
      "cell_type": "code",
      "execution_count": 1,
      "id": "d6b037a2",
      "metadata": {
        "id": "d6b037a2"
      },
      "outputs": [],
      "source": [
        "students : list[str ]= [\"Alice\", \"Bob\", \"Charlie\"]\n",
        "scores : list[int] = [85, 92, 78]"
      ]
    },
    {
      "cell_type": "markdown",
      "id": "9b1d5a90",
      "metadata": {
        "id": "9b1d5a90"
      },
      "source": [
        "\n",
        "To find the score of a specific student,  would need to first find the index of the student's name in the `students` list and then use that index to look up the score in the `scores` list:\n",
        "\n",
        "\n",
        "\n"
      ]
    },
    {
      "cell_type": "code",
      "execution_count": 2,
      "id": "03ee09bd",
      "metadata": {
        "id": "03ee09bd",
        "outputId": "a6037186-e9f9-4e2e-ec35-6bd60822163c",
        "colab": {
          "base_uri": "https://localhost:8080/"
        }
      },
      "outputs": [
        {
          "output_type": "stream",
          "name": "stdout",
          "text": [
            "1\n",
            "92\n"
          ]
        }
      ],
      "source": [
        "index : int = students.index(\"Bob\")# 1\n",
        "print(index)\n",
        "score : int = scores[index]\n",
        "print(score)\n",
        "\n"
      ]
    },
    {
      "cell_type": "code",
      "source": [
        "# students_score = {\n",
        "#     \"Alice\": 85,\n",
        "#     \"Bob\": 92,\n",
        "#     \"Charlie\": 78\n",
        "# }\n",
        "# print(students_score[\"Bob\"])"
      ],
      "metadata": {
        "id": "0nHDp-628VHg",
        "outputId": "0f39acd4-9f8b-4aea-eeed-afabc4fe3e4a",
        "colab": {
          "base_uri": "https://localhost:8080/"
        }
      },
      "id": "0nHDp-628VHg",
      "execution_count": 3,
      "outputs": [
        {
          "output_type": "stream",
          "name": "stdout",
          "text": [
            "92\n"
          ]
        }
      ]
    },
    {
      "cell_type": "markdown",
      "id": "93188425",
      "metadata": {
        "id": "93188425"
      },
      "source": [
        "While this approach works, it quickly becomes inefficient as the lists grow in size. Searching for a student's name in the list takes time, and managing two separate lists can lead to errors, especially if they become out of sync.\n",
        "\n",
        "### The Solution: Constant-Time Lookups with Dictionaries\n",
        "\n",
        "Dictionaries provide a more efficient and intuitive way to handle this situation. By using student names as keys and their scores as values,  can store the data in a dictionary:\n",
        "\n",
        "\n",
        "\n"
      ]
    },
    {
      "cell_type": "code",
      "execution_count": 4,
      "id": "3bc21054",
      "metadata": {
        "id": "3bc21054"
      },
      "outputs": [],
      "source": [
        "students_scores : dict[str,int] = {\n",
        "    \"Alice\": 85,\n",
        "    \"Bob\": 92,\n",
        "    \"Charlie\": 78,\n",
        "    \"Alice\":75\n",
        "}"
      ]
    },
    {
      "cell_type": "markdown",
      "id": "6ee84445",
      "metadata": {
        "id": "6ee84445"
      },
      "source": [
        "\n",
        "Now, finding a student's score is much simpler and faster:\n",
        "\n",
        "\n"
      ]
    },
    {
      "cell_type": "code",
      "execution_count": 5,
      "id": "e6f73536",
      "metadata": {
        "id": "e6f73536",
        "outputId": "0ca7e5b1-9497-4bdc-e891-41659381a528",
        "colab": {
          "base_uri": "https://localhost:8080/"
        }
      },
      "outputs": [
        {
          "output_type": "stream",
          "name": "stdout",
          "text": [
            "75\n"
          ]
        }
      ],
      "source": [
        "score : int = students_scores[\"Alice\"]\n",
        "print(score)"
      ]
    },
    {
      "cell_type": "code",
      "execution_count": 7,
      "id": "0fbf0b36",
      "metadata": {
        "id": "0fbf0b36",
        "outputId": "b9aa715b-249b-4d84-9a54-e8ffb4f7c5ab",
        "colab": {
          "base_uri": "https://localhost:8080/"
        }
      },
      "outputs": [
        {
          "output_type": "stream",
          "name": "stdout",
          "text": [
            "{'Alice': 75, 'Bob': 92, 'Charlie': 78}\n",
            "3\n"
          ]
        }
      ],
      "source": [
        "print(students_scores)\n",
        "print(len(students_scores))"
      ]
    },
    {
      "cell_type": "markdown",
      "id": "842720da",
      "metadata": {
        "id": "842720da"
      },
      "source": [
        "This operation is performed in constant time, regardless of the number of students. Because of the direct indexing mechanism provided by the hash function\n",
        "\n",
        "## What Problems Do Dictionaries Solve?\n",
        "\n",
        "### 1. Fast Data Retrieval\n",
        "\n",
        "Dictionaries are optimized for fast data retrieval. Instead of searching through an entire list,  can quickly access any value directly by its key.\n",
        "\n",
        "### 2. Clearer, More Expressive Code\n",
        "\n",
        "Dictionaries allow us to write clearer and more expressive code. The key-value structure makes it obvious what each item represents, improving code readability.\n",
        "\n",
        "### 3. Flexibility in Data Organization\n",
        "\n",
        "Dictionaries offer flexibility in how  organize data can store complex structures, like lists or other dictionaries, as values, enabling us to represent nested or hierarchical data.\n",
        "\n",
        "## Working with Dictionaries in Python\n",
        "\n",
        "### Important Properties\n",
        "- Each key should be unique\n",
        "- Key can be any immutable type of object\n",
        "- `len()` function also works with dictionaries i.e. returns the length of key-value pairs\n",
        "- A dictionary is a one way tool i.e. We can find the value from key but cannot find the key from value. It works the same way as original dictionary.We can find urdu meaning of word in english but not the english meaning of urdu word.\n",
        "- The dictionaries are not ordered. We might have different orders when we use `print()` function. Dictionaries preserve the insertion order\n",
        "- Dictionaries are not a sequence type. So can we use for loop with dictionaries? Yes! We'll see it in below examples.\n",
        "- Not sequential like list and tuple but iterable object.\n",
        "\n",
        "### Creating a Dictionary\n",
        "\n",
        " can create a dictionary using curly braces `{}` or the `dict()` function.\n",
        "\n",
        "\n"
      ]
    },
    {
      "cell_type": "code",
      "execution_count": 8,
      "id": "eaa3eda7",
      "metadata": {
        "id": "eaa3eda7",
        "outputId": "b8960626-8aa2-470b-9db5-07c7da4e1325",
        "colab": {
          "base_uri": "https://localhost:8080/"
        }
      },
      "outputs": [
        {
          "output_type": "stream",
          "name": "stdout",
          "text": [
            "{'Bob': 92, 'Charlie': 78, 'Alice': 85}\n"
          ]
        }
      ],
      "source": [
        "# Using curly braces\n",
        "students_scores : dict[str, int] = {\n",
        "    \"Bob\": 92,\n",
        "    \"Charlie\": 78,\n",
        "     \"Alice\": 85,\n",
        "}\n",
        "print(students_scores)"
      ]
    },
    {
      "cell_type": "code",
      "execution_count": 13,
      "id": "8d3960cd",
      "metadata": {
        "id": "8d3960cd",
        "outputId": "45c778a8-a31a-4627-89a5-6821697c880d",
        "colab": {
          "base_uri": "https://localhost:8080/"
        }
      },
      "outputs": [
        {
          "output_type": "stream",
          "name": "stdout",
          "text": [
            "{'Alice': 80, 'Bob': 90, 'Charlie': 70}\n"
          ]
        }
      ],
      "source": [
        "# Using dict() function\n",
        "students_scores : dict[str,int] = dict(Alice=80, Bob=90, Charlie=70)\n",
        "print(students_scores)\n",
        "\n",
        "# list1 = list((1,2,3,4,5))\n",
        "# print(list1)\n",
        "\n"
      ]
    },
    {
      "cell_type": "markdown",
      "id": "0075710a",
      "metadata": {
        "id": "0075710a"
      },
      "source": [
        "## Accessing Values\n",
        "can access values in a dictionary using the key inside square brackets `[]` or with the `.get()` method.\n",
        "\n",
        "#### Example:\n",
        "\n"
      ]
    },
    {
      "cell_type": "code",
      "execution_count": 21,
      "id": "cf0f5768",
      "metadata": {
        "id": "cf0f5768",
        "outputId": "12b99015-3c34-4f96-abbf-fe40e3f3a63b",
        "colab": {
          "base_uri": "https://localhost:8080/"
        }
      },
      "outputs": [
        {
          "output_type": "stream",
          "name": "stdout",
          "text": [
            "value not found\n"
          ]
        }
      ],
      "source": [
        "# Accessing a value using a key\n",
        "# print(students_scores[\"Ali\"])  # Output: 85\n",
        "\n",
        "# # Using the get() method\n",
        "print(students_scores.get(\"Ali\",\"value not found\"))  # Output: 92"
      ]
    },
    {
      "cell_type": "markdown",
      "id": "0ed6aef5",
      "metadata": {
        "id": "0ed6aef5"
      },
      "source": [
        "#### Handling Missing Keys\n",
        "The `.get()` method is safer for accessing keys, as it returns `None` or a default value if the key is not found, rather than raising a `KeyError`.\n",
        "\n",
        "#### Example:\n",
        "\n"
      ]
    },
    {
      "cell_type": "code",
      "execution_count": 22,
      "id": "9c157973",
      "metadata": {
        "id": "9c157973",
        "outputId": "b1ad3c6a-4aa8-4abb-dcd3-f96ce2b99345",
        "colab": {
          "base_uri": "https://localhost:8080/"
        }
      },
      "outputs": [
        {
          "output_type": "stream",
          "name": "stdout",
          "text": [
            "Not Found\n"
          ]
        }
      ],
      "source": [
        "# Using square brackets (raises KeyError if key is not found)\n",
        "# print(student_scores[\"David\"])  # Uncommenting this line would raise KeyError\n",
        "\n",
        "# Using get() (returns None if key is not found)\n",
        "# print(students_scores.get(\"David\"))  # Output: None\n",
        "\n",
        "# Providing a default value with get()\n",
        "print(students_scores.get(\"David\", \"Not Found\"))  # Output: Not Found"
      ]
    },
    {
      "cell_type": "markdown",
      "id": "c39a1e7c",
      "metadata": {
        "id": "c39a1e7c"
      },
      "source": [
        "# Adding and Updating Items\n",
        "\n",
        " can add a new key-value pair or update an existing one using square brackets `[]`.\n",
        "\n",
        "#### Example:\n",
        "\n"
      ]
    },
    {
      "cell_type": "code",
      "execution_count": 24,
      "id": "7b60ad0c",
      "metadata": {
        "id": "7b60ad0c",
        "outputId": "4878e53e-7088-4644-b75b-1fd506696b82",
        "colab": {
          "base_uri": "https://localhost:8080/"
        }
      },
      "outputs": [
        {
          "output_type": "stream",
          "name": "stdout",
          "text": [
            "{'Alice': 80, 'Bob': 90, 'Charlie': 70, 'David': 88}\n",
            "{'Alice': 99, 'Bob': 90, 'Charlie': 70, 'David': 88}\n"
          ]
        }
      ],
      "source": [
        "# Adding a new key-value pair\n",
        "students_scores[\"David\"] = 88\n",
        "print(students_scores)\n",
        "\n",
        "# Updating an existing key-value pair\n",
        "students_scores[\"Alice\"] = 99\n",
        "print(students_scores)\n"
      ]
    },
    {
      "cell_type": "markdown",
      "id": "21c3992b",
      "metadata": {
        "id": "21c3992b"
      },
      "source": [
        "## Removing Items\n",
        "\n",
        " can remove items using the `del` statement, the `.pop()` method, or the `.popitem()` method.\n",
        "\n",
        "#### Example:\n",
        "\n"
      ]
    },
    {
      "cell_type": "code",
      "execution_count": null,
      "id": "e9d128b4",
      "metadata": {
        "id": "e9d128b4"
      },
      "outputs": [],
      "source": [
        "# Removing a specific key-value pair using del\n",
        "del students_scores[\"Charlie\"]\n",
        "print(students_scores)"
      ]
    },
    {
      "cell_type": "code",
      "execution_count": 25,
      "id": "0a096d1d",
      "metadata": {
        "id": "0a096d1d",
        "outputId": "e7f34bb8-d00e-44da-b614-d1e0389b7c93",
        "colab": {
          "base_uri": "https://localhost:8080/"
        }
      },
      "outputs": [
        {
          "output_type": "stream",
          "name": "stdout",
          "text": [
            "88\n",
            "{'Alice': 99, 'Bob': 90, 'Charlie': 70}\n"
          ]
        }
      ],
      "source": [
        "# Removing a specific key-value pair using pop()\n",
        "removed_score = students_scores.pop(\"David\") # removed_score contains only value\n",
        "print(removed_score)\n",
        "print(students_scores)"
      ]
    },
    {
      "cell_type": "code",
      "execution_count": 26,
      "id": "f3e78f0c",
      "metadata": {
        "id": "f3e78f0c",
        "outputId": "1c9999a4-47eb-4053-a295-91c237c3c2dd",
        "colab": {
          "base_uri": "https://localhost:8080/"
        }
      },
      "outputs": [
        {
          "output_type": "stream",
          "name": "stdout",
          "text": [
            "('Charlie', 70)\n",
            "{'Alice': 99, 'Bob': 90}\n"
          ]
        }
      ],
      "source": [
        "# Removing the last inserted key-value pair using popitem()\n",
        "last_item = students_scores.popitem() # last_item contains key-value and convert to tuple\n",
        "print(last_item)\n",
        "print(students_scores)\n"
      ]
    },
    {
      "cell_type": "markdown",
      "id": "1fbeada8",
      "metadata": {
        "id": "1fbeada8"
      },
      "source": [
        "## Checking if a Key Exists\n",
        "\n",
        " can check if a key exists in a dictionary using the `in` keyword.\n",
        "\n",
        "#### Example:\n",
        "\n"
      ]
    },
    {
      "cell_type": "code",
      "execution_count": 27,
      "id": "905e45cf",
      "metadata": {
        "id": "905e45cf",
        "outputId": "82b8060f-e7b1-4cb2-e8d8-74149b55cc07",
        "colab": {
          "base_uri": "https://localhost:8080/"
        }
      },
      "outputs": [
        {
          "output_type": "stream",
          "name": "stdout",
          "text": [
            "True\n",
            "False\n"
          ]
        }
      ],
      "source": [
        "print(\"Alice\" in students_scores)\n",
        "print(\"Charlie\" in students_scores)\n"
      ]
    },
    {
      "cell_type": "markdown",
      "id": "f583a5ba",
      "metadata": {
        "id": "f583a5ba"
      },
      "source": [
        "## Iterating Through a Dictionary\n",
        "\n",
        "We can iterate through the keys, values, or key-value pairs in a dictionary using a `for` loop.\n",
        "\n",
        "\n",
        "### Example:\n",
        "\n"
      ]
    },
    {
      "cell_type": "code",
      "execution_count": 28,
      "id": "ab0e4231",
      "metadata": {
        "id": "ab0e4231"
      },
      "outputs": [],
      "source": [
        "students_scores : dict[str,int] = {\n",
        "    \"Alice\": 85,\n",
        "    \"Bob\": 92,\n",
        "    \"Charlie\": 78\n",
        "}"
      ]
    },
    {
      "cell_type": "code",
      "execution_count": 39,
      "id": "f35deed4",
      "metadata": {
        "id": "f35deed4",
        "outputId": "6667ca83-cf4d-446e-8600-360a9fdbe1ca",
        "colab": {
          "base_uri": "https://localhost:8080/"
        }
      },
      "outputs": [
        {
          "output_type": "stream",
          "name": "stdout",
          "text": [
            "Alice\n",
            "Bob\n",
            "Charlie\n"
          ]
        }
      ],
      "source": [
        "# Iterating through keys\n",
        "for student in students_scores.keys():\n",
        "    print(student)"
      ]
    },
    {
      "cell_type": "code",
      "execution_count": 30,
      "id": "11451e37",
      "metadata": {
        "id": "11451e37",
        "outputId": "a4d09baa-d512-4086-d57a-b4561f2d8829",
        "colab": {
          "base_uri": "https://localhost:8080/"
        }
      },
      "outputs": [
        {
          "output_type": "stream",
          "name": "stdout",
          "text": [
            "85\n",
            "92\n",
            "78\n"
          ]
        }
      ],
      "source": [
        "# Iterating through values\n",
        "for score in students_scores.values():\n",
        "    print(score)"
      ]
    },
    {
      "cell_type": "code",
      "execution_count": 34,
      "id": "80594672",
      "metadata": {
        "id": "80594672",
        "outputId": "b27d9aeb-0077-406d-9d21-e1c2f36f5249",
        "colab": {
          "base_uri": "https://localhost:8080/"
        }
      },
      "outputs": [
        {
          "output_type": "stream",
          "name": "stdout",
          "text": [
            "<class 'str'>:85\n",
            "<class 'str'>:92\n",
            "<class 'str'>:78\n"
          ]
        }
      ],
      "source": [
        "# Iterating through key-value pairs\n",
        "for student, score in students_scores.items():\n",
        "    print(f\"{student}:{score}\")"
      ]
    },
    {
      "cell_type": "code",
      "source": [
        "# Iterating through key-value pairs\n",
        "for student in students_scores.items():\n",
        "    print(f\"{student}\")"
      ],
      "metadata": {
        "id": "Ki999TlQKPfh",
        "outputId": "7a621878-89b8-458f-bf08-b22be4b8cee1",
        "colab": {
          "base_uri": "https://localhost:8080/"
        }
      },
      "id": "Ki999TlQKPfh",
      "execution_count": 32,
      "outputs": [
        {
          "output_type": "stream",
          "name": "stdout",
          "text": [
            "('Alice', 85)\n",
            "('Bob', 92)\n",
            "('Charlie', 78)\n"
          ]
        }
      ]
    },
    {
      "cell_type": "code",
      "source": [
        "# [i for i in dir(students_scores) if \"__\" not in i]"
      ],
      "metadata": {
        "id": "rcLzSDq2QdlQ"
      },
      "id": "rcLzSDq2QdlQ",
      "execution_count": null,
      "outputs": []
    },
    {
      "cell_type": "markdown",
      "id": "fd30457d",
      "metadata": {
        "id": "fd30457d"
      },
      "source": [
        "## Dictionary Methods\n",
        "\n",
        "#### 1. `.keys()` Method\n",
        "Returns a view object that displays a list of all the keys in the dictionary.\n",
        "\n",
        "*Example:*\n",
        "\n",
        "\n"
      ]
    },
    {
      "cell_type": "code",
      "execution_count": 35,
      "id": "779d3d87",
      "metadata": {
        "id": "779d3d87",
        "outputId": "61a1c749-717d-4b2a-9d03-6ff91c57c4ba",
        "colab": {
          "base_uri": "https://localhost:8080/"
        }
      },
      "outputs": [
        {
          "output_type": "stream",
          "name": "stdout",
          "text": [
            "dict_keys(['Alice', 'Bob', 'Charlie'])\n",
            "<class 'dict_keys'>\n"
          ]
        }
      ],
      "source": [
        "keys = students_scores.keys()\n",
        "print(keys)\n",
        "print(type(keys))"
      ]
    },
    {
      "cell_type": "markdown",
      "id": "ac78cc09",
      "metadata": {
        "id": "ac78cc09"
      },
      "source": [
        "#### 2. `.values()` Method\n",
        "Returns a view object that displays a list of all the values in the dictionary.\n",
        "\n",
        "*Example:*\n",
        "\n"
      ]
    },
    {
      "cell_type": "code",
      "execution_count": 36,
      "id": "95ea4997",
      "metadata": {
        "id": "95ea4997",
        "outputId": "d3a81f09-4106-4c89-e1aa-6a7f0cbb9fb1",
        "colab": {
          "base_uri": "https://localhost:8080/"
        }
      },
      "outputs": [
        {
          "output_type": "stream",
          "name": "stdout",
          "text": [
            "dict_values([85, 92, 78])\n",
            "<class 'dict_values'>\n"
          ]
        }
      ],
      "source": [
        "values = students_scores.values()\n",
        "print(values)\n",
        "print(type(values))"
      ]
    },
    {
      "cell_type": "markdown",
      "id": "efc2eafe",
      "metadata": {
        "id": "efc2eafe"
      },
      "source": [
        "#### 3. `.items()` Method\n",
        "Returns a view object that displays a list of the dictionary’s key-value tuple pairs.\n",
        "\n",
        "*Example:*\n",
        "\n",
        "\n"
      ]
    },
    {
      "cell_type": "code",
      "execution_count": 37,
      "id": "cc7a9cfb",
      "metadata": {
        "id": "cc7a9cfb",
        "outputId": "6eb14f82-d37e-437c-d67d-93b2b5fb5ced",
        "colab": {
          "base_uri": "https://localhost:8080/"
        }
      },
      "outputs": [
        {
          "output_type": "stream",
          "name": "stdout",
          "text": [
            "dict_items([('Alice', 85), ('Bob', 92), ('Charlie', 78)])\n",
            "<class 'dict_items'>\n"
          ]
        }
      ],
      "source": [
        "items = students_scores.items()\n",
        "print(items)\n",
        "print(type(items))"
      ]
    },
    {
      "cell_type": "markdown",
      "id": "cc349569",
      "metadata": {
        "id": "cc349569"
      },
      "source": [
        "#### 4. `.update()` Method\n",
        "Updates the dictionary with elements from another dictionary or from an iterable of key-value pairs.\n",
        "\n",
        "*Example:*\n",
        "\n"
      ]
    },
    {
      "cell_type": "code",
      "execution_count": 40,
      "id": "210e9cda",
      "metadata": {
        "id": "210e9cda",
        "outputId": "66e5c455-2d40-48a2-930f-0f6c4a98c9d0",
        "colab": {
          "base_uri": "https://localhost:8080/"
        }
      },
      "outputs": [
        {
          "output_type": "stream",
          "name": "stdout",
          "text": [
            "{'Alice': 85, 'Bob': 92, 'Charlie': 78, 'Eve': 95, 'Frank': 87}\n"
          ]
        }
      ],
      "source": [
        "additional_scores = {\"Eve\": 95, \"Frank\": 87}\n",
        "students_scores.update(additional_scores)\n",
        "print(students_scores)"
      ]
    },
    {
      "cell_type": "markdown",
      "id": "4ccf3fb4",
      "metadata": {
        "id": "4ccf3fb4"
      },
      "source": [
        "#### 5. `.clear()` Method\n",
        "Removes all items from the dictionary.\n",
        "\n",
        "*Example:*\n",
        "\n"
      ]
    },
    {
      "cell_type": "code",
      "execution_count": 41,
      "id": "0e0e85b7",
      "metadata": {
        "id": "0e0e85b7",
        "outputId": "74ed8bab-cf7a-48d5-ce3a-beee3a2ea049",
        "colab": {
          "base_uri": "https://localhost:8080/"
        }
      },
      "outputs": [
        {
          "output_type": "stream",
          "name": "stdout",
          "text": [
            "{}\n"
          ]
        }
      ],
      "source": [
        "students_scores.clear()\n",
        "print(students_scores)"
      ]
    },
    {
      "cell_type": "markdown",
      "id": "11a78e9b",
      "metadata": {
        "id": "11a78e9b"
      },
      "source": [
        "#### 5. `.copy()` Method\n",
        "\n"
      ]
    },
    {
      "cell_type": "code",
      "execution_count": 42,
      "id": "49883869",
      "metadata": {
        "id": "49883869",
        "outputId": "61f616bc-a1ce-4bfa-8e39-34f6da14072d",
        "colab": {
          "base_uri": "https://localhost:8080/"
        }
      },
      "outputs": [
        {
          "output_type": "stream",
          "name": "stdout",
          "text": [
            "138470193908160\n",
            "138470193908160\n",
            "{'Alice': 85, 'Bob': 92, 'Charlie': 78}\n"
          ]
        }
      ],
      "source": [
        "students_scores : dict[str,int] = {\n",
        "    \"Alice\": 85,\n",
        "    \"Bob\": 92,\n",
        "    \"Charlie\": 78\n",
        "}\n",
        "new = students_scores\n",
        "print(id(new))\n",
        "print(id(students_scores))\n",
        "print(new)"
      ]
    },
    {
      "cell_type": "code",
      "execution_count": 43,
      "id": "ec303d4e",
      "metadata": {
        "id": "ec303d4e",
        "outputId": "5172f5bf-7578-4bd6-d611-864087c6fec4",
        "colab": {
          "base_uri": "https://localhost:8080/"
        }
      },
      "outputs": [
        {
          "output_type": "stream",
          "name": "stdout",
          "text": [
            "{'Alice': 85, 'Bob': 92, 'Charlie': 78}\n"
          ]
        }
      ],
      "source": [
        "students_scores_copy = students_scores.copy()\n",
        "print(students_scores_copy)"
      ]
    },
    {
      "cell_type": "code",
      "source": [
        "print(id(students_scores))\n",
        "print(id(students_scores_copy))"
      ],
      "metadata": {
        "id": "H7j3cHIqR1fN",
        "outputId": "01f9ecbd-151f-4da9-c273-edbc5943d9d0",
        "colab": {
          "base_uri": "https://localhost:8080/"
        }
      },
      "id": "H7j3cHIqR1fN",
      "execution_count": 44,
      "outputs": [
        {
          "output_type": "stream",
          "name": "stdout",
          "text": [
            "138470193908160\n",
            "138470193975872\n"
          ]
        }
      ]
    },
    {
      "cell_type": "markdown",
      "id": "57b55704",
      "metadata": {
        "id": "57b55704"
      },
      "source": [
        "## Dictionary Comprehension\n",
        "We can also apply comprehension method on dictionaries.\n",
        "\n",
        "*Example:*\n",
        "\n"
      ]
    },
    {
      "cell_type": "code",
      "execution_count": 45,
      "id": "b818c9e9",
      "metadata": {
        "id": "b818c9e9",
        "outputId": "acf4213a-493e-4ea1-de27-a2a251a267ff",
        "colab": {
          "base_uri": "https://localhost:8080/"
        }
      },
      "outputs": [
        {
          "output_type": "stream",
          "name": "stdout",
          "text": [
            "{0: 0, 1: 2, 2: 4, 3: 6, 4: 8}\n"
          ]
        }
      ],
      "source": [
        "\n",
        "values : dict[int,int] = {x:x*2 for x in range(5)}\n",
        "print(values)"
      ]
    },
    {
      "cell_type": "markdown",
      "id": "5cc8137a",
      "metadata": {
        "id": "5cc8137a"
      },
      "source": [
        "*Example:*\n",
        "\n"
      ]
    },
    {
      "cell_type": "code",
      "execution_count": 53,
      "id": "b425e12c",
      "metadata": {
        "id": "b425e12c",
        "outputId": "413c7008-468b-427c-f864-4d36fb731868",
        "colab": {
          "base_uri": "https://localhost:8080/"
        }
      },
      "outputs": [
        {
          "output_type": "stream",
          "name": "stdout",
          "text": [
            "{0: 'apple', 1: 'banana', 2: 'orange'}\n"
          ]
        }
      ],
      "source": [
        "# convert list into dictionary\n",
        "fruits : list[str] = [\"apple\", \"banana\", \"orange\"]\n",
        "# list1 = [1,2,3,4,5]\n",
        "# list_comp = [i*2 for i in list1]\n",
        "# print(list_comp)\n",
        "# for i, fruit in enumerate(fruits):\n",
        "#     print(i,fruit)\n",
        "\n",
        "fruits_dict : dict[int,str] = {i:fruit for i, fruit in enumerate(fruits)}\n",
        "                            # index: value {0:\"apple\",1:\"banana\"}\n",
        "print(fruits_dict)"
      ]
    },
    {
      "cell_type": "markdown",
      "id": "b655de0e",
      "metadata": {
        "id": "b655de0e"
      },
      "source": [
        "## Projects\n",
        "\n",
        "### Project 1: Student Gradebook\n",
        "\n",
        "#### **Write a program to :**\n",
        "- Create a dictionary to store student names as keys and their grades as values.\n",
        "- Allow the user to input new student-grade pairs and update existing entries.\n",
        "\n",
        "#### **Breakdown into step by step:**\n",
        "1. **Initialize an empty dictionary** to store student names (keys) and their grades (values).\n",
        "\n",
        "2. **Create a loop** to continuously allow the user to input data until they choose to stop.\n",
        "  - 1. Add or Update a student\n",
        "  - 2. View all students and grades\n",
        "  - 3. Exit\n",
        "\n",
        "3. **Prompt the user** to enter a student's name.\n",
        "\n",
        "4. **Check if the name is already in the dictionary:**\n",
        "   - **If it is**, then update the grade and update the dictionary.\n",
        "   - **If not**, then add the grade and add into the dictionary.\n",
        "\n",
        "5. **Ask the user** if they want to add another student or update another grade.\n",
        "\n",
        "### Project 2: Employee Directory\n",
        "Build a program to:\n",
        "- Create a dictionary with employee IDs as keys and their names as values.\n",
        "- Add functionalities to search, add, and delete employees.\n",
        "\n"
      ]
    }
  ],
  "metadata": {
    "colab": {
      "provenance": []
    },
    "language_info": {
      "name": "python"
    },
    "kernelspec": {
      "name": "python3",
      "display_name": "Python 3"
    }
  },
  "nbformat": 4,
  "nbformat_minor": 5
}