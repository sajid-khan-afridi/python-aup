{
  "nbformat": 4,
  "nbformat_minor": 0,
  "metadata": {
    "colab": {
      "provenance": []
    },
    "kernelspec": {
      "name": "python3",
      "display_name": "Python 3"
    },
    "language_info": {
      "name": "python"
    }
  },
  "cells": [
    {
      "cell_type": "markdown",
      "source": [
        "# Introduction to List Comprehensions in Python\n",
        "\n",
        "## What is List Comprehension?\n",
        "\n",
        "List comprehension is a concise way to create lists in Python. It allows we to generate a new list by applying an expression to each item in an existing iterable (such as a list, tuple,range, dictionary) and optionally applying a condition to filter the items.\n",
        "\n",
        "## Why Do We Need List Comprehensions?\n",
        "\n"
      ],
      "metadata": {
        "id": "bDTyXjdpQiqB"
      }
    },
    {
      "cell_type": "markdown",
      "source": [
        "### The Problem: Creating Lists Using Loops\n",
        "\n",
        "Consider a scenario where we want to `create a list of squares for the numbers 1 through 5`. A typical approach might involve using a `for` loop:\n",
        "\n",
        "While this works, it requires multiple lines of code: one to initialize the list, one for the loop, and one to append each result. As the complexity of the list generation increases, so does the amount of code needed.\n"
      ],
      "metadata": {
        "id": "Hco1XNSMQ8KE"
      }
    },
    {
      "cell_type": "code",
      "execution_count": null,
      "metadata": {
        "id": "8AWF27kyQQfR"
      },
      "outputs": [],
      "source": [
        "squares : list[int]  = []\n",
        "for x in range(1, 6):\n",
        "    squares.append(x**2)\n",
        "\n",
        "print(squares)"
      ]
    },
    {
      "cell_type": "markdown",
      "source": [
        "### The Solution: Simplify Code with List Comprehensions\n",
        "\n",
        "List comprehensions provide a more elegant and concise way to achieve the same result. We can generate the list of squares in a single line:\n"
      ],
      "metadata": {
        "id": "kItaQEjCRQc1"
      }
    },
    {
      "cell_type": "code",
      "source": [
        "squares : list[int] = [x**2 for x in range(1, 6)]\n",
        "print(squares)"
      ],
      "metadata": {
        "id": "ybezfIgrRRrz"
      },
      "execution_count": null,
      "outputs": []
    },
    {
      "cell_type": "markdown",
      "source": [
        "This approach is not only more readable but also often more efficient.\n",
        "\n",
        "## How List Comprehensions Work\n",
        "\n",
        "### Basic Syntax\n",
        "\n",
        "The basic syntax of a list comprehension is:\n",
        "\n",
        "```python\n",
        "[expression for item in iterable]\n",
        "```\n",
        "\n",
        "Where:\n",
        "- `expression` is the value to be included in the new list.It specifies what each item in the new list will look like\n",
        "- `item` represents each element in the `iterable` (e.g., list, range, etc.).\n",
        "- `iterable` is the collection or range we're iterating over.\n"
      ],
      "metadata": {
        "id": "OYUevrEYRgji"
      }
    },
    {
      "cell_type": "markdown",
      "source": [
        "### Example: Creating a List of Squares\n"
      ],
      "metadata": {
        "id": "_8phEkHKRptX"
      }
    },
    {
      "cell_type": "code",
      "source": [
        "squares : list[int] = [x**2 for x in range(1, 6)]\n",
        "print(squares)"
      ],
      "metadata": {
        "id": "XZGRJuN6Rqpw"
      },
      "execution_count": null,
      "outputs": []
    },
    {
      "cell_type": "markdown",
      "source": [
        "### Adding Conditions: Filtering with List Comprehensions\n",
        "\n",
        "We can add an optional condition to filter the elements being processed by the list comprehension.\n"
      ],
      "metadata": {
        "id": "WrQjnVPCR1U0"
      }
    },
    {
      "cell_type": "markdown",
      "source": [
        "#### Example1: Creating a List of Even Squares\n"
      ],
      "metadata": {
        "id": "BkhYFHOyR2YU"
      }
    },
    {
      "cell_type": "code",
      "source": [
        "even_squares : list[int] = [x**2 for x in range(1, 11) if x % 2 == 0]\n",
        "print(even_squares)"
      ],
      "metadata": {
        "id": "bXgsvi4_R53E"
      },
      "execution_count": null,
      "outputs": []
    },
    {
      "cell_type": "markdown",
      "source": [
        "In this example, the list comprehension includes only even numbers (i.e., `x % 2 == 0`) before calculating the square.\n",
        "*italicized text*"
      ],
      "metadata": {
        "id": "4pFf2m3kSB_w"
      }
    },
    {
      "cell_type": "markdown",
      "source": [
        "#### Example2: Creating a List of Even Squares\n"
      ],
      "metadata": {
        "id": "GierrjTEWFEl"
      }
    },
    {
      "cell_type": "code",
      "source": [
        "numbers: list[int] = [2, 4, 6, 8]\n",
        "squares: list[int] = []\n",
        "\n",
        "for number in numbers:\n",
        "    square = number**2\n",
        "    squares.append(square)\n",
        "    # squares.append(number**2)\n",
        "\n",
        "print(squares)"
      ],
      "metadata": {
        "id": "jnfwIgscWMDe"
      },
      "execution_count": null,
      "outputs": []
    },
    {
      "cell_type": "code",
      "source": [
        "# [expression for item in iterable]\n",
        "squares2 = [number**2 for number in numbers]\n",
        "print(squares2)"
      ],
      "metadata": {
        "id": "iuje3YnmWS3z"
      },
      "execution_count": null,
      "outputs": []
    },
    {
      "cell_type": "code",
      "source": [
        "# list of even square from 1 to 5 in range\n",
        "square3 :list[int] = [num**2 for num in range(1,6) if num % 2 == 0]\n",
        "print(square3)"
      ],
      "metadata": {
        "id": "LzocCsuyvOKy"
      },
      "execution_count": null,
      "outputs": []
    },
    {
      "cell_type": "markdown",
      "source": [
        "### Method Finding through List Comprehension"
      ],
      "metadata": {
        "id": "8yzLO_3rWjZ4"
      }
    },
    {
      "cell_type": "code",
      "source": [
        "print(dir(str))\n",
        "methods = [method for method in dir(str) if '__' not in method]\n",
        "print(methods)"
      ],
      "metadata": {
        "id": "VPy7MsutWrNB"
      },
      "execution_count": null,
      "outputs": []
    },
    {
      "cell_type": "markdown",
      "source": [
        "### Ternary Operator with List Comprehension\n",
        "syntax:\n",
        "\n",
        "`[expression_if_true if condition else expression_if_false for item in iterable]\n",
        "`"
      ],
      "metadata": {
        "id": "wq0syTlxoIW1"
      }
    },
    {
      "cell_type": "code",
      "source": [
        "list_num : list[int] = [1, 2, 3, 4, 5, 6, 7, 8, 9, 10]\n",
        "list_str : list[str] = [\"Even\" if x%2== 0 else \"Odd\" for x in list_num]\n",
        "print(list_str)"
      ],
      "metadata": {
        "id": "4eERiPYioZGZ"
      },
      "execution_count": null,
      "outputs": []
    },
    {
      "cell_type": "markdown",
      "source": [
        "## Conclusion\n",
        "\n",
        "List comprehensions are a powerful feature in Python that allows for clean, concise, and efficient list creation. Whether we're generating simple lists or working with more complex data transformations, list comprehensions can significantly streamline our code."
      ],
      "metadata": {
        "id": "JCpveJX9SaAi"
      }
    },
    {
      "cell_type": "markdown",
      "source": [
        "## Projects\n"
      ],
      "metadata": {
        "id": "yZArYIwDLv4m"
      }
    },
    {
      "cell_type": "markdown",
      "source": [
        "### Project 1: List of Squares\n",
        "Write a program using list comprehension to:\n",
        "- Generate a list of squares for numbers from 1 to 20.\n",
        "- Filter the list to include only even squares.\n"
      ],
      "metadata": {
        "id": "8ZotircpLyhr"
      }
    },
    {
      "cell_type": "markdown",
      "source": [
        "### Project 2: Method Finder\n",
        "Create a Python program to:\n",
        "- Use list comprehension to retrieve all methods of a given object (e.g., `list`).\n",
        "- Filter out methods that start and end with double underscores.\n"
      ],
      "metadata": {
        "id": "-LOoINcqL36D"
      }
    },
    {
      "cell_type": "markdown",
      "source": [
        "### Project 3: Temperature Converter\n",
        "Develop a Python script to:\n",
        "- Create a list of celsius temperature\n",
        "- Convert the list of temperatures in Celsius to Fahrenheit using list comprehension.\n",
        "- using formula i.e. F=(C×\n",
        "5/\n",
        "9\n",
        "​\n",
        " )+32"
      ],
      "metadata": {
        "id": "8zW__u-VL8Yh"
      }
    },
    {
      "cell_type": "markdown",
      "source": [
        "### Project 4: Common Elements Finder\n",
        "Create a program to:\n",
        "- Create two lists\n",
        "- Use list comprehension to find the common elements between the two lists.\n",
        "- Return a new list of the common elements.\n"
      ],
      "metadata": {
        "id": "-ljl42tEL_NS"
      }
    },
    {
      "cell_type": "markdown",
      "source": [
        "### Project 5: Filter Names\n",
        "Design a Python script that:\n",
        "- Takes a list of names.\n",
        "- Uses list comprehension to filter names starting with a specific letter provided by the user.\n",
        "- using string function startswith() for filter names"
      ],
      "metadata": {
        "id": "7cFZyZJqMDhR"
      }
    },
    {
      "cell_type": "markdown",
      "source": [
        "### Project 6: Vowel Counter\n",
        "Write a program to:\n",
        "- Accept a sentence from the user.\n",
        "- Use list comprehension to count the number of vowels in the sentence."
      ],
      "metadata": {
        "id": "CcZpILHwMGn0"
      }
    }
  ]
}